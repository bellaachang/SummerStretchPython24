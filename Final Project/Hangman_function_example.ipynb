{
 "cells": [
  {
   "cell_type": "code",
   "execution_count": 1,
   "id": "b27b64fe-d52e-41a7-be4b-d038edb113cb",
   "metadata": {},
   "outputs": [],
   "source": [
    "#!pip install random-word\n",
    "import random\n",
    "import random_word\n",
    "from random_word import RandomWords"
   ]
  },
  {
   "cell_type": "code",
   "execution_count": 6,
   "id": "c17fd22e-e7ce-44d1-9849-af61c97b3521",
   "metadata": {
    "scrolled": true
   },
   "outputs": [
    {
     "data": {
      "text/plain": [
       "'calligraphers'"
      ]
     },
     "execution_count": 6,
     "metadata": {},
     "output_type": "execute_result"
    }
   ],
   "source": [
    "r = RandomWords()\n",
    "# Return a single random word\n",
    "r.get_random_word()"
   ]
  },
  {
   "cell_type": "code",
   "execution_count": 43,
   "id": "9d0b909e-1168-417a-b854-1a83f6ecc419",
   "metadata": {},
   "outputs": [],
   "source": [
    "def difficulty():\n",
    "    diff_lvl = input('Welcome to hangman! What is the difficulty level that you would like to choose? Pick from easy and hard.')\n",
    "    try:\n",
    "        diff_lvl = diff_lvl.lower()\n",
    "    except Exception as e:\n",
    "        print('Error! Pick from easy and hard. Please put in words only.')\n",
    "        return None\n",
    "    if diff_lvl == 'hard':\n",
    "        words = RandomWords()\n",
    "        word = words.get_random_word()\n",
    "    elif diff_lvl == 'easy':\n",
    "        words = ['transportation','python','superstar','generation','class']\n",
    "        word = random.choice(words)\n",
    "    return word\n",
    "\n",
    "def hangman():\n",
    "    try:\n",
    "        word = difficulty()\n",
    "    except Exception as e:\n",
    "        print('Error! Pick from easy and hard.')\n",
    "        return None\n",
    "    guesses = [\"_\"] * len(word)\n",
    "    print(\" \".join(guesses))\n",
    "\n",
    "    attempts = 6\n",
    "    guessed = []\n",
    "    while attempts > 0 and \"_\" in guesses:\n",
    "\n",
    "        guess = input(\"Guess a letter!\").lower()\n",
    "        \n",
    "        if guess in guessed:\n",
    "            print(f'{guess} is already guessed!')\n",
    "        elif guess in word:\n",
    "            for i, letter in enumerate(word):\n",
    "                #print(i,letter)\n",
    "                if letter == guess:\n",
    "                    guesses[i] = guess\n",
    "            print('Correct!' + \" \".join(guesses))\n",
    "        else:\n",
    "            attempts = attempts - 1\n",
    "            print(f'incorrect,{attempts} attempts remaining')\n",
    "            \n",
    "        guessed.append(guess)\n",
    "        \n",
    "    if '_' not in guesses:\n",
    "        print('Win!')\n",
    "\n",
    "    else:\n",
    "        print(f'lost!, the word is {word}')"
   ]
  },
  {
   "cell_type": "code",
   "execution_count": null,
   "id": "cda630b6-4b57-4aeb-828b-e2ea467776a8",
   "metadata": {},
   "outputs": [
    {
     "name": "stdin",
     "output_type": "stream",
     "text": [
      "Welcome to hangman! What is the difficulty level that you would like to choose? Pick from easy and hard. easy\n"
     ]
    },
    {
     "name": "stdout",
     "output_type": "stream",
     "text": [
      "_ _ _ _ _ _ _ _ _\n"
     ]
    }
   ],
   "source": [
    "hangman()"
   ]
  },
  {
   "cell_type": "code",
   "execution_count": null,
   "id": "83a9e816-07dc-432f-955a-8d46b6df5fae",
   "metadata": {},
   "outputs": [],
   "source": []
  }
 ],
 "metadata": {
  "kernelspec": {
   "display_name": "Python 3 (ipykernel)",
   "language": "python",
   "name": "python3"
  },
  "language_info": {
   "codemirror_mode": {
    "name": "ipython",
    "version": 3
   },
   "file_extension": ".py",
   "mimetype": "text/x-python",
   "name": "python",
   "nbconvert_exporter": "python",
   "pygments_lexer": "ipython3",
   "version": "3.11.7"
  }
 },
 "nbformat": 4,
 "nbformat_minor": 5
}
