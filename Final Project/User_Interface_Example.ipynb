{
 "cells": [
  {
   "cell_type": "code",
   "execution_count": 2,
   "id": "56bf14ac-a6be-4850-850d-9e6e61850287",
   "metadata": {},
   "outputs": [],
   "source": [
    "#https://docs.python.org/3/library/tkinter.html"
   ]
  },
  {
   "cell_type": "markdown",
   "id": "6985782b-953b-4053-a16f-8e60078fdb40",
   "metadata": {},
   "source": [
    "### Simple Calculator"
   ]
  },
  {
   "cell_type": "code",
   "execution_count": 5,
   "id": "e69d5e5a-ad6f-4ec6-8818-5a19bfc4b254",
   "metadata": {},
   "outputs": [],
   "source": [
    "import tkinter as tk\n",
    "\n",
    "def on_click(event):\n",
    "    current_text = display.get()\n",
    "    new_text = current_text + event.widget.cget(\"text\")\n",
    "    display.set(new_text)\n",
    "\n",
    "def calculate():\n",
    "    try:\n",
    "        result = eval(display.get())\n",
    "        display.set(result)\n",
    "    except Exception as e:\n",
    "        display.set(\"Error\")\n",
    "\n",
    "root = tk.Tk()\n",
    "root.title(\"Simple Calculator\")\n",
    "\n",
    "def clear_display():\n",
    "    display.set(\"\")\n",
    "\n",
    "\n",
    "display = tk.StringVar()\n",
    "\n",
    "entry = tk.Entry(root, textvariable=display, font=('Arial', 20), borderwidth=5)\n",
    "entry.grid(row=0, column=0, columnspan=4)\n",
    "\n",
    "buttons = [\n",
    "    '7', '8', '9', '/', \n",
    "    '4', '5', '6', '*', \n",
    "    '1', '2', '3', '-', \n",
    "    '0', '.', '=', '+',\n",
    "    'CE'\n",
    "]\n",
    "\n",
    "row = 1\n",
    "col = 0\n",
    "\n",
    "for button in buttons:\n",
    "    b = tk.Button(root, text=button, font=('Arial', 20), width=4, height=2)\n",
    "    b.grid(row=row, column=col)\n",
    "    if button == \"=\":\n",
    "        b.bind(\"<Button-1>\", lambda event: calculate())\n",
    "    elif button == \"CE\":\n",
    "        b.bind(\"<Button-1>\", lambda event: clear_display())\n",
    "    else:\n",
    "        b.bind(\"<Button-1>\", on_click)\n",
    "    \n",
    "    col += 1\n",
    "    if col > 3:\n",
    "        col = 0\n",
    "        row += 1\n",
    "\n",
    "root.mainloop()"
   ]
  },
  {
   "cell_type": "code",
   "execution_count": 3,
   "id": "152dd1e7-95c5-4841-949b-985be39cfedd",
   "metadata": {},
   "outputs": [],
   "source": [
    "import tkinter as tk\n",
    "from tkinter import messagebox\n",
    "\n",
    "def add_task():\n",
    "    task = task_entry.get()\n",
    "    if task:\n",
    "        task_listbox.insert(tk.END, task)\n",
    "        task_entry.delete(0, tk.END)\n",
    "    else:\n",
    "        messagebox.showwarning(\"Warning\", \"You must enter a task.\")\n",
    "\n",
    "def delete_task():\n",
    "    selected_task_index = task_listbox.curselection()\n",
    "    if selected_task_index:\n",
    "        task_listbox.delete(selected_task_index)\n",
    "    else:\n",
    "        messagebox.showwarning(\"Warning\", \"You must select a task to delete.\")\n",
    "\n",
    "root = tk.Tk()\n",
    "root.title(\"To-Do List\")\n",
    "\n",
    "task_entry = tk.Entry(root, font=('Arial', 14))\n",
    "task_entry.pack(pady=10)\n",
    "\n",
    "add_button = tk.Button(root, text=\"Add Task\", font=('Arial', 14), command=add_task)\n",
    "add_button.pack(pady=5)\n",
    "\n",
    "task_listbox = tk.Listbox(root, font=('Arial', 14), width=50, height=10)\n",
    "task_listbox.pack(pady=10)\n",
    "\n",
    "delete_button = tk.Button(root, text=\"Delete Task\", font=('Arial', 14), command=delete_task)\n",
    "delete_button.pack(pady=5)\n",
    "\n",
    "root.mainloop()"
   ]
  },
  {
   "cell_type": "code",
   "execution_count": null,
   "id": "1570c7d8-ff46-4de2-abdd-0054afb979f5",
   "metadata": {},
   "outputs": [],
   "source": []
  }
 ],
 "metadata": {
  "kernelspec": {
   "display_name": "Python 3 (ipykernel)",
   "language": "python",
   "name": "python3"
  },
  "language_info": {
   "codemirror_mode": {
    "name": "ipython",
    "version": 3
   },
   "file_extension": ".py",
   "mimetype": "text/x-python",
   "name": "python",
   "nbconvert_exporter": "python",
   "pygments_lexer": "ipython3",
   "version": "3.11.7"
  }
 },
 "nbformat": 4,
 "nbformat_minor": 5
}
