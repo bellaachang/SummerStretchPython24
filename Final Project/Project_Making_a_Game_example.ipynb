{
 "cells": [
  {
   "cell_type": "code",
   "execution_count": 8,
   "id": "8b212d22-62c3-4433-b8df-cee13635e653",
   "metadata": {},
   "outputs": [
    {
     "name": "stdout",
     "output_type": "stream",
     "text": [
      "Welcome to Hangman!\n",
      "_ _ _ _ _ _ _ _ _ _ _ _ _\n"
     ]
    },
    {
     "name": "stdin",
     "output_type": "stream",
     "text": [
      "Guess a letter:  g\n"
     ]
    },
    {
     "name": "stdout",
     "output_type": "stream",
     "text": [
      "Incorrect! You have 5 attempts left.\n"
     ]
    },
    {
     "name": "stdin",
     "output_type": "stream",
     "text": [
      "Guess a letter:  a\n"
     ]
    },
    {
     "name": "stdout",
     "output_type": "stream",
     "text": [
      "Correct! _ _ _ _ _ _ _ _ _ a _ _ _\n"
     ]
    },
    {
     "name": "stdin",
     "output_type": "stream",
     "text": [
      "Guess a letter:  z\n"
     ]
    },
    {
     "name": "stdout",
     "output_type": "stream",
     "text": [
      "Incorrect! You have 4 attempts left.\n"
     ]
    },
    {
     "name": "stdin",
     "output_type": "stream",
     "text": [
      "Guess a letter:  b\n"
     ]
    },
    {
     "name": "stdout",
     "output_type": "stream",
     "text": [
      "Correct! _ _ _ _ _ _ _ _ _ a b _ _\n"
     ]
    },
    {
     "name": "stdin",
     "output_type": "stream",
     "text": [
      "Guess a letter:  l\n"
     ]
    },
    {
     "name": "stdout",
     "output_type": "stream",
     "text": [
      "Correct! _ _ _ _ _ _ _ _ _ a b l _\n"
     ]
    },
    {
     "name": "stdin",
     "output_type": "stream",
     "text": [
      "Guess a letter:  e\n"
     ]
    },
    {
     "name": "stdout",
     "output_type": "stream",
     "text": [
      "Correct! _ _ _ _ _ _ _ _ _ a b l e\n"
     ]
    },
    {
     "name": "stdin",
     "output_type": "stream",
     "text": [
      "Guess a letter:  u\n"
     ]
    },
    {
     "name": "stdout",
     "output_type": "stream",
     "text": [
      "Incorrect! You have 3 attempts left.\n"
     ]
    },
    {
     "name": "stdin",
     "output_type": "stream",
     "text": [
      "Guess a letter:  f\n"
     ]
    },
    {
     "name": "stdout",
     "output_type": "stream",
     "text": [
      "Correct! _ _ _ _ _ _ _ f _ a b l e\n"
     ]
    },
    {
     "name": "stdin",
     "output_type": "stream",
     "text": [
      "Guess a letter:  o\n"
     ]
    },
    {
     "name": "stdout",
     "output_type": "stream",
     "text": [
      "Incorrect! You have 2 attempts left.\n"
     ]
    },
    {
     "name": "stdin",
     "output_type": "stream",
     "text": [
      "Guess a letter:  h\n"
     ]
    },
    {
     "name": "stdout",
     "output_type": "stream",
     "text": [
      "Incorrect! You have 1 attempts left.\n"
     ]
    },
    {
     "name": "stdin",
     "output_type": "stream",
     "text": [
      "Guess a letter:  p\n"
     ]
    },
    {
     "name": "stdout",
     "output_type": "stream",
     "text": [
      "Incorrect! You have 0 attempts left.\n",
      "Game over! The word was invitrifiable.\n"
     ]
    }
   ],
   "source": [
    "import random\n",
    "import random_word\n",
    "from random_word import RandomWords\n",
    "\n",
    "def hangman():\n",
    "    # You can precode the answer:\n",
    "    #words = [\"python\", \"javascript\", \"hangman\", \"programming\",\"uniaxial\",\"\"]\n",
    "    #word = random.choice(words)\n",
    "    # Or you can generate a random word\n",
    "    word = RandomWords().get_random_word()\n",
    "    \n",
    "    guessed_word = [\"_\"] * len(word)\n",
    "    attempts = 6\n",
    "    guessed_letters = set()\n",
    "    \n",
    "    print(\"Welcome to Hangman!\")\n",
    "    print(\" \".join(guessed_word))\n",
    "    \n",
    "    while attempts > 0 and \"_\" in guessed_word:\n",
    "        guess = input(\"Guess a letter: \").lower()\n",
    "        \n",
    "        if guess in guessed_letters:\n",
    "            print(\"You've already guessed that letter.\")\n",
    "        elif guess in word:\n",
    "            for i, letter in enumerate(word):\n",
    "                if letter == guess:\n",
    "                    guessed_word[i] = guess\n",
    "            print(\"Correct! \" + \" \".join(guessed_word))\n",
    "        else:\n",
    "            attempts -= 1\n",
    "            print(f\"Incorrect! You have {attempts} attempts left.\")\n",
    "        \n",
    "        guessed_letters.add(guess)\n",
    "\n",
    "    if \"_\" not in guessed_word:\n",
    "        print(\"Congratulations! You've won!\")\n",
    "    else:\n",
    "        print(f\"Game over! The word was {word}.\")\n",
    "\n",
    "hangman()"
   ]
  },
  {
   "cell_type": "code",
   "execution_count": 5,
   "id": "994a2acf-b72f-4596-8a8f-7c0e67e95436",
   "metadata": {},
   "outputs": [],
   "source": []
  },
  {
   "cell_type": "code",
   "execution_count": 6,
   "id": "1a5b5e40-fe73-4227-b8e5-36cc23e8dfe5",
   "metadata": {},
   "outputs": [
    {
     "data": {
      "text/plain": [
       "'sirloins'"
      ]
     },
     "execution_count": 6,
     "metadata": {},
     "output_type": "execute_result"
    }
   ],
   "source": []
  },
  {
   "cell_type": "code",
   "execution_count": null,
   "id": "b5d9d34f-2c4d-4c94-a8c4-43f3b8840854",
   "metadata": {},
   "outputs": [],
   "source": []
  }
 ],
 "metadata": {
  "kernelspec": {
   "display_name": "Python 3 (ipykernel)",
   "language": "python",
   "name": "python3"
  },
  "language_info": {
   "codemirror_mode": {
    "name": "ipython",
    "version": 3
   },
   "file_extension": ".py",
   "mimetype": "text/x-python",
   "name": "python",
   "nbconvert_exporter": "python",
   "pygments_lexer": "ipython3",
   "version": "3.11.7"
  }
 },
 "nbformat": 4,
 "nbformat_minor": 5
}
