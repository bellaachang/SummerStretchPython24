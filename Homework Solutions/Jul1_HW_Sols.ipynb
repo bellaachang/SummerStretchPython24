{
 "cells": [
  {
   "cell_type": "code",
   "execution_count": 9,
   "id": "71209ee3-6dcc-4ef0-a7a6-0ce7af53098b",
   "metadata": {},
   "outputs": [],
   "source": [
    "import math\n",
    "from math import pi as pi\n",
    "from math import sqrt as sqrt\n",
    "from math import sin,cos as sin,cos\n",
    "from math import log2"
   ]
  },
  {
   "cell_type": "markdown",
   "id": "e60e1d5d-b5f6-4f4c-b252-9e743f9933ae",
   "metadata": {},
   "source": [
    "#### 1. Calculate: \n",
    "$$\n",
    "\\sqrt{\\left(\\frac{8 \\times 30}{20}\\right) \\% 23}\n",
    "$$"
   ]
  },
  {
   "cell_type": "code",
   "execution_count": 2,
   "id": "d887f57b-6395-456d-b726-1e05daf54a4b",
   "metadata": {},
   "outputs": [
    {
     "data": {
      "text/plain": [
       "3.4641016151377544"
      ]
     },
     "execution_count": 2,
     "metadata": {},
     "output_type": "execute_result"
    }
   ],
   "source": [
    "sqrt((8*30/20)%23)"
   ]
  },
  {
   "cell_type": "markdown",
   "id": "10c2a54b-d57c-492c-865f-fe592ef3f363",
   "metadata": {},
   "source": [
    "$$\n",
    "3^2 + 4^2\n",
    "$$"
   ]
  },
  {
   "cell_type": "code",
   "execution_count": 3,
   "id": "439c0840-d231-4206-bad1-2ee773df143f",
   "metadata": {},
   "outputs": [
    {
     "data": {
      "text/plain": [
       "25"
      ]
     },
     "execution_count": 3,
     "metadata": {},
     "output_type": "execute_result"
    }
   ],
   "source": [
    "3**2 + 4 ** 2"
   ]
  },
  {
   "cell_type": "markdown",
   "id": "0d156762-fdec-4b92-b390-e458ebe4d380",
   "metadata": {},
   "source": [
    "$$\n",
    "5x - 7 < 3 \\quad \\text{for} \\quad x < 2\n",
    "$$"
   ]
  },
  {
   "cell_type": "code",
   "execution_count": 4,
   "id": "7b2447b4-927c-458e-a4af-71a61f535b60",
   "metadata": {},
   "outputs": [
    {
     "data": {
      "text/plain": [
       "True"
      ]
     },
     "execution_count": 4,
     "metadata": {},
     "output_type": "execute_result"
    }
   ],
   "source": [
    "x = 1\n",
    "5 * x - 7 < 3"
   ]
  },
  {
   "cell_type": "markdown",
   "id": "039eb7df-1bed-4e0e-8050-69a407b4ceb9",
   "metadata": {},
   "source": [
    "$$\n",
    "\\frac{2 + \\frac{3}{4}}{1 - \\frac{5}{6}} = ?\n",
    "$$"
   ]
  },
  {
   "cell_type": "code",
   "execution_count": 5,
   "id": "d870c76f-0a92-43c1-b36c-7639d1bfeb70",
   "metadata": {},
   "outputs": [
    {
     "data": {
      "text/plain": [
       "16.500000000000004"
      ]
     },
     "execution_count": 5,
     "metadata": {},
     "output_type": "execute_result"
    }
   ],
   "source": [
    "(2+3/4)/(1-5/6)"
   ]
  },
  {
   "cell_type": "markdown",
   "id": "13dd3386-bbcd-4420-a0eb-07efe7ffa12c",
   "metadata": {},
   "source": [
    "$$\n",
    "\\theta = \\pi, \\sin^2(\\theta) + \\cos^2(\\theta) = ?\n",
    "$$"
   ]
  },
  {
   "cell_type": "code",
   "execution_count": 7,
   "id": "b24c905c-47c3-40df-8d63-24e2588ab061",
   "metadata": {},
   "outputs": [
    {
     "data": {
      "text/plain": [
       "2.0"
      ]
     },
     "execution_count": 7,
     "metadata": {},
     "output_type": "execute_result"
    }
   ],
   "source": [
    "theta = pi\n",
    "sin(theta)**2 + cos(theta)**2"
   ]
  },
  {
   "cell_type": "markdown",
   "id": "567e4e03-3314-4206-93b0-474ea966090a",
   "metadata": {},
   "source": [
    "$$\n",
    "\\log_2(2) + \\log_2(3)\n",
    "$$"
   ]
  },
  {
   "cell_type": "code",
   "execution_count": 10,
   "id": "93d24b99-6c89-4551-9d2c-d29e8613c271",
   "metadata": {},
   "outputs": [
    {
     "data": {
      "text/plain": [
       "2.584962500721156"
      ]
     },
     "execution_count": 10,
     "metadata": {},
     "output_type": "execute_result"
    }
   ],
   "source": [
    "log2(2) + log2(3)"
   ]
  }
 ],
 "metadata": {
  "kernelspec": {
   "display_name": "Python 3 (ipykernel)",
   "language": "python",
   "name": "python3"
  },
  "language_info": {
   "codemirror_mode": {
    "name": "ipython",
    "version": 3
   },
   "file_extension": ".py",
   "mimetype": "text/x-python",
   "name": "python",
   "nbconvert_exporter": "python",
   "pygments_lexer": "ipython3",
   "version": "3.11.7"
  }
 },
 "nbformat": 4,
 "nbformat_minor": 5
}
