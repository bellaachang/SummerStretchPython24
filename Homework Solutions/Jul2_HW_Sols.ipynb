{
 "cells": [
  {
   "cell_type": "markdown",
   "id": "6415a562-ce80-4c2a-93e8-62798df891a4",
   "metadata": {},
   "source": [
    "# UW Summer Stretch -- Introduction to Programming in Python "
   ]
  },
  {
   "cell_type": "markdown",
   "id": "df4f1660-96de-4fe1-87b0-b488fa4925ec",
   "metadata": {},
   "source": [
    "## HW 2: Variables, Data Types, and Basic Operations"
   ]
  },
  {
   "cell_type": "markdown",
   "id": "a0e2883a-9375-4f0d-9230-215089a0e1c3",
   "metadata": {},
   "source": [
    "The conduction of grading is reflected in the following table. "
   ]
  },
  {
   "cell_type": "markdown",
   "id": "b99cfd12-5a05-48c6-a170-e7f1064d0a26",
   "metadata": {},
   "source": [
    "| Question | Points | \n",
    "|:--------:|:--------:|\n",
    "|  1a   |  1   | \n",
    "|  1b   |  1   | \n",
    "|  2a   |  2   | \n",
    "|  2b   |  1   | \n",
    "|  3a   |  2   | \n",
    "|  3b   |  2   | \n",
    "|  3c   |  3   | \n",
    "|  4a   |  2   |\n",
    "|  4b   |  2   |\n",
    "|  **Total**   |  **16**   |"
   ]
  },
  {
   "cell_type": "markdown",
   "id": "4ef3db46-5766-4e2e-b9ea-e0ec55cbb125",
   "metadata": {},
   "source": [
    "### Question 1: Strings and Slices"
   ]
  },
  {
   "cell_type": "markdown",
   "id": "7677e019-306a-4ed8-902b-74e2e1ce09b8",
   "metadata": {},
   "source": [
    "Strings can be manipulated by **indexing** into them. This is indicated by a bracket with an integer i. "
   ]
  },
  {
   "cell_type": "markdown",
   "id": "c52a381c-8f71-49e8-8592-a6e15296f158",
   "metadata": {},
   "source": [
    "For example, if a string 'apple' is assigned to the variable `a`, then grabbing the second character of `a` can be done by indexing into `a` with i = 1. This is because Python uses 0-indexing, meaning the first character is in the 0th place, the second character is in the 1st place, etc. Thus, grabbing the character 'p' from 'apple' can be conducted by coding `a[1]`."
   ]
  },
  {
   "cell_type": "markdown",
   "id": "b9631b77-4a76-4463-97c8-c817d26947ba",
   "metadata": {},
   "source": [
    "**1a) Write code that outputs 'u' using string indexing.**"
   ]
  },
  {
   "cell_type": "code",
   "execution_count": 2,
   "id": "414be676-89cb-4069-974f-586b10321034",
   "metadata": {},
   "outputs": [
    {
     "data": {
      "text/plain": [
       "'u'"
      ]
     },
     "execution_count": 2,
     "metadata": {},
     "output_type": "execute_result"
    }
   ],
   "source": [
    "bb = 'blueberry'\n",
    "bb[2] #REPLACE '...' WITH CODE "
   ]
  },
  {
   "cell_type": "markdown",
   "id": "281b7400-2485-417f-8f6e-5036dddf4c5d",
   "metadata": {},
   "source": [
    "You can also grab a substring of a string using the colon symbol. You can specify an ending character position (exclusive), a beginning character position, or both. See the below example."
   ]
  },
  {
   "cell_type": "code",
   "execution_count": 51,
   "id": "6282e292-a594-4de0-b7a8-9c2c44955ea1",
   "metadata": {},
   "outputs": [
    {
     "name": "stdout",
     "output_type": "stream",
     "text": [
      "berry\n",
      "berry\n",
      "straw\n"
     ]
    }
   ],
   "source": [
    "## Substring example\n",
    "string_ex = 'strawberry'\n",
    "substr_berry = string_ex[5:10]\n",
    "print(substr_berry)\n",
    "\n",
    "substr_berry2 = string_ex[5:]\n",
    "print(substr_berry2) #Notice it's the same output!\n",
    "\n",
    "substr_straw = string_ex[:5]\n",
    "print(substr_straw)"
   ]
  },
  {
   "cell_type": "markdown",
   "id": "bb36f830-84b3-4df2-8a19-39535411f570",
   "metadata": {},
   "source": [
    "**1b) Find 3 new words that belong in the defined variable. Assign them each to the names `substr1`, `substr2`, and `substr3`, respectively.**"
   ]
  },
  {
   "cell_type": "code",
   "execution_count": 12,
   "id": "9459ddab-6347-4b4c-9bed-698f55a40f7b",
   "metadata": {},
   "outputs": [
    {
     "data": {
      "text/plain": [
       "'less'"
      ]
     },
     "execution_count": 12,
     "metadata": {},
     "output_type": "execute_result"
    }
   ],
   "source": [
    "x = 'nonetheless'\n",
    "substr1 = x[:4]\n",
    "substr2 = x[4:7]\n",
    "substr3 = x[7:]"
   ]
  },
  {
   "cell_type": "markdown",
   "id": "fb69945e-793a-4f1b-8c8c-fa75f062a9de",
   "metadata": {},
   "source": [
    "### Question 2: Identi-variable"
   ]
  },
  {
   "cell_type": "markdown",
   "id": "e8ce5211-89b4-4709-8f31-28364964f717",
   "metadata": {},
   "source": [
    "**2a) Write an introduction for yourself in the next cell using the variables `name`, `age` and `grade`. Print the introduction after defining these variables.**"
   ]
  },
  {
   "cell_type": "markdown",
   "id": "2acc5864-4b58-4026-b93e-0f7082e223f6",
   "metadata": {},
   "source": [
    "You can search online for a way to print with variables!"
   ]
  },
  {
   "cell_type": "code",
   "execution_count": 18,
   "id": "54f23f0b-fa07-4c41-834c-4ead58222566",
   "metadata": {},
   "outputs": [
    {
     "name": "stdout",
     "output_type": "stream",
     "text": [
      "Hi! My name is  Bella Chang and my age is 22 and my grade is None .\n"
     ]
    }
   ],
   "source": [
    "name = 'Bella Chang'\n",
    "age = 22\n",
    "grade = None\n",
    "print(\"Hi! My name is \", name, \"and my age is\", age, \"and my grade is\", grade, \".\")"
   ]
  },
  {
   "cell_type": "markdown",
   "id": "c7880f0a-5fb9-46f1-b2e3-2ece385e48da",
   "metadata": {},
   "source": [
    "**2b) What are the types of each variable in 2a? Select from the options below and assign each variable to a letter.** <br>"
   ]
  },
  {
   "cell_type": "markdown",
   "id": "05940098-4d3e-47d6-bf5e-798eeeb58be4",
   "metadata": {},
   "source": [
    "For example: grade_type = 'd'"
   ]
  },
  {
   "cell_type": "markdown",
   "id": "60fc3ab4-321e-476e-b59a-57fc66afcd16",
   "metadata": {},
   "source": [
    "(a) Float <br>\n",
    "(b) Int <br>\n",
    "(c) Str"
   ]
  },
  {
   "cell_type": "code",
   "execution_count": 20,
   "id": "25f01332-275e-402c-bb69-4fd86178a57a",
   "metadata": {},
   "outputs": [],
   "source": [
    "name_type = 'c'\n",
    "age_type = 'b'\n",
    "grade_type = 'b'"
   ]
  },
  {
   "cell_type": "markdown",
   "id": "34c43707-a465-4264-96c3-843aa8789938",
   "metadata": {},
   "source": [
    "### Question 3: Geometr-ython"
   ]
  },
  {
   "cell_type": "markdown",
   "id": "15d16359-89b7-4671-88fb-5af7cd9f5f3e",
   "metadata": {},
   "source": [
    "*Note: We will learn functions in a future class, so just fill out the '...' portions for now.* "
   ]
  },
  {
   "cell_type": "markdown",
   "id": "be4f0f12-be00-43d8-8eca-aba688011a68",
   "metadata": {},
   "source": [
    "**3a) Finish the function to write the area and perimeter formulas for a triangle.**"
   ]
  },
  {
   "cell_type": "code",
   "execution_count": 22,
   "id": "66d6b0e8-a92f-4a4e-a0e3-22883eac8579",
   "metadata": {},
   "outputs": [],
   "source": [
    "def triangle_area(base, height):\n",
    "    area = 0.5 * base * height\n",
    "    return area "
   ]
  },
  {
   "cell_type": "code",
   "execution_count": 26,
   "id": "530cc5a7-7646-46fc-a09b-d3246f7db872",
   "metadata": {},
   "outputs": [
    {
     "data": {
      "text/plain": [
       "True"
      ]
     },
     "execution_count": 26,
     "metadata": {},
     "output_type": "execute_result"
    }
   ],
   "source": [
    "# Tests for checking (optional)\n",
    "triangle_area(5, 10) == 25\n",
    "triangle_area(2, 3) == 2\n",
    "triangle_area(25, 42) == 525"
   ]
  },
  {
   "cell_type": "markdown",
   "id": "2a1fd064-22e1-444c-98b2-180d9daca0b5",
   "metadata": {},
   "source": [
    "You can import pi using a Python library, which we've imported below. `math.pi` can then be referenced as a variable."
   ]
  },
  {
   "cell_type": "code",
   "execution_count": 29,
   "id": "3bd17c16-2d73-4d6d-ab44-2014bdcc04f0",
   "metadata": {},
   "outputs": [],
   "source": [
    "import math"
   ]
  },
  {
   "cell_type": "markdown",
   "id": "8ae20237-bdf9-448e-873a-04aa5082ac5a",
   "metadata": {},
   "source": [
    "**3b) Finish the function to write the area and circumference of a sphere. (Beware of the input!)**"
   ]
  },
  {
   "cell_type": "code",
   "execution_count": 43,
   "id": "e031497b-825b-41a8-8f59-8f95973754a5",
   "metadata": {},
   "outputs": [],
   "source": [
    "def sphere_formulas(diam):\n",
    "    volume = 4/3 * math.pi * ((diam/2)**3)\n",
    "    circum = 2 * math.pi * (diam/2)\n",
    "    return volume, circum"
   ]
  },
  {
   "cell_type": "code",
   "execution_count": 51,
   "id": "73308071-394c-473c-ac5c-b01c556fcbfc",
   "metadata": {},
   "outputs": [
    {
     "data": {
      "text/plain": [
       "True"
      ]
     },
     "execution_count": 51,
     "metadata": {},
     "output_type": "execute_result"
    }
   ],
   "source": [
    "# Tests for checking (optional)\n",
    "sphere_formulas(8) == (268.082573106329, 25.132741228718345)\n",
    "sphere_formulas(30) == (14137.166941154068, 94.24777960769379)"
   ]
  },
  {
   "cell_type": "markdown",
   "id": "1267a84b-9ec3-4281-959a-cef762e0d00c",
   "metadata": {},
   "source": [
    "**3c) Finish the function to write the curved surface area, total surface area, and volume of a right circular cone.**"
   ]
  },
  {
   "cell_type": "code",
   "execution_count": 63,
   "id": "65405d0b-f3cd-4d37-98d9-299e4d39474f",
   "metadata": {},
   "outputs": [],
   "source": [
    "def rcc_formulas(r, h, l):\n",
    "    'r is radius, h is height, l is slanted length'\n",
    "    curved_sa = math.pi * r * l\n",
    "    total_sa = (math.pi * (r + l)) * r\n",
    "    volume_sa = (math.pi * (r ** 2) * h) / 3\n",
    "    return curved_sa, total_sa, volume_sa"
   ]
  },
  {
   "cell_type": "code",
   "execution_count": 73,
   "id": "a92e7853-a4c2-4acb-9846-228aed831719",
   "metadata": {},
   "outputs": [
    {
     "data": {
      "text/plain": [
       "True"
      ]
     },
     "execution_count": 73,
     "metadata": {},
     "output_type": "execute_result"
    }
   ],
   "source": [
    "# Tests for checking (optional)\n",
    "rcc_formulas(3, 4, 5) == (47.12388980384689, 75.39822368615503, 37.69911184307752)\n",
    "rcc_formulas(5, 6, 8) == (125.66370614359172, 204.20352248333657, 157.07963267948966)\n",
    "rcc_formulas(7, 10, 13) == (285.88493147667117, 439.822971502571, 513.1268000863329)"
   ]
  },
  {
   "cell_type": "markdown",
   "id": "556732eb-4deb-4b38-8aac-3944efcb4591",
   "metadata": {},
   "source": [
    "### Question 4: The Floor's The Limit!"
   ]
  },
  {
   "cell_type": "markdown",
   "id": "df2f160a-684d-4374-b9ec-89fd62a09164",
   "metadata": {},
   "source": [
    "**4a) Write a mathematical statement WITHOUT using the floor function '//' that operates the same way as x // 2.**"
   ]
  },
  {
   "cell_type": "code",
   "execution_count": 57,
   "id": "fc6de65e-87ad-4acd-8601-72055ba07308",
   "metadata": {},
   "outputs": [
    {
     "name": "stdout",
     "output_type": "stream",
     "text": [
      "4\n"
     ]
    },
    {
     "data": {
      "text/plain": [
       "4"
      ]
     },
     "execution_count": 57,
     "metadata": {},
     "output_type": "execute_result"
    }
   ],
   "source": [
    "x = 9 #Dummy variable\n",
    "\n",
    "print(x // 2) #This is what you should get\n",
    "int(x / 2) #WRITE CODE HERE"
   ]
  },
  {
   "cell_type": "markdown",
   "id": "5e7f5c4d-df3c-4d85-be71-50f05c19247e",
   "metadata": {},
   "source": [
    "**4b) Write a mathematical statement WITHOUT using the modulo function '%' that operates the same way as x % 2.**"
   ]
  },
  {
   "cell_type": "code",
   "execution_count": 75,
   "id": "443530bc-c086-4ca2-aad8-d2355fef6d11",
   "metadata": {},
   "outputs": [
    {
     "name": "stdout",
     "output_type": "stream",
     "text": [
      "1\n"
     ]
    },
    {
     "data": {
      "text/plain": [
       "1"
      ]
     },
     "execution_count": 75,
     "metadata": {},
     "output_type": "execute_result"
    }
   ],
   "source": [
    "x = 9\n",
    "\n",
    "print(x % 2) #This is what you should get\n",
    "x - 2 * (x // 2) #WRITE CODE HERE"
   ]
  },
  {
   "cell_type": "markdown",
   "id": "d46bb068-7b02-4c32-92c4-511273ede877",
   "metadata": {},
   "source": [
    "## Congratulations! You finished HW 2!"
   ]
  }
 ],
 "metadata": {
  "kernelspec": {
   "display_name": "Python 3 (ipykernel)",
   "language": "python",
   "name": "python3"
  },
  "language_info": {
   "codemirror_mode": {
    "name": "ipython",
    "version": 3
   },
   "file_extension": ".py",
   "mimetype": "text/x-python",
   "name": "python",
   "nbconvert_exporter": "python",
   "pygments_lexer": "ipython3",
   "version": "3.11.7"
  }
 },
 "nbformat": 4,
 "nbformat_minor": 5
}
