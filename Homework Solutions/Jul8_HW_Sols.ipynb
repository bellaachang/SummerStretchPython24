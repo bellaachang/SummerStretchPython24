{
 "cells": [
  {
   "cell_type": "markdown",
   "id": "f36a4697-a784-4684-9917-d4b2e8eeefba",
   "metadata": {},
   "source": [
    "# UW Summer Stretch -- Introduction to Programming in Python "
   ]
  },
  {
   "cell_type": "markdown",
   "id": "9e3d36ae-09ca-47e0-b786-00fa25498841",
   "metadata": {},
   "source": [
    "## HW 8: Recursion"
   ]
  },
  {
   "cell_type": "markdown",
   "id": "68cc585c-0d97-4080-af1f-bb6c7b10f8c4",
   "metadata": {},
   "source": [
    "The conduction of grading is reflected in the following table. "
   ]
  },
  {
   "cell_type": "markdown",
   "id": "caaacc82-78e1-4aac-83ec-0e67661ff04c",
   "metadata": {},
   "source": [
    "| Question | Points | \n",
    "|:--------:|:--------:|\n",
    "|  1a   |  3   |\n",
    "|  1b   |  3   |\n",
    "|  2a   |  3   |\n",
    "|  2b   |  4   |\n",
    "|  2c   |  1   |\n",
    "|  2d   |  1   |\n",
    "|  3a   |  3   |\n",
    "|  3b   |  5   | \n",
    "|  3c   |  3   | \n",
    "|  4a   |  2   | \n",
    "|  **Total**   |  **27**   |"
   ]
  },
  {
   "cell_type": "markdown",
   "id": "8642ea00-65b4-4e10-a2d4-68fb95f6d279",
   "metadata": {},
   "source": [
    "### Question 1: Iterative Interruption!"
   ]
  },
  {
   "cell_type": "markdown",
   "id": "fa94e4d9-a4ae-467a-a4a9-872cabffd5b7",
   "metadata": {},
   "source": [
    "You and your friend John are playing basketball, but your friend Fatima is baking cookies and asks if you can check on them every 5 minutes. So you don't have to fully stop the game, you decide to code a for loop that prints out every minute as a number, except for any minute divisible by 5. In these cases, your for loop should output the string 'STOP!'"
   ]
  },
  {
   "cell_type": "markdown",
   "id": "3b03369f-a0f5-4f9c-b124-4a560e2013a4",
   "metadata": {},
   "source": [
    "So, your output should look like: 1, 2, 3, 4, STOP!, 6, 7, 8, 9, STOP!, 11, 12...."
   ]
  },
  {
   "cell_type": "markdown",
   "id": "e6139e84-9f41-482f-8dfd-e3ac0e7e9dc0",
   "metadata": {},
   "source": [
    "**1a) Iteratively output this sequence up to 30.**"
   ]
  },
  {
   "cell_type": "markdown",
   "id": "0019a8ec-0669-4ab7-8ea0-963ec44309fa",
   "metadata": {},
   "source": [
    "Hint: when thinking of a condition for producing this behavior, think about the usefulness of the mod (%) operator."
   ]
  },
  {
   "cell_type": "code",
   "execution_count": 13,
   "id": "1f87814a-1314-4a47-bca1-ec84c4d5278d",
   "metadata": {},
   "outputs": [
    {
     "name": "stdout",
     "output_type": "stream",
     "text": [
      "1\n",
      "2\n",
      "3\n",
      "4\n",
      "STOP!\n",
      "6\n",
      "7\n",
      "8\n",
      "9\n",
      "STOP!\n",
      "11\n",
      "12\n",
      "13\n",
      "14\n",
      "STOP!\n",
      "16\n",
      "17\n",
      "18\n",
      "19\n",
      "STOP!\n",
      "21\n",
      "22\n",
      "23\n",
      "24\n",
      "STOP!\n",
      "26\n",
      "27\n",
      "28\n",
      "29\n",
      "STOP!\n"
     ]
    }
   ],
   "source": [
    "for i in range(1, 31):\n",
    "    if i % 5 == 0:\n",
    "        print(\"STOP!\")\n",
    "    else:\n",
    "        print(i)"
   ]
  },
  {
   "cell_type": "markdown",
   "id": "eafaf163-6dcc-443c-a99b-2571f1986385",
   "metadata": {},
   "source": [
    "**1b) Fatima decides that in addition to the 5 minute check, every 10 minutes, we should also print a warning 'WARNING!' to be extra careful. So, your new output should look like: 1, 2, 3, 4, STOP!, 6, 7, 8, 9, STOP!, WARNING!, 11, 12, 13... Iteratively output this sequence up to 30.**"
   ]
  },
  {
   "cell_type": "code",
   "execution_count": 15,
   "id": "50313653-bbc0-49ca-b641-ecec5c702254",
   "metadata": {},
   "outputs": [
    {
     "name": "stdout",
     "output_type": "stream",
     "text": [
      "1\n",
      "2\n",
      "3\n",
      "4\n",
      "STOP!\n",
      "5\n",
      "6\n",
      "7\n",
      "8\n",
      "9\n",
      "STOP!\n",
      "WARNING!\n",
      "11\n",
      "12\n",
      "13\n",
      "14\n",
      "STOP!\n",
      "15\n",
      "16\n",
      "17\n",
      "18\n",
      "19\n",
      "STOP!\n",
      "WARNING!\n",
      "21\n",
      "22\n",
      "23\n",
      "24\n",
      "STOP!\n",
      "25\n",
      "26\n",
      "27\n",
      "28\n",
      "29\n",
      "STOP!\n",
      "WARNING!\n"
     ]
    }
   ],
   "source": [
    "for i in range(1, 31):\n",
    "    if i % 5 == 0:\n",
    "        print(\"STOP!\")\n",
    "    if i % 10 == 0:\n",
    "        print(\"WARNING!\")\n",
    "    else:\n",
    "        print(i)"
   ]
  },
  {
   "cell_type": "markdown",
   "id": "55147e91-361f-4735-94b8-3f9b3fd81a91",
   "metadata": {},
   "source": [
    "### Question 2: Odd, Even, Odd, Even..."
   ]
  },
  {
   "cell_type": "markdown",
   "id": "7b8cab87-fa67-49ec-a2eb-ea666b3a2cb3",
   "metadata": {},
   "source": [
    "Your first task combines your new knowledge on conditionals with your new knowledge on iteration/recursion."
   ]
  },
  {
   "cell_type": "markdown",
   "id": "fae3e125-7776-42ba-b148-934e3c4a1371",
   "metadata": {},
   "source": [
    "From 0 to 100, count the number of occurrences of odd numbers and even numbers, respectively. For the purposes of this question, 0 counts as an even number."
   ]
  },
  {
   "cell_type": "markdown",
   "id": "724d0bf2-818b-4089-831b-32803accdaf6",
   "metadata": {},
   "source": [
    "**2a) Implement this iteratively (i.e. with for loops OR while loops) and assign the occurrences of odd and even numbers to variables `odd` and `even`.**"
   ]
  },
  {
   "cell_type": "code",
   "execution_count": 19,
   "id": "f35c60df-fa23-47ff-9b30-5d9d21e7612b",
   "metadata": {},
   "outputs": [
    {
     "name": "stdout",
     "output_type": "stream",
     "text": [
      "50\n",
      "51\n"
     ]
    }
   ],
   "source": [
    "odd = 0\n",
    "even = 0 \n",
    "for i in range(101):\n",
    "    if i % 2 == 0:\n",
    "        even += 1\n",
    "    else:\n",
    "        odd += 1\n",
    "\n",
    "print(odd) # DO NOT CHANGE THESE LINES\n",
    "print(even)"
   ]
  },
  {
   "cell_type": "markdown",
   "id": "76944e09-a691-4078-b67f-fa87b1523416",
   "metadata": {},
   "source": [
    "**2b) Implement this recursively by filling out the functions `odd_count(int)` and `even_count(int)`. In the case of the problem description, `int` = 100.**"
   ]
  },
  {
   "cell_type": "markdown",
   "id": "bf37e8ae-40fa-4f85-8fa6-e9466aabc5fd",
   "metadata": {},
   "source": [
    "Hint: unlike lecture, this time we will be using recursion BACKWARDS -- i.e. on the next cycle of recursion we will be going back from the inputted variable `int`."
   ]
  },
  {
   "cell_type": "code",
   "execution_count": 37,
   "id": "f7e0489e-021a-4cb3-8a0a-39a9383c9143",
   "metadata": {},
   "outputs": [],
   "source": [
    "def odd_count(int):\n",
    "    if int == 0:\n",
    "        return 0\n",
    "    elif int % 2 == 0: \n",
    "        return odd_count(int - 1)\n",
    "    else: \n",
    "        return 1 + odd_count(int - 1)"
   ]
  },
  {
   "cell_type": "code",
   "execution_count": 39,
   "id": "ab1f3638-1116-4099-a3c9-1da641f63b5f",
   "metadata": {},
   "outputs": [
    {
     "data": {
      "text/plain": [
       "50"
      ]
     },
     "execution_count": 39,
     "metadata": {},
     "output_type": "execute_result"
    }
   ],
   "source": [
    "odd_count(100)"
   ]
  },
  {
   "cell_type": "code",
   "execution_count": 46,
   "id": "e8600292-4846-43b3-8234-7104bcf70b82",
   "metadata": {},
   "outputs": [],
   "source": [
    "def even_count(int):\n",
    "    if int == 0: \n",
    "        return 1\n",
    "    elif int % 2 != 0:\n",
    "        return even_count(int - 1)\n",
    "    else: \n",
    "        return 1 + even_count(int - 1)"
   ]
  },
  {
   "cell_type": "code",
   "execution_count": 48,
   "id": "2caf605f-6a38-43e7-86d6-1ce5348d5691",
   "metadata": {},
   "outputs": [
    {
     "data": {
      "text/plain": [
       "51"
      ]
     },
     "execution_count": 48,
     "metadata": {},
     "output_type": "execute_result"
    }
   ],
   "source": [
    "even_count(100)"
   ]
  },
  {
   "cell_type": "markdown",
   "id": "6ea919d1-b24c-4a67-85af-12b224deada0",
   "metadata": {},
   "source": [
    "**2c) How many odd numbers are between 0 and 100?**"
   ]
  },
  {
   "cell_type": "code",
   "execution_count": 50,
   "id": "6460e03d-b1c4-4db3-a2a5-992b9ef4bdfb",
   "metadata": {},
   "outputs": [
    {
     "data": {
      "text/plain": [
       "50"
      ]
     },
     "execution_count": 50,
     "metadata": {},
     "output_type": "execute_result"
    }
   ],
   "source": [
    "answer_1c = 50 #REPLACE '...' WITH INTEGER ANSWER\n",
    "answer_1c"
   ]
  },
  {
   "cell_type": "markdown",
   "id": "1e550343-d35e-4f47-b844-868981bf55f8",
   "metadata": {},
   "source": [
    "**2d) How many even numbers are between 0 and 100?**"
   ]
  },
  {
   "cell_type": "code",
   "execution_count": 52,
   "id": "894efaaa-5967-4f0b-8afa-5a414dd79165",
   "metadata": {},
   "outputs": [
    {
     "data": {
      "text/plain": [
       "51"
      ]
     },
     "execution_count": 52,
     "metadata": {},
     "output_type": "execute_result"
    }
   ],
   "source": [
    "answer_1d = 51 #REPLACE '...' WITH INTEGER ANSWER\n",
    "answer_1d"
   ]
  },
  {
   "cell_type": "markdown",
   "id": "d216e453-4d87-4540-82ab-feab713609ba",
   "metadata": {},
   "source": [
    "### Question 3: Fibonacci Tree"
   ]
  },
  {
   "cell_type": "markdown",
   "id": "42e9bc9a-2177-41f2-861d-a0bc006bc3fd",
   "metadata": {},
   "source": [
    "You will now be implementing the Fibonacci sequence both iteratively and recursively. If you are not familiar with the Fibonacci sequence, refer to this website: https://www.mathsisfun.com/numbers/fibonacci-sequence.html."
   ]
  },
  {
   "cell_type": "markdown",
   "id": "4132d671-d268-4840-819d-d1bcdcdf0e36",
   "metadata": {},
   "source": [
    "The general idea is that each number in the sequence is the sum of the previous 2 numbers. The first 2 numbers in the sequence are 0 and 1, by default."
   ]
  },
  {
   "cell_type": "markdown",
   "id": "ab4ed455-932d-4e61-bfef-c34c73577724",
   "metadata": {},
   "source": [
    "**3a) First, find the 20th Fibonacci number using an iterative approach.**"
   ]
  },
  {
   "cell_type": "code",
   "execution_count": 75,
   "id": "b6156d0d-4758-4d49-8ef1-2b2df502af48",
   "metadata": {},
   "outputs": [
    {
     "data": {
      "text/plain": [
       "6765"
      ]
     },
     "execution_count": 75,
     "metadata": {},
     "output_type": "execute_result"
    }
   ],
   "source": [
    "for i in range(21):\n",
    "    if i == 0 or i == 1:\n",
    "        prev1 = 0\n",
    "        prev2 = 1\n",
    "    else:\n",
    "        curr = prev1 + prev2\n",
    "        prev1 = prev2\n",
    "        prev2 = curr\n",
    "\n",
    "curr"
   ]
  },
  {
   "cell_type": "markdown",
   "id": "fb2ab1a5-24a1-43e7-b852-5d51e8a34fab",
   "metadata": {},
   "source": [
    "**3b) Now, create a function `fib(n)` that takes in an integer `n` and outputs the n-th Fibonacci number.**"
   ]
  },
  {
   "cell_type": "code",
   "execution_count": 79,
   "id": "e50f8790-b6d0-4911-afd6-955eac67c757",
   "metadata": {},
   "outputs": [],
   "source": [
    "def fib(n):\n",
    "    if n == 0: #Base case 1\n",
    "        return 0\n",
    "    elif n == 1: #Base case 2\n",
    "        return 1\n",
    "    else:\n",
    "        return fib(n - 2) + fib(n - 1)"
   ]
  },
  {
   "cell_type": "code",
   "execution_count": 81,
   "id": "aab92a41-fa15-4aa3-9944-5144b79f94b4",
   "metadata": {},
   "outputs": [
    {
     "data": {
      "text/plain": [
       "6765"
      ]
     },
     "execution_count": 81,
     "metadata": {},
     "output_type": "execute_result"
    }
   ],
   "source": [
    "fib(20)"
   ]
  },
  {
   "cell_type": "markdown",
   "id": "de0688d1-4936-4249-a45a-6efc8b1b9400",
   "metadata": {},
   "source": [
    "**3c) Describe in 2 sentences or less why the Fibonacci sequence requires two base cases.**"
   ]
  },
  {
   "cell_type": "markdown",
   "id": "839f9bd3-6b64-4108-b0ae-0814c9b1674b",
   "metadata": {},
   "source": [
    "Student answer should mention how Fibonacci sequences refer to the previous two values, so thus require two base cases."
   ]
  },
  {
   "cell_type": "markdown",
   "id": "4908b762-6db8-4453-aadd-3d13529c1d12",
   "metadata": {},
   "source": [
    "### Question 4: Guest Lecture Reflection"
   ]
  },
  {
   "cell_type": "markdown",
   "id": "2b807c74-5f4d-46c7-8157-4010a9c487d9",
   "metadata": {},
   "source": [
    "**4a) Fill out [this guest lecture reflection form](https://forms.gle/hGfcU7N2Ej8mjc2e9) for our guest speaker. When you're done, fill this out with the secret code as a string.**"
   ]
  },
  {
   "cell_type": "code",
   "execution_count": 83,
   "id": "4daea865-3515-4ddf-9386-fbcce399e11a",
   "metadata": {},
   "outputs": [
    {
     "data": {
      "text/plain": [
       "'recursioniscool'"
      ]
     },
     "execution_count": 83,
     "metadata": {},
     "output_type": "execute_result"
    }
   ],
   "source": [
    "answer_4a = 'recursioniscool'\n",
    "answer_4a"
   ]
  },
  {
   "cell_type": "markdown",
   "id": "37797c91-df02-47ba-8978-d25eecfde24d",
   "metadata": {},
   "source": [
    "## Congratulations! You finished HW 2!"
   ]
  }
 ],
 "metadata": {
  "kernelspec": {
   "display_name": "Python 3 (ipykernel)",
   "language": "python",
   "name": "python3"
  },
  "language_info": {
   "codemirror_mode": {
    "name": "ipython",
    "version": 3
   },
   "file_extension": ".py",
   "mimetype": "text/x-python",
   "name": "python",
   "nbconvert_exporter": "python",
   "pygments_lexer": "ipython3",
   "version": "3.11.7"
  }
 },
 "nbformat": 4,
 "nbformat_minor": 5
}
