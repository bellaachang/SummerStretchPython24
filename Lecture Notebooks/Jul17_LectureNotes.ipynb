{
 "cells": [
  {
   "cell_type": "code",
   "execution_count": 18,
   "id": "c4506750-79a1-4d07-b6ae-d269f22aa06e",
   "metadata": {},
   "outputs": [],
   "source": [
    "d = {'a': 1, 'b': 2, 'c': 3}\n",
    "sum_d = 0 \n",
    "for i in d.keys():\n",
    "    sum_d += d[i]"
   ]
  },
  {
   "cell_type": "code",
   "execution_count": 20,
   "id": "f7d55d37-79b0-4826-9b86-2fb95e18542f",
   "metadata": {},
   "outputs": [
    {
     "data": {
      "text/plain": [
       "6"
      ]
     },
     "execution_count": 20,
     "metadata": {},
     "output_type": "execute_result"
    }
   ],
   "source": [
    "sum_d"
   ]
  },
  {
   "cell_type": "code",
   "execution_count": 30,
   "id": "c4cc0020-ed58-47a6-b31c-51890a763325",
   "metadata": {},
   "outputs": [],
   "source": [
    "my_dict = {'Alice': 25, 'Bob': 30}\n",
    "\n",
    "my_dict['Charlie'] = 35"
   ]
  },
  {
   "cell_type": "code",
   "execution_count": 32,
   "id": "fe8422fb-2d17-4944-930a-af0ece5dd8bb",
   "metadata": {},
   "outputs": [
    {
     "data": {
      "text/plain": [
       "{'Alice': 25, 'Bob': 30, 'Charlie': 35}"
      ]
     },
     "execution_count": 32,
     "metadata": {},
     "output_type": "execute_result"
    }
   ],
   "source": [
    "my_dict"
   ]
  },
  {
   "cell_type": "code",
   "execution_count": 36,
   "id": "cc719019-9e45-441f-98f2-d28c2826019a",
   "metadata": {},
   "outputs": [
    {
     "name": "stdout",
     "output_type": "stream",
     "text": [
      "3\n"
     ]
    }
   ],
   "source": [
    "a = 10 \n",
    "b = int(3.1415)\n",
    "print(b)"
   ]
  },
  {
   "cell_type": "code",
   "execution_count": 40,
   "id": "bcd4bdea-68c5-4703-a17b-3242f42607bf",
   "metadata": {},
   "outputs": [
    {
     "ename": "TypeError",
     "evalue": "unsupported operand type(s) for +: 'int' and 'str'",
     "output_type": "error",
     "traceback": [
      "\u001b[0;31m---------------------------------------------------------------------------\u001b[0m",
      "\u001b[0;31mTypeError\u001b[0m                                 Traceback (most recent call last)",
      "Cell \u001b[0;32mIn[40], line 4\u001b[0m\n\u001b[1;32m      1\u001b[0m x \u001b[38;5;241m=\u001b[39m \u001b[38;5;241m2\u001b[39m\n\u001b[1;32m      2\u001b[0m y \u001b[38;5;241m=\u001b[39m \u001b[38;5;124m'\u001b[39m\u001b[38;5;124ma\u001b[39m\u001b[38;5;124m'\u001b[39m\n\u001b[0;32m----> 4\u001b[0m \u001b[38;5;28mprint\u001b[39m(x \u001b[38;5;241m+\u001b[39m y)\n",
      "\u001b[0;31mTypeError\u001b[0m: unsupported operand type(s) for +: 'int' and 'str'"
     ]
    }
   ],
   "source": [
    "x = 2\n",
    "y = 'a'\n",
    "\n",
    "print(x + y)"
   ]
  },
  {
   "cell_type": "code",
   "execution_count": 76,
   "id": "43ab5f6d-e570-4c60-b8ec-d60195d80751",
   "metadata": {},
   "outputs": [],
   "source": [
    "class Employee:\n",
    "    work = 'staff'\n",
    "    def __init__(self, name, age):\n",
    "        self.name = name\n",
    "        self.age = age"
   ]
  },
  {
   "cell_type": "code",
   "execution_count": 78,
   "id": "567e9bda-996f-4ba0-b731-00968ce91fba",
   "metadata": {},
   "outputs": [
    {
     "ename": "TypeError",
     "evalue": "Employee.__init__() missing 2 required positional arguments: 'name' and 'age'",
     "output_type": "error",
     "traceback": [
      "\u001b[0;31m---------------------------------------------------------------------------\u001b[0m",
      "\u001b[0;31mTypeError\u001b[0m                                 Traceback (most recent call last)",
      "Cell \u001b[0;32mIn[78], line 1\u001b[0m\n\u001b[0;32m----> 1\u001b[0m bella \u001b[38;5;241m=\u001b[39m Employee()\n",
      "\u001b[0;31mTypeError\u001b[0m: Employee.__init__() missing 2 required positional arguments: 'name' and 'age'"
     ]
    }
   ],
   "source": [
    "bella = Employee()"
   ]
  },
  {
   "cell_type": "code",
   "execution_count": 72,
   "id": "174459e8-95aa-44da-b79c-6f0c7ef86db9",
   "metadata": {},
   "outputs": [
    {
     "data": {
      "text/plain": [
       "'Bella'"
      ]
     },
     "execution_count": 72,
     "metadata": {},
     "output_type": "execute_result"
    }
   ],
   "source": [
    "bella.name"
   ]
  },
  {
   "cell_type": "code",
   "execution_count": 74,
   "id": "9e4882a3-cdb2-4dc9-97d9-66b7f62e5722",
   "metadata": {},
   "outputs": [
    {
     "data": {
      "text/plain": [
       "'Christine'"
      ]
     },
     "execution_count": 74,
     "metadata": {},
     "output_type": "execute_result"
    }
   ],
   "source": [
    "christine.name"
   ]
  },
  {
   "cell_type": "code",
   "execution_count": 54,
   "id": "1f7de6ae-61b8-4f22-8ac5-befc1eb8b951",
   "metadata": {},
   "outputs": [
    {
     "data": {
      "text/plain": [
       "'TA'"
      ]
     },
     "execution_count": 54,
     "metadata": {},
     "output_type": "execute_result"
    }
   ],
   "source": [
    "christine.work"
   ]
  },
  {
   "cell_type": "code",
   "execution_count": 34,
   "id": "4f11e488-36c1-4126-8cd1-946d76c3a5b4",
   "metadata": {},
   "outputs": [],
   "source": [
    "class Cat:\n",
    "    lives = 9 \n",
    "    def __init__(self, name, age):\n",
    "        self.name = name\n",
    "        self.age = age\n",
    "    def purr(self):\n",
    "        print(\"purr\")\n",
    "    def hiss(self):\n",
    "        print(\"hiss\")\n",
    "    def lose_a_life(self):\n",
    "        self.lives -= 1"
   ]
  },
  {
   "cell_type": "code",
   "execution_count": 52,
   "id": "8df0cfdb-aab5-4cba-bf17-3b5fe4a0e6f7",
   "metadata": {},
   "outputs": [],
   "source": [
    "a = Cat('a', 2)"
   ]
  },
  {
   "cell_type": "code",
   "execution_count": 97,
   "id": "783ed8d2-3f4e-43da-8fb6-d303e6ca2443",
   "metadata": {},
   "outputs": [
    {
     "data": {
      "text/plain": [
       "'a'"
      ]
     },
     "execution_count": 97,
     "metadata": {},
     "output_type": "execute_result"
    }
   ],
   "source": [
    "a.name"
   ]
  },
  {
   "cell_type": "code",
   "execution_count": 99,
   "id": "60cc4be4-0330-4c09-be68-dad3cbb95635",
   "metadata": {},
   "outputs": [
    {
     "data": {
      "text/plain": [
       "2"
      ]
     },
     "execution_count": 99,
     "metadata": {},
     "output_type": "execute_result"
    }
   ],
   "source": [
    "a.age"
   ]
  },
  {
   "cell_type": "code",
   "execution_count": 8,
   "id": "5a586deb-d83f-436b-9742-8fdce6db7408",
   "metadata": {},
   "outputs": [
    {
     "name": "stdout",
     "output_type": "stream",
     "text": [
      "purr\n"
     ]
    }
   ],
   "source": [
    "a.purr()"
   ]
  },
  {
   "cell_type": "code",
   "execution_count": 10,
   "id": "2d013548-fae3-4a03-81fd-8e81c10d3996",
   "metadata": {},
   "outputs": [
    {
     "name": "stdout",
     "output_type": "stream",
     "text": [
      "hiss\n"
     ]
    }
   ],
   "source": [
    "a.hiss()"
   ]
  },
  {
   "cell_type": "code",
   "execution_count": 14,
   "id": "07fc4018-967b-4d18-98bb-142d13c53336",
   "metadata": {},
   "outputs": [
    {
     "data": {
      "text/plain": [
       "9"
      ]
     },
     "execution_count": 14,
     "metadata": {},
     "output_type": "execute_result"
    }
   ],
   "source": [
    "a.lives"
   ]
  },
  {
   "cell_type": "code",
   "execution_count": 44,
   "id": "1b572c6a-ba8d-47c5-abae-1149a02b0ffb",
   "metadata": {},
   "outputs": [],
   "source": [
    "b = Cat('b', 3)"
   ]
  },
  {
   "cell_type": "code",
   "execution_count": 46,
   "id": "1c235cc0-6cef-458b-a415-35bb4240c86f",
   "metadata": {},
   "outputs": [
    {
     "data": {
      "text/plain": [
       "9"
      ]
     },
     "execution_count": 46,
     "metadata": {},
     "output_type": "execute_result"
    }
   ],
   "source": [
    "b.lives"
   ]
  },
  {
   "cell_type": "code",
   "execution_count": 48,
   "id": "d7a8d4d7-ea58-4301-b3f7-5ef7b9b6449f",
   "metadata": {},
   "outputs": [],
   "source": [
    "b.lose_a_life()"
   ]
  },
  {
   "cell_type": "code",
   "execution_count": 50,
   "id": "3853fb33-616e-4e3d-86a4-219f94af17e7",
   "metadata": {},
   "outputs": [
    {
     "data": {
      "text/plain": [
       "8"
      ]
     },
     "execution_count": 50,
     "metadata": {},
     "output_type": "execute_result"
    }
   ],
   "source": [
    "b.lives"
   ]
  },
  {
   "cell_type": "code",
   "execution_count": null,
   "id": "814e3704-d0f3-4acf-9799-0f4283a87e56",
   "metadata": {},
   "outputs": [],
   "source": []
  }
 ],
 "metadata": {
  "kernelspec": {
   "display_name": "Python 3 (ipykernel)",
   "language": "python",
   "name": "python3"
  },
  "language_info": {
   "codemirror_mode": {
    "name": "ipython",
    "version": 3
   },
   "file_extension": ".py",
   "mimetype": "text/x-python",
   "name": "python",
   "nbconvert_exporter": "python",
   "pygments_lexer": "ipython3",
   "version": "3.11.7"
  }
 },
 "nbformat": 4,
 "nbformat_minor": 5
}
