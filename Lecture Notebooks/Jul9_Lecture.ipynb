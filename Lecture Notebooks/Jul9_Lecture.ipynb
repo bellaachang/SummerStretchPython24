{
 "cells": [
  {
   "cell_type": "markdown",
   "id": "2d74e967-164c-409b-8ab7-d450b2f25547",
   "metadata": {},
   "source": [
    "## Lecture 5: Recursion"
   ]
  },
  {
   "cell_type": "markdown",
   "id": "ef69ca79-9849-4d90-80fe-fa78969b6fd1",
   "metadata": {},
   "source": [
    "After this lecture, students should be able to:"
   ]
  },
  {
   "cell_type": "markdown",
   "id": "c4f7ed9d-6883-439a-a1c1-3c8f5ed7f468",
   "metadata": {},
   "source": [
    "- Identify difference between iteration and recursion\n",
    "- Implement basic base case statements in a recursive function\n",
    "- Implement basic recursive statements in a recursive function\n",
    "- Understand the logic of recursion "
   ]
  },
  {
   "cell_type": "markdown",
   "id": "085ad694-d101-4d46-8112-305656d12ba5",
   "metadata": {},
   "source": [
    "## INTERACTIVE CHALLENGE"
   ]
  },
  {
   "cell_type": "markdown",
   "id": "a12b4a70-5d12-4ccf-b15b-6f4a67f2fb19",
   "metadata": {},
   "source": [
    "*Note: short challenge today because we have a guest speaker!*"
   ]
  },
  {
   "cell_type": "markdown",
   "id": "00d5ac0c-8f46-4fa4-b188-3344898e60d6",
   "metadata": {},
   "source": [
    "Find a recursive implementation of implementing a power function, i.e. $x^y$ based on a given input $x$ and given exponent $y$."
   ]
  },
  {
   "cell_type": "markdown",
   "id": "7055baa4-5069-4f47-9e6a-0f79256a4153",
   "metadata": {},
   "source": [
    "Hint: just like the lecture, break down the power function into one operation using the recursive leap of faith -- referring to itself while using the recursive leap of faith."
   ]
  },
  {
   "cell_type": "code",
   "execution_count": null,
   "id": "6fea06ca-27ac-4bb2-8c01-d44067a36fdf",
   "metadata": {},
   "outputs": [],
   "source": [
    "def power(x, y):\n",
    "    ... # BASE CASE HERE\n",
    "    ... # RECURSIVE CASE HERE\n",
    "    return ... "
   ]
  },
  {
   "cell_type": "code",
   "execution_count": null,
   "id": "e0282e2d-36ee-4f23-8074-6f3111329577",
   "metadata": {},
   "outputs": [],
   "source": [
    "## TEST HERE\n",
    "power(2, 3) == 8\n",
    "power(1, 1000) == 1\n",
    "power(3, 10) == 59049"
   ]
  }
 ],
 "metadata": {
  "kernelspec": {
   "display_name": "Python 3 (ipykernel)",
   "language": "python",
   "name": "python3"
  },
  "language_info": {
   "codemirror_mode": {
    "name": "ipython",
    "version": 3
   },
   "file_extension": ".py",
   "mimetype": "text/x-python",
   "name": "python",
   "nbconvert_exporter": "python",
   "pygments_lexer": "ipython3",
   "version": "3.11.7"
  }
 },
 "nbformat": 4,
 "nbformat_minor": 5
}
