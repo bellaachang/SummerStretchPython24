{
 "cells": [
  {
   "cell_type": "markdown",
   "id": "e5c2ccf0-ff81-4472-8a02-3ac6320190e2",
   "metadata": {},
   "source": [
    "## Condition Loops: If Else"
   ]
  },
  {
   "cell_type": "code",
   "execution_count": null,
   "id": "2a09f265-933e-41da-a4a0-0ec8d3aefe20",
   "metadata": {},
   "outputs": [],
   "source": [
    "daylight = 'Sunny'"
   ]
  },
  {
   "cell_type": "code",
   "execution_count": 16,
   "id": "99075f30-e321-4972-837c-44126e08ca83",
   "metadata": {},
   "outputs": [],
   "source": [
    "if daylight == 'sunny':\n",
    "    go_out = True\n",
    "else:\n",
    "    go_out = False"
   ]
  },
  {
   "cell_type": "code",
   "execution_count": 17,
   "id": "3915b3ca-3635-4eae-9ab8-f9e9da7fb419",
   "metadata": {},
   "outputs": [
    {
     "data": {
      "text/plain": [
       "False"
      ]
     },
     "execution_count": 17,
     "metadata": {},
     "output_type": "execute_result"
    }
   ],
   "source": [
    "go_out"
   ]
  },
  {
   "cell_type": "code",
   "execution_count": 22,
   "id": "f70270bd-d4bd-4b56-ad0b-efc911942d6c",
   "metadata": {},
   "outputs": [],
   "source": [
    "A = 10\n",
    "B = 5"
   ]
  },
  {
   "cell_type": "code",
   "execution_count": 23,
   "id": "70544d65-c7a1-4c37-a211-e1997c0913f5",
   "metadata": {},
   "outputs": [
    {
     "name": "stdout",
     "output_type": "stream",
     "text": [
      "5\n"
     ]
    }
   ],
   "source": [
    "if A < B:\n",
    "    print(B - A)\n",
    "else:\n",
    "    print(A - B)"
   ]
  },
  {
   "cell_type": "markdown",
   "id": "30386cca-0df3-40ea-aff4-ebd95ea92af7",
   "metadata": {},
   "source": [
    "## Practice 1\n",
    "##### write a program, to check if one number can be devided by 2.\n",
    "##### if yes, print 'Even number'\n",
    "##### if no, print 'Odd number'"
   ]
  },
  {
   "cell_type": "code",
   "execution_count": 25,
   "id": "e28b2049-5225-45c9-b995-f985faab4a4e",
   "metadata": {},
   "outputs": [],
   "source": [
    "numbers = 500"
   ]
  },
  {
   "cell_type": "code",
   "execution_count": 26,
   "id": "89117be8-2531-4637-9d8a-a0d23c7db17f",
   "metadata": {},
   "outputs": [
    {
     "name": "stdout",
     "output_type": "stream",
     "text": [
      "Even number\n"
     ]
    }
   ],
   "source": [
    "if numbers % 2 == 0:\n",
    "    print('Even number')\n",
    "else:\n",
    "    print('Odd number')"
   ]
  },
  {
   "cell_type": "code",
   "execution_count": 28,
   "id": "cbc0d3d0-e06f-4502-b875-ce388dc8951e",
   "metadata": {},
   "outputs": [],
   "source": [
    "numbers = 4"
   ]
  },
  {
   "cell_type": "code",
   "execution_count": 29,
   "id": "039161b7-c47d-46a1-9643-cec7a37813bd",
   "metadata": {},
   "outputs": [
    {
     "name": "stdout",
     "output_type": "stream",
     "text": [
      "reminder is 1\n"
     ]
    }
   ],
   "source": [
    "if numbers % 3 == 0:\n",
    "    print('no reminder')\n",
    "elif numbers % 3 == 1:\n",
    "    print('reminder is 1')\n",
    "else:\n",
    "    print('remember is something else')"
   ]
  },
  {
   "cell_type": "markdown",
   "id": "ea96ba1d-44fc-48a3-9f7d-55223f0f418d",
   "metadata": {},
   "source": [
    "## Practice 2:\n",
    "##### write a program, to check if one number is smaller than 5 or greater than 10.\n",
    "##### if smaller than 5, print the number multiply by 10. \n",
    "##### if greater than 10, print the number devided by 2.\n",
    "##### if it's between 5 and 10, print the number."
   ]
  },
  {
   "cell_type": "code",
   "execution_count": 30,
   "id": "23f9b6ca-abd3-44dd-8a5a-fd963da3a2a1",
   "metadata": {},
   "outputs": [],
   "source": [
    "number = 4"
   ]
  },
  {
   "cell_type": "code",
   "execution_count": null,
   "id": "3d4ebf85-3985-478e-82dd-77f4a28872f9",
   "metadata": {},
   "outputs": [],
   "source": []
  },
  {
   "cell_type": "code",
   "execution_count": 32,
   "id": "c895f9cb-1ddb-46c2-97ed-d5a5fa4f8f92",
   "metadata": {},
   "outputs": [
    {
     "name": "stdout",
     "output_type": "stream",
     "text": [
      "40\n"
     ]
    }
   ],
   "source": [
    "if number < 5:\n",
    "    print(number * 10)\n",
    "elif number > 10:\n",
    "    print(number / 2)\n",
    "else:\n",
    "    print(number)"
   ]
  },
  {
   "cell_type": "markdown",
   "id": "422171ec-8ff2-4c35-9fad-09c66276143c",
   "metadata": {},
   "source": [
    "### While loop:\n",
    "##### while something is true, run something. "
   ]
  },
  {
   "cell_type": "code",
   "execution_count": null,
   "id": "a03ebd62-6f2d-4445-8b37-40e30cc99bd6",
   "metadata": {},
   "outputs": [],
   "source": [
    "number_list = 10"
   ]
  },
  {
   "cell_type": "code",
   "execution_count": 34,
   "id": "df08d199-8f9a-4270-bab0-85ab73fb2041",
   "metadata": {},
   "outputs": [
    {
     "name": "stdout",
     "output_type": "stream",
     "text": [
      "10\n",
      "9\n",
      "8\n",
      "7\n",
      "6\n",
      "5\n",
      "4\n",
      "3\n",
      "2\n"
     ]
    }
   ],
   "source": [
    "while number > 1:\n",
    "    print(number)\n",
    "    number = number - 1"
   ]
  },
  {
   "cell_type": "code",
   "execution_count": 35,
   "id": "1be399ec-2c51-492b-b4af-1227a09b1a28",
   "metadata": {},
   "outputs": [],
   "source": [
    "number_list = [4,8,12]"
   ]
  },
  {
   "cell_type": "code",
   "execution_count": 36,
   "id": "b9fd2cab-5922-4361-abb1-89b7b768466a",
   "metadata": {},
   "outputs": [
    {
     "name": "stdout",
     "output_type": "stream",
     "text": [
      "poped number is 12\n",
      "6.0\n",
      "poped number is 8\n",
      "8\n",
      "poped number is 4\n",
      "40\n"
     ]
    }
   ],
   "source": [
    "while number_list != []:\n",
    "    number = number_list.pop()\n",
    "    print('poped number is',number)\n",
    "    if number < 5:\n",
    "        print(number * 10)\n",
    "    elif number > 10:\n",
    "        print(number / 2)\n",
    "    else:\n",
    "        print(number)"
   ]
  },
  {
   "cell_type": "code",
   "execution_count": null,
   "id": "3ace9164-1827-4608-af1a-9718145a05bc",
   "metadata": {},
   "outputs": [],
   "source": [
    "while number > 1:\n",
    "    print(number)\n",
    "    number = number - 1"
   ]
  },
  {
   "cell_type": "markdown",
   "id": "bd234a6f-1d3d-48c7-850d-1717afcd2ba6",
   "metadata": {},
   "source": [
    "## Practice 3\n",
    "##### start a big number. If the number / 2 is greater than 3, /2 again.\n",
    "##### print the final number."
   ]
  },
  {
   "cell_type": "code",
   "execution_count": 41,
   "id": "a28bc277-6720-4e63-bb2c-3791bb6104c3",
   "metadata": {},
   "outputs": [],
   "source": [
    "number = 5000000"
   ]
  },
  {
   "cell_type": "code",
   "execution_count": 42,
   "id": "81582875-ddd0-4c8a-acbe-11692acdd765",
   "metadata": {},
   "outputs": [
    {
     "name": "stdout",
     "output_type": "stream",
     "text": [
      "2500000.0\n",
      "1250000.0\n",
      "625000.0\n",
      "312500.0\n",
      "156250.0\n",
      "78125.0\n",
      "39062.5\n",
      "19531.25\n",
      "9765.625\n",
      "4882.8125\n",
      "2441.40625\n",
      "1220.703125\n",
      "610.3515625\n",
      "305.17578125\n",
      "152.587890625\n",
      "76.2939453125\n",
      "38.14697265625\n",
      "19.073486328125\n",
      "9.5367431640625\n",
      "4.76837158203125\n",
      "2.384185791015625\n"
     ]
    }
   ],
   "source": [
    "while number / 2 > 3:\n",
    "    number = number / 2\n",
    "    print(number)\n",
    "print(number / 2)"
   ]
  },
  {
   "cell_type": "markdown",
   "id": "66b99e6a-dcc6-4b99-bb92-d01d0e21b1a4",
   "metadata": {},
   "source": [
    "## For loops"
   ]
  },
  {
   "cell_type": "code",
   "execution_count": null,
   "id": "f2f70ac2-1bda-4f9e-b2a4-8bd0160f8b91",
   "metadata": {},
   "outputs": [],
   "source": [
    "number_list = [1,5,3,4,1,10]\n",
    "while number_list:\n",
    "    print(number_list.pop())"
   ]
  },
  {
   "cell_type": "code",
   "execution_count": null,
   "id": "6c98bb7b-e2e4-43bf-890c-2867b4acda10",
   "metadata": {},
   "outputs": [],
   "source": [
    "number_list = [1,5,3,4,1,10]\n",
    "for numbers in number_list:\n",
    "    print(numbers)"
   ]
  }
 ],
 "metadata": {
  "kernelspec": {
   "display_name": "Python 3 (ipykernel)",
   "language": "python",
   "name": "python3"
  },
  "language_info": {
   "codemirror_mode": {
    "name": "ipython",
    "version": 3
   },
   "file_extension": ".py",
   "mimetype": "text/x-python",
   "name": "python",
   "nbconvert_exporter": "python",
   "pygments_lexer": "ipython3",
   "version": "3.11.7"
  }
 },
 "nbformat": 4,
 "nbformat_minor": 5
}
