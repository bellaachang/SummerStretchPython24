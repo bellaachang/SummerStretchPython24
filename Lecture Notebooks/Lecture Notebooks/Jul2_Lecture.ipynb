{
 "cells": [
  {
   "cell_type": "markdown",
   "id": "af4a34d7-3f65-40e1-99ae-c5156ba766d2",
   "metadata": {},
   "source": [
    "## Lecture 2: Variables, Data Types, and Basic Operations"
   ]
  },
  {
   "cell_type": "markdown",
   "id": "1fee0f3c-7bf3-4dfd-955d-4258503039b0",
   "metadata": {},
   "source": [
    "After this lecture, students should be able to:"
   ]
  },
  {
   "cell_type": "markdown",
   "id": "aa185fcc-b1c1-4868-a149-8a326acd485b",
   "metadata": {},
   "source": [
    "- Identify what a variable looks like in Python\n",
    "- Master how to create and call variables in a program\n",
    "- Understand the fundamental data types used in Python\n",
    "- Begin implementing mathematical functions in Python using their understanding of variables and data types"
   ]
  },
  {
   "cell_type": "markdown",
   "id": "569d6d99-0bca-4ba6-94a3-7adfd00eb5e0",
   "metadata": {},
   "source": [
    "## 1) Variables"
   ]
  },
  {
   "cell_type": "code",
   "execution_count": 5,
   "id": "22fd49cf-ba69-41e4-8642-64a53dee2896",
   "metadata": {},
   "outputs": [
    {
     "data": {
      "text/plain": [
       "5"
      ]
     },
     "execution_count": 5,
     "metadata": {},
     "output_type": "execute_result"
    }
   ],
   "source": [
    "## Defining an int variable\n",
    "a = 5\n",
    "a"
   ]
  },
  {
   "cell_type": "code",
   "execution_count": 7,
   "id": "d0f66f02-7888-4197-9e57-023919fa5efb",
   "metadata": {},
   "outputs": [
    {
     "data": {
      "text/plain": [
       "'bear'"
      ]
     },
     "execution_count": 7,
     "metadata": {},
     "output_type": "execute_result"
    }
   ],
   "source": [
    "## Defining a string variable\n",
    "b = 'bear'\n",
    "b"
   ]
  },
  {
   "cell_type": "code",
   "execution_count": 9,
   "id": "8b0ccf85-aab7-4a39-b65b-595c3c62dcba",
   "metadata": {},
   "outputs": [
    {
     "name": "stdout",
     "output_type": "stream",
     "text": [
      "bear\n"
     ]
    }
   ],
   "source": [
    "## Note: string variables can also be printed!\n",
    "print(b)"
   ]
  },
  {
   "cell_type": "code",
   "execution_count": 11,
   "id": "c076b717-8b6a-45b6-bbde-eab587ca7bc2",
   "metadata": {},
   "outputs": [
    {
     "name": "stdout",
     "output_type": "stream",
     "text": [
      "102\n",
      "100\n"
     ]
    }
   ],
   "source": [
    "## Local vs global variables\n",
    "c = 100\n",
    "\n",
    "def double(x): #Don't worry too much about the syntax of this yet!\n",
    "    c = x + 2\n",
    "    return c\n",
    "\n",
    "print(double(c))\n",
    "print(c)"
   ]
  },
  {
   "cell_type": "markdown",
   "id": "c883f12b-4e2b-4648-8b74-80ff0d107de2",
   "metadata": {},
   "source": [
    "## 2) Data Types"
   ]
  },
  {
   "cell_type": "code",
   "execution_count": 16,
   "id": "db3e0a04-54ce-4a83-addb-58e19448c2f0",
   "metadata": {},
   "outputs": [
    {
     "name": "stdout",
     "output_type": "stream",
     "text": [
      "5 <class 'int'>\n",
      "bear <class 'str'>\n",
      "100 <class 'int'>\n"
     ]
    }
   ],
   "source": [
    "print(a, type(a))\n",
    "print(b, type(b))\n",
    "print(c, type(c))"
   ]
  },
  {
   "cell_type": "code",
   "execution_count": 18,
   "id": "501044d2-2d8b-4d34-a17f-7bd033405907",
   "metadata": {},
   "outputs": [
    {
     "name": "stdout",
     "output_type": "stream",
     "text": [
      "3.14 <class 'float'>\n"
     ]
    }
   ],
   "source": [
    "print(3.14, type(3.14))"
   ]
  },
  {
   "cell_type": "markdown",
   "id": "560ce3b5-8d07-4a12-a8df-55078392ec53",
   "metadata": {},
   "source": [
    "## 2.5) Casting"
   ]
  },
  {
   "cell_type": "code",
   "execution_count": 23,
   "id": "d8b0f620-e7f0-4dc3-8f2c-d6fc3576a619",
   "metadata": {},
   "outputs": [
    {
     "data": {
      "text/plain": [
       "5.0"
      ]
     },
     "execution_count": 23,
     "metadata": {},
     "output_type": "execute_result"
    }
   ],
   "source": [
    "# Casting a to be of type float\n",
    "float(a)"
   ]
  },
  {
   "cell_type": "code",
   "execution_count": 25,
   "id": "7ca090c9-66f3-43cb-890e-61a30fc2b5be",
   "metadata": {},
   "outputs": [
    {
     "data": {
      "text/plain": [
       "3"
      ]
     },
     "execution_count": 25,
     "metadata": {},
     "output_type": "execute_result"
    }
   ],
   "source": [
    "# Casting 3.14 to be of type int\n",
    "int(3.14)"
   ]
  },
  {
   "cell_type": "code",
   "execution_count": 27,
   "id": "d4f265e8-eef6-4284-8aa3-291812f1d5b4",
   "metadata": {},
   "outputs": [
    {
     "data": {
      "text/plain": [
       "8"
      ]
     },
     "execution_count": 27,
     "metadata": {},
     "output_type": "execute_result"
    }
   ],
   "source": [
    "# Casting a numerical string into a type int\n",
    "int('8')"
   ]
  },
  {
   "cell_type": "code",
   "execution_count": 29,
   "id": "d38ad6d1-4428-468d-bf45-ffda1c0c5004",
   "metadata": {},
   "outputs": [
    {
     "ename": "ValueError",
     "evalue": "invalid literal for int() with base 10: 'pineapple'",
     "output_type": "error",
     "traceback": [
      "\u001b[0;31m---------------------------------------------------------------------------\u001b[0m",
      "\u001b[0;31mValueError\u001b[0m                                Traceback (most recent call last)",
      "Cell \u001b[0;32mIn[29], line 2\u001b[0m\n\u001b[1;32m      1\u001b[0m \u001b[38;5;66;03m# But... cannot cast a word string into another quantitative type\u001b[39;00m\n\u001b[0;32m----> 2\u001b[0m \u001b[38;5;28mint\u001b[39m(\u001b[38;5;124m'\u001b[39m\u001b[38;5;124mpineapple\u001b[39m\u001b[38;5;124m'\u001b[39m)\n",
      "\u001b[0;31mValueError\u001b[0m: invalid literal for int() with base 10: 'pineapple'"
     ]
    }
   ],
   "source": [
    "# But... cannot cast a word string into another quantitative type\n",
    "int('pineapple')"
   ]
  },
  {
   "cell_type": "code",
   "execution_count": 37,
   "id": "6b94c7f9-fbcd-443c-9ce6-598955d520c4",
   "metadata": {},
   "outputs": [
    {
     "name": "stdout",
     "output_type": "stream",
     "text": [
      "1\n",
      "0\n"
     ]
    }
   ],
   "source": [
    "# Something interesting happens with bools (which we leave outside of strings)\n",
    "print(int(True))\n",
    "print(int(False))"
   ]
  },
  {
   "cell_type": "code",
   "execution_count": 41,
   "id": "979644dc-48a4-4beb-a98a-fcf0297e976c",
   "metadata": {},
   "outputs": [
    {
     "data": {
      "text/plain": [
       "NoneType"
      ]
     },
     "execution_count": 41,
     "metadata": {},
     "output_type": "execute_result"
    }
   ],
   "source": [
    "# Our interesting case!\n",
    "type(None)"
   ]
  },
  {
   "cell_type": "code",
   "execution_count": 45,
   "id": "f3b90fd4-df8c-4758-b957-358d79703855",
   "metadata": {},
   "outputs": [
    {
     "ename": "TypeError",
     "evalue": "int() argument must be a string, a bytes-like object or a real number, not 'NoneType'",
     "output_type": "error",
     "traceback": [
      "\u001b[0;31m---------------------------------------------------------------------------\u001b[0m",
      "\u001b[0;31mTypeError\u001b[0m                                 Traceback (most recent call last)",
      "Cell \u001b[0;32mIn[45], line 2\u001b[0m\n\u001b[1;32m      1\u001b[0m \u001b[38;5;66;03m# The bool rule does not apply to NoneTypes\u001b[39;00m\n\u001b[0;32m----> 2\u001b[0m \u001b[38;5;28mint\u001b[39m(\u001b[38;5;28;01mNone\u001b[39;00m)\n",
      "\u001b[0;31mTypeError\u001b[0m: int() argument must be a string, a bytes-like object or a real number, not 'NoneType'"
     ]
    }
   ],
   "source": [
    "# The bool rule does not apply to NoneTypes\n",
    "int(None)"
   ]
  },
  {
   "cell_type": "markdown",
   "id": "11d9c453-1757-4151-b6df-05888ef8cccd",
   "metadata": {},
   "source": [
    "## 3) Basic Operations"
   ]
  },
  {
   "cell_type": "code",
   "execution_count": 48,
   "id": "c7d68e3c-f793-451c-8de0-38d0bc47bae0",
   "metadata": {},
   "outputs": [
    {
     "data": {
      "text/plain": [
       "22"
      ]
     },
     "execution_count": 48,
     "metadata": {},
     "output_type": "execute_result"
    }
   ],
   "source": [
    "x = 2\n",
    "y = 20\n",
    "x + y"
   ]
  },
  {
   "cell_type": "code",
   "execution_count": 50,
   "id": "59a1159f-ce1e-40d2-929d-56edebe6024b",
   "metadata": {},
   "outputs": [
    {
     "data": {
      "text/plain": [
       "40"
      ]
     },
     "execution_count": 50,
     "metadata": {},
     "output_type": "execute_result"
    }
   ],
   "source": [
    "x * y"
   ]
  },
  {
   "cell_type": "code",
   "execution_count": 52,
   "id": "d15751d0-b284-474c-b415-954bb23c19cb",
   "metadata": {},
   "outputs": [
    {
     "data": {
      "text/plain": [
       "-18"
      ]
     },
     "execution_count": 52,
     "metadata": {},
     "output_type": "execute_result"
    }
   ],
   "source": [
    "x - y"
   ]
  },
  {
   "cell_type": "code",
   "execution_count": 54,
   "id": "6d19120c-e5f4-4710-b417-36d63acadd2a",
   "metadata": {},
   "outputs": [
    {
     "data": {
      "text/plain": [
       "0.1"
      ]
     },
     "execution_count": 54,
     "metadata": {},
     "output_type": "execute_result"
    }
   ],
   "source": [
    "x / y"
   ]
  },
  {
   "cell_type": "code",
   "execution_count": 56,
   "id": "b9a32510-32d1-4756-9141-ffe52c353e3d",
   "metadata": {},
   "outputs": [
    {
     "data": {
      "text/plain": [
       "0"
      ]
     },
     "execution_count": 56,
     "metadata": {},
     "output_type": "execute_result"
    }
   ],
   "source": [
    "x // y"
   ]
  },
  {
   "cell_type": "code",
   "execution_count": 58,
   "id": "02a065dc-ef6d-4f08-b476-ba9ddd1bf91b",
   "metadata": {},
   "outputs": [
    {
     "data": {
      "text/plain": [
       "2"
      ]
     },
     "execution_count": 58,
     "metadata": {},
     "output_type": "execute_result"
    }
   ],
   "source": [
    "x % y"
   ]
  },
  {
   "cell_type": "code",
   "execution_count": 62,
   "id": "35ea22e9-f1bf-4309-bb94-477f9d9d49a0",
   "metadata": {},
   "outputs": [
    {
     "data": {
      "text/plain": [
       "False"
      ]
     },
     "execution_count": 62,
     "metadata": {},
     "output_type": "execute_result"
    }
   ],
   "source": [
    "# Now let's try comparison operators...\n",
    "x > y"
   ]
  },
  {
   "cell_type": "code",
   "execution_count": 64,
   "id": "01b0f800-e971-4c68-b797-4d3604c17bd7",
   "metadata": {},
   "outputs": [
    {
     "data": {
      "text/plain": [
       "True"
      ]
     },
     "execution_count": 64,
     "metadata": {},
     "output_type": "execute_result"
    }
   ],
   "source": [
    "x < y"
   ]
  },
  {
   "cell_type": "code",
   "execution_count": 66,
   "id": "b41866e1-31a8-48d9-b25f-dd73da0edf74",
   "metadata": {},
   "outputs": [
    {
     "data": {
      "text/plain": [
       "False"
      ]
     },
     "execution_count": 66,
     "metadata": {},
     "output_type": "execute_result"
    }
   ],
   "source": [
    "x == y # Proving equality"
   ]
  },
  {
   "cell_type": "code",
   "execution_count": 68,
   "id": "fbafe95c-f78e-4b61-a943-dbb1caa921a6",
   "metadata": {},
   "outputs": [
    {
     "data": {
      "text/plain": [
       "True"
      ]
     },
     "execution_count": 68,
     "metadata": {},
     "output_type": "execute_result"
    }
   ],
   "source": [
    "x != y"
   ]
  },
  {
   "cell_type": "code",
   "execution_count": 70,
   "id": "a335643a-7944-44a2-84c6-f3d39a0d580c",
   "metadata": {},
   "outputs": [
    {
     "data": {
      "text/plain": [
       "True"
      ]
     },
     "execution_count": 70,
     "metadata": {},
     "output_type": "execute_result"
    }
   ],
   "source": [
    "x <= y"
   ]
  },
  {
   "cell_type": "code",
   "execution_count": 72,
   "id": "827f3a57-7c4e-432c-baf2-bafb231caaa2",
   "metadata": {},
   "outputs": [
    {
     "data": {
      "text/plain": [
       "False"
      ]
     },
     "execution_count": 72,
     "metadata": {},
     "output_type": "execute_result"
    }
   ],
   "source": [
    "x >= y"
   ]
  },
  {
   "cell_type": "markdown",
   "id": "8674f9fc-c175-48b6-867a-084e554afccf",
   "metadata": {},
   "source": [
    "## INTERACTIVE CHALLENGE"
   ]
  },
  {
   "cell_type": "markdown",
   "id": "af1c275e-4785-4b18-8823-ada93286dcdb",
   "metadata": {},
   "source": [
    "### CHALLENGE QUESTION #1: What will happen if I run the following?"
   ]
  },
  {
   "cell_type": "code",
   "execution_count": 76,
   "id": "e3352425-1469-4e9d-9c99-9515150bf59e",
   "metadata": {},
   "outputs": [
    {
     "data": {
      "text/plain": [
       "True"
      ]
     },
     "execution_count": 76,
     "metadata": {},
     "output_type": "execute_result"
    }
   ],
   "source": [
    "# (x != y) == 1"
   ]
  },
  {
   "cell_type": "markdown",
   "id": "382ee6c3-ccca-4d3a-9de3-1351237ff1c2",
   "metadata": {},
   "source": [
    "### CHALLENGE QUESTION #2: What is the type for this statement's output?"
   ]
  },
  {
   "cell_type": "code",
   "execution_count": 86,
   "id": "b7dcfa38-dc03-4915-a3d4-482741116069",
   "metadata": {},
   "outputs": [
    {
     "data": {
      "text/plain": [
       "-4.0"
      ]
     },
     "execution_count": 86,
     "metadata": {},
     "output_type": "execute_result"
    }
   ],
   "source": [
    "# (8.0 * 3) - 28.00"
   ]
  },
  {
   "cell_type": "code",
   "execution_count": null,
   "id": "46463019-a242-4b26-b301-82c74bd53ba3",
   "metadata": {},
   "outputs": [],
   "source": [
    "### CHALLENGE QUESTION #3: What will be the output if I run this code?"
   ]
  },
  {
   "cell_type": "code",
   "execution_count": 94,
   "id": "0007833e-2597-413c-b1aa-daa3785276e6",
   "metadata": {},
   "outputs": [],
   "source": [
    "# a = None\n",
    "# a"
   ]
  },
  {
   "cell_type": "code",
   "execution_count": null,
   "id": "e75f6b6a-db84-4715-b482-e02d07a0ba96",
   "metadata": {},
   "outputs": [],
   "source": [
    "### How about this code?"
   ]
  },
  {
   "cell_type": "code",
   "execution_count": 96,
   "id": "9080bcca-6604-4ed2-84c1-0c18468bc348",
   "metadata": {},
   "outputs": [
    {
     "name": "stdout",
     "output_type": "stream",
     "text": [
      "None\n"
     ]
    }
   ],
   "source": [
    "# print(a)"
   ]
  }
 ],
 "metadata": {
  "kernelspec": {
   "display_name": "Python 3 (ipykernel)",
   "language": "python",
   "name": "python3"
  },
  "language_info": {
   "codemirror_mode": {
    "name": "ipython",
    "version": 3
   },
   "file_extension": ".py",
   "mimetype": "text/x-python",
   "name": "python",
   "nbconvert_exporter": "python",
   "pygments_lexer": "ipython3",
   "version": "3.11.7"
  }
 },
 "nbformat": 4,
 "nbformat_minor": 5
}
