{
 "cells": [
  {
   "cell_type": "markdown",
   "id": "dced46fd-b553-4dbe-92a3-d753e64bdcff",
   "metadata": {},
   "source": [
    "## Lecture 8: String Manipulation & Text Processing"
   ]
  },
  {
   "cell_type": "markdown",
   "id": "c78d1cb3-d677-4ec6-9ba8-bf1d022df821",
   "metadata": {},
   "source": [
    "After this lesson, students should be able to:"
   ]
  },
  {
   "cell_type": "markdown",
   "id": "48ed17d5-e944-4bee-9025-d2938a35b3ff",
   "metadata": {},
   "source": [
    "- Understand how to build strings\n",
    "- Be familiar with string indexing, slicing and striding\n",
    "- Navigate f-strings\n",
    "- Concatenate strings\n",
    "- Know the use cases for, and know how to apply basic string functions"
   ]
  },
  {
   "cell_type": "markdown",
   "id": "87321d80-0513-4ab4-b32a-4f39342ede12",
   "metadata": {},
   "source": [
    "## 1) Basics"
   ]
  },
  {
   "cell_type": "code",
   "execution_count": 8,
   "id": "7eee2689-014a-4eeb-afc0-e2e88a25cd56",
   "metadata": {},
   "outputs": [
    {
     "data": {
      "text/plain": [
       "[10, 8, 6, 4, 2]"
      ]
     },
     "execution_count": 8,
     "metadata": {},
     "output_type": "execute_result"
    }
   ],
   "source": [
    "evens = [2, 4, 6, 8, 10]\n",
    "evens[::-1]"
   ]
  },
  {
   "cell_type": "code",
   "execution_count": 10,
   "id": "2ad560e8-d60a-4c1f-b216-6a926bf7a945",
   "metadata": {},
   "outputs": [
    {
     "data": {
      "text/plain": [
       "[10, 6, 2]"
      ]
     },
     "execution_count": 10,
     "metadata": {},
     "output_type": "execute_result"
    }
   ],
   "source": [
    "evens[::-2]"
   ]
  },
  {
   "cell_type": "code",
   "execution_count": 18,
   "id": "e0704071-4d2d-4e94-9c08-f272610f7f17",
   "metadata": {},
   "outputs": [
    {
     "data": {
      "text/plain": [
       "[2, 4, 6]"
      ]
     },
     "execution_count": 18,
     "metadata": {},
     "output_type": "execute_result"
    }
   ],
   "source": [
    "evens[:3] # Notice this behavior... needs at least two rounds of 'striding' for the functionality to work.\n",
    "            # Otherwise, will default to first n items."
   ]
  },
  {
   "cell_type": "code",
   "execution_count": 20,
   "id": "cd5cfa67-04bb-4398-9ce0-bd483426c028",
   "metadata": {},
   "outputs": [
    {
     "data": {
      "text/plain": [
       "[1, 3, 5, 7, 9, 2, 4, 6, 8, 10]"
      ]
     },
     "execution_count": 20,
     "metadata": {},
     "output_type": "execute_result"
    }
   ],
   "source": [
    "odds = [1, 3, 5, 7, 9]\n",
    "odds + evens"
   ]
  },
  {
   "cell_type": "code",
   "execution_count": 28,
   "id": "88ce368e-e3f8-48c3-8a94-32d7730d5a39",
   "metadata": {},
   "outputs": [
    {
     "data": {
      "text/plain": [
       "[1, 3, 5, 7, 9, 1, 3, 5, 7, 9]"
      ]
     },
     "execution_count": 28,
     "metadata": {},
     "output_type": "execute_result"
    }
   ],
   "source": [
    "odds * 2"
   ]
  },
  {
   "cell_type": "code",
   "execution_count": 34,
   "id": "116f194b-d514-4c46-9536-c3520f56c641",
   "metadata": {},
   "outputs": [
    {
     "ename": "TypeError",
     "evalue": "can only concatenate list (not \"int\") to list",
     "output_type": "error",
     "traceback": [
      "\u001b[0;31m---------------------------------------------------------------------------\u001b[0m",
      "\u001b[0;31mTypeError\u001b[0m                                 Traceback (most recent call last)",
      "Cell \u001b[0;32mIn[34], line 1\u001b[0m\n\u001b[0;32m----> 1\u001b[0m odds \u001b[38;5;241m+\u001b[39m \u001b[38;5;241m2\u001b[39m\n",
      "\u001b[0;31mTypeError\u001b[0m: can only concatenate list (not \"int\") to list"
     ]
    }
   ],
   "source": [
    "odds + 2"
   ]
  },
  {
   "cell_type": "code",
   "execution_count": 36,
   "id": "026ed28e-6ea3-4750-bfb9-52ad018e6acd",
   "metadata": {},
   "outputs": [
    {
     "data": {
      "text/plain": [
       "[1, 3, 5, 7, 9, 2]"
      ]
     },
     "execution_count": 36,
     "metadata": {},
     "output_type": "execute_result"
    }
   ],
   "source": [
    "odds + [2]"
   ]
  },
  {
   "cell_type": "markdown",
   "id": "7bb45179-0ff9-4add-b39e-638cca9478b4",
   "metadata": {},
   "source": [
    "## 2) F-strings"
   ]
  },
  {
   "cell_type": "code",
   "execution_count": 40,
   "id": "4eacfef9-3c1d-45a6-99a6-7525d0ed574b",
   "metadata": {},
   "outputs": [
    {
     "name": "stdout",
     "output_type": "stream",
     "text": [
      "My favorite color is yellow.\n"
     ]
    }
   ],
   "source": [
    "bella_fav = 'yellow'\n",
    "print(f\"My favorite color is {bella_fav}.\")"
   ]
  },
  {
   "cell_type": "code",
   "execution_count": 42,
   "id": "bb977890-fac6-4446-9510-cca29384fd64",
   "metadata": {},
   "outputs": [
    {
     "name": "stdout",
     "output_type": "stream",
     "text": [
      "My favorite color is blue.\n"
     ]
    }
   ],
   "source": [
    "xuetao_fav = 'blue'\n",
    "print(f\"My favorite color is {xuetao_fav}.\")"
   ]
  },
  {
   "cell_type": "code",
   "execution_count": 44,
   "id": "4cba9d01-d20e-4b11-8f66-146ad51d96f3",
   "metadata": {},
   "outputs": [
    {
     "name": "stdout",
     "output_type": "stream",
     "text": [
      "The first few digits of pi are 3.14159265.\n"
     ]
    }
   ],
   "source": [
    "pi = 3.14159265\n",
    "print(f\"The first few digits of pi are {pi}.\")"
   ]
  },
  {
   "cell_type": "code",
   "execution_count": 46,
   "id": "d8da12ca-7c40-4fb0-9332-6bbad5537e74",
   "metadata": {},
   "outputs": [
    {
     "name": "stdout",
     "output_type": "stream",
     "text": [
      "8 * 7 = 56\n"
     ]
    }
   ],
   "source": [
    "print(f\"8 * 7 = {8 * 7}\")"
   ]
  },
  {
   "cell_type": "markdown",
   "id": "220318a4-cfff-47d2-b59f-c7d1acc2b018",
   "metadata": {},
   "source": [
    "## 3) A few string functions, applied"
   ]
  },
  {
   "cell_type": "code",
   "execution_count": 49,
   "id": "ce787cb5-02f1-4320-9a8c-c7afbc07938c",
   "metadata": {},
   "outputs": [
    {
     "data": {
      "text/plain": [
       "'We are currently in class at the University of Washington!'"
      ]
     },
     "execution_count": 49,
     "metadata": {},
     "output_type": "execute_result"
    }
   ],
   "source": [
    "statement = \"We are currently in class at the University of Washington!\"\n",
    "statement"
   ]
  },
  {
   "cell_type": "code",
   "execution_count": 51,
   "id": "7ffee457-f3ca-4fe8-a739-91d44c62e957",
   "metadata": {},
   "outputs": [
    {
     "data": {
      "text/plain": [
       "'we are currently in class at the university of washington!'"
      ]
     },
     "execution_count": 51,
     "metadata": {},
     "output_type": "execute_result"
    }
   ],
   "source": [
    "statement.lower()"
   ]
  },
  {
   "cell_type": "code",
   "execution_count": 53,
   "id": "54cea5bd-d3b4-45ba-87e6-596b1027083c",
   "metadata": {},
   "outputs": [
    {
     "data": {
      "text/plain": [
       "'WE ARE CURRENTLY IN CLASS AT THE UNIVERSITY OF WASHINGTON!'"
      ]
     },
     "execution_count": 53,
     "metadata": {},
     "output_type": "execute_result"
    }
   ],
   "source": [
    "statement.upper()"
   ]
  },
  {
   "cell_type": "code",
   "execution_count": 55,
   "id": "cefce082-b060-4d41-9259-56a3350245a2",
   "metadata": {},
   "outputs": [
    {
     "data": {
      "text/plain": [
       "False"
      ]
     },
     "execution_count": 55,
     "metadata": {},
     "output_type": "execute_result"
    }
   ],
   "source": [
    "statement.islower()"
   ]
  },
  {
   "cell_type": "code",
   "execution_count": 57,
   "id": "b5363364-df07-4dc1-ad8e-4fb08ffe32fc",
   "metadata": {},
   "outputs": [
    {
     "data": {
      "text/plain": [
       "['We',\n",
       " 'are',\n",
       " 'currently',\n",
       " 'in',\n",
       " 'class',\n",
       " 'at',\n",
       " 'the',\n",
       " 'University',\n",
       " 'of',\n",
       " 'Washington!']"
      ]
     },
     "execution_count": 57,
     "metadata": {},
     "output_type": "execute_result"
    }
   ],
   "source": [
    "statement.split(\" \")"
   ]
  },
  {
   "cell_type": "code",
   "execution_count": 59,
   "id": "048ec9b4-e6df-461e-8ea1-d6fec1e50b8c",
   "metadata": {},
   "outputs": [
    {
     "data": {
      "text/plain": [
       "['We are currently in class at the University of Washington', '']"
      ]
     },
     "execution_count": 59,
     "metadata": {},
     "output_type": "execute_result"
    }
   ],
   "source": [
    "statement.split(\"!\")"
   ]
  },
  {
   "cell_type": "code",
   "execution_count": 61,
   "id": "fc5ffbda-9466-42d3-8932-6b1e5f03afa9",
   "metadata": {},
   "outputs": [
    {
     "data": {
      "text/plain": [
       "1"
      ]
     },
     "execution_count": 61,
     "metadata": {},
     "output_type": "execute_result"
    }
   ],
   "source": [
    "statement.count(\"We\")"
   ]
  },
  {
   "cell_type": "code",
   "execution_count": 63,
   "id": "ad499880-93b7-4378-8864-e0db54411308",
   "metadata": {},
   "outputs": [
    {
     "data": {
      "text/plain": [
       "'We are currently in outer space at the University of Washington!'"
      ]
     },
     "execution_count": 63,
     "metadata": {},
     "output_type": "execute_result"
    }
   ],
   "source": [
    "statement.replace(\"class\", \"outer space\")"
   ]
  },
  {
   "cell_type": "code",
   "execution_count": 69,
   "id": "fe2cec6b-ca75-4620-8a0e-7b462ddde93f",
   "metadata": {},
   "outputs": [
    {
     "data": {
      "text/plain": [
       "47"
      ]
     },
     "execution_count": 69,
     "metadata": {},
     "output_type": "execute_result"
    }
   ],
   "source": [
    "statement.find(\"Washington\") # Notice it takes the CHARACTER index space!"
   ]
  },
  {
   "cell_type": "markdown",
   "id": "64286c2e-9b6c-44f5-b66c-0434456ff521",
   "metadata": {},
   "source": [
    "## INTERACTIVE CHALLENGE"
   ]
  },
  {
   "cell_type": "markdown",
   "id": "255f9ff6-7c8b-41a3-9e28-52472fd7f5ce",
   "metadata": {},
   "source": [
    "### CHALLENGE QUESTION #1: Write an introduction function for yourself for both yourself and the name and age of someone sitting near you, using f-strings."
   ]
  },
  {
   "cell_type": "code",
   "execution_count": null,
   "id": "cca9f84c-20e0-438f-b773-dd2b517efca5",
   "metadata": {},
   "outputs": [],
   "source": [
    "my_name = ...\n",
    "my_age = ...\n",
    "parter_name = ...\n",
    "partner_age = ..."
   ]
  },
  {
   "cell_type": "code",
   "execution_count": null,
   "id": "ab334c6b-1dfd-415f-b273-7a9806c3c6c2",
   "metadata": {},
   "outputs": [],
   "source": [
    "def introduction(name, age):\n",
    "    ... "
   ]
  },
  {
   "cell_type": "code",
   "execution_count": null,
   "id": "fe054ae0-fdcf-4d7e-9cce-f4d9b0dfa9c0",
   "metadata": {},
   "outputs": [],
   "source": [
    "# This cell should output the intro for yourself.\n",
    "introduction(my_name, my_age)"
   ]
  },
  {
   "cell_type": "code",
   "execution_count": null,
   "id": "769c3abb-ac6d-4798-a95c-01f85ceaa271",
   "metadata": {},
   "outputs": [],
   "source": [
    "# This cell should output the intro for your partner.\n",
    "introduction(partner_name, partner_age)"
   ]
  },
  {
   "cell_type": "markdown",
   "id": "3ec573cc-c25f-4aae-b26c-1073e25ed7da",
   "metadata": {},
   "source": [
    "### CHALLENGE QUESTION #2: Write a function that outputs everything the same as the introduction function from Question #1 did -- but backwards!"
   ]
  },
  {
   "cell_type": "code",
   "execution_count": null,
   "id": "a551ebab-057a-4947-a785-6b0f6d77897b",
   "metadata": {},
   "outputs": [],
   "source": [
    "def backward_intro(name, age):\n",
    "    ..."
   ]
  },
  {
   "cell_type": "code",
   "execution_count": 76,
   "id": "b4f2ad36-67f6-4ce1-ae78-2cdd4e8c1033",
   "metadata": {},
   "outputs": [],
   "source": [
    "# Try it on yourself!\n",
    "backward_intro(my_name, my_age)"
   ]
  }
 ],
 "metadata": {
  "kernelspec": {
   "display_name": "Python 3 (ipykernel)",
   "language": "python",
   "name": "python3"
  },
  "language_info": {
   "codemirror_mode": {
    "name": "ipython",
    "version": 3
   },
   "file_extension": ".py",
   "mimetype": "text/x-python",
   "name": "python",
   "nbconvert_exporter": "python",
   "pygments_lexer": "ipython3",
   "version": "3.11.7"
  }
 },
 "nbformat": 4,
 "nbformat_minor": 5
}
