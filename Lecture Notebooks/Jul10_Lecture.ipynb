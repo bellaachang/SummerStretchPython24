{
 "cells": [
  {
   "cell_type": "markdown",
   "id": "05b34e4c-d2bc-485d-a276-0259e843b7db",
   "metadata": {},
   "source": [
    "## Lecture 6: Data Structures I"
   ]
  },
  {
   "cell_type": "markdown",
   "id": "8a7a53ec-34d0-41a1-9f2e-52aba69cf7b8",
   "metadata": {},
   "source": [
    "After this lecture, students should be able to:"
   ]
  },
  {
   "cell_type": "markdown",
   "id": "f889d331-e265-45b1-bba6-f70bf25c9679",
   "metadata": {},
   "source": [
    "- Understand what a data structure is and what it is generally used for\n",
    "- Know the built-in Python data structures\n",
    "- Implement basic lists and tuples\n",
    "- Understand how to manipulate a list\n",
    "- Understand differences between lists and tuples"
   ]
  },
  {
   "cell_type": "markdown",
   "id": "8ac1d961-73a5-4731-b86e-664c54789c05",
   "metadata": {},
   "source": [
    "## 1) Lists"
   ]
  },
  {
   "cell_type": "code",
   "execution_count": 5,
   "id": "b44540c6-c071-456a-9a8d-20c29133100f",
   "metadata": {},
   "outputs": [
    {
     "data": {
      "text/plain": [
       "[1, 2, 3, 4]"
      ]
     },
     "execution_count": 5,
     "metadata": {},
     "output_type": "execute_result"
    }
   ],
   "source": [
    "a = [1, 2, 3, 4]\n",
    "a"
   ]
  },
  {
   "cell_type": "code",
   "execution_count": 6,
   "id": "270c6982-76d2-4666-b003-fab62ab08715",
   "metadata": {},
   "outputs": [
    {
     "data": {
      "text/plain": [
       "1"
      ]
     },
     "execution_count": 6,
     "metadata": {},
     "output_type": "execute_result"
    }
   ],
   "source": [
    "a[0]"
   ]
  },
  {
   "cell_type": "code",
   "execution_count": 7,
   "id": "30889b7c-69b2-4ab6-9980-51c36e5051f3",
   "metadata": {},
   "outputs": [
    {
     "data": {
      "text/plain": [
       "[2, 3, 4]"
      ]
     },
     "execution_count": 7,
     "metadata": {},
     "output_type": "execute_result"
    }
   ],
   "source": [
    "a[1:]"
   ]
  },
  {
   "cell_type": "code",
   "execution_count": 8,
   "id": "f3d7a02f-c172-48e8-ac5e-d3c8270e3e28",
   "metadata": {},
   "outputs": [
    {
     "data": {
      "text/plain": [
       "[3, 4]"
      ]
     },
     "execution_count": 8,
     "metadata": {},
     "output_type": "execute_result"
    }
   ],
   "source": [
    "a[2:4]"
   ]
  },
  {
   "cell_type": "code",
   "execution_count": 9,
   "id": "bba7a1b7-5468-48d5-be02-470584a3f5fd",
   "metadata": {},
   "outputs": [
    {
     "data": {
      "text/plain": [
       "[1, 2, 3, 4]"
      ]
     },
     "execution_count": 9,
     "metadata": {},
     "output_type": "execute_result"
    }
   ],
   "source": [
    "a[0:]"
   ]
  },
  {
   "cell_type": "code",
   "execution_count": 10,
   "id": "3673c55a-0f79-4e6a-9e40-126f786187ed",
   "metadata": {},
   "outputs": [
    {
     "data": {
      "text/plain": [
       "[1, 2, 3, 4]"
      ]
     },
     "execution_count": 10,
     "metadata": {},
     "output_type": "execute_result"
    }
   ],
   "source": [
    "a[:] # What's the difference between this and the previous call?"
   ]
  },
  {
   "cell_type": "code",
   "execution_count": 11,
   "id": "d90f079f-baac-475a-80c7-0aae2d717dda",
   "metadata": {},
   "outputs": [
    {
     "data": {
      "text/plain": [
       "[1, 2, 3, 4, 5]"
      ]
     },
     "execution_count": 11,
     "metadata": {},
     "output_type": "execute_result"
    }
   ],
   "source": [
    "a.append(5)\n",
    "a"
   ]
  },
  {
   "cell_type": "code",
   "execution_count": 12,
   "id": "0e416384-7010-40be-9256-6e3d6a553eeb",
   "metadata": {},
   "outputs": [
    {
     "data": {
      "text/plain": [
       "[3, 1, 2, 3, 4, 5]"
      ]
     },
     "execution_count": 12,
     "metadata": {},
     "output_type": "execute_result"
    }
   ],
   "source": [
    "a.insert(0, 3)\n",
    "a"
   ]
  },
  {
   "cell_type": "code",
   "execution_count": 13,
   "id": "acd4a35a-b064-44c7-bbb2-e8702676e995",
   "metadata": {},
   "outputs": [
    {
     "data": {
      "text/plain": [
       "[1, 2, 3, 4, 5]"
      ]
     },
     "execution_count": 13,
     "metadata": {},
     "output_type": "execute_result"
    }
   ],
   "source": [
    "a.remove(3)\n",
    "a"
   ]
  },
  {
   "cell_type": "code",
   "execution_count": 14,
   "id": "5bc2852a-69ea-412d-9be9-25cc94d168c9",
   "metadata": {},
   "outputs": [
    {
     "data": {
      "text/plain": [
       "5"
      ]
     },
     "execution_count": 14,
     "metadata": {},
     "output_type": "execute_result"
    }
   ],
   "source": [
    "a.pop()"
   ]
  },
  {
   "cell_type": "code",
   "execution_count": 15,
   "id": "8d31ae98-ab37-42da-a136-ef769258f7c2",
   "metadata": {},
   "outputs": [
    {
     "data": {
      "text/plain": [
       "[1, 2, 3, 4, 8, 8, 10, 11]"
      ]
     },
     "execution_count": 15,
     "metadata": {},
     "output_type": "execute_result"
    }
   ],
   "source": [
    "b = [8, 8, 10, 11]\n",
    "added = a + b\n",
    "added"
   ]
  },
  {
   "cell_type": "code",
   "execution_count": 29,
   "id": "26ea9e36-5ef8-45e3-9728-fd89e4d7c12d",
   "metadata": {},
   "outputs": [
    {
     "data": {
      "text/plain": [
       "[1, 2, 3, 4, [8, 8, 10, 11]]"
      ]
     },
     "execution_count": 29,
     "metadata": {},
     "output_type": "execute_result"
    }
   ],
   "source": [
    "appended = a[:]\n",
    "appended.append(b)\n",
    "appended"
   ]
  },
  {
   "cell_type": "markdown",
   "id": "bc97963f-574e-40a4-929e-730c8dc99390",
   "metadata": {},
   "source": [
    "## 2) Tuples"
   ]
  },
  {
   "cell_type": "code",
   "execution_count": 32,
   "id": "238343ad-b398-4eaa-8a6c-3bf2ebafc1e8",
   "metadata": {},
   "outputs": [
    {
     "data": {
      "text/plain": [
       "('carrots', 'cabbage', 'corn')"
      ]
     },
     "execution_count": 32,
     "metadata": {},
     "output_type": "execute_result"
    }
   ],
   "source": [
    "veggies = ('carrots', 'cabbage', 'corn')\n",
    "veggies"
   ]
  },
  {
   "cell_type": "code",
   "execution_count": 34,
   "id": "0ebc17bc-78aa-4f78-896c-c3e8e57d66f0",
   "metadata": {},
   "outputs": [
    {
     "data": {
      "text/plain": [
       "'carrots'"
      ]
     },
     "execution_count": 34,
     "metadata": {},
     "output_type": "execute_result"
    }
   ],
   "source": [
    "veggies[0]"
   ]
  },
  {
   "cell_type": "code",
   "execution_count": 36,
   "id": "0271d4dd-109f-485c-aa90-ad144279229e",
   "metadata": {},
   "outputs": [
    {
     "data": {
      "text/plain": [
       "(('carrots', 'cabbage', 'corn'), ('broccoli', 'cauliflower'))"
      ]
     },
     "execution_count": 36,
     "metadata": {},
     "output_type": "execute_result"
    }
   ],
   "source": [
    "more_veg = ('broccoli', 'cauliflower')\n",
    "\n",
    "all_veg = (veggies, more_veg)\n",
    "all_veg"
   ]
  },
  {
   "cell_type": "code",
   "execution_count": 38,
   "id": "fe1faf48-cd6a-4c82-bc6e-361bc2eb5da5",
   "metadata": {},
   "outputs": [
    {
     "data": {
      "text/plain": [
       "2"
      ]
     },
     "execution_count": 38,
     "metadata": {},
     "output_type": "execute_result"
    }
   ],
   "source": [
    "len(all_veg)"
   ]
  },
  {
   "cell_type": "code",
   "execution_count": 40,
   "id": "cf4f877a-bf92-4785-ae70-63c17de77bef",
   "metadata": {},
   "outputs": [
    {
     "data": {
      "text/plain": [
       "3"
      ]
     },
     "execution_count": 40,
     "metadata": {},
     "output_type": "execute_result"
    }
   ],
   "source": [
    "len(all_veg[0])"
   ]
  },
  {
   "cell_type": "markdown",
   "id": "7d175818-70d1-4c3d-b7c8-8f54effcb2b6",
   "metadata": {},
   "source": [
    "## INTERACTIVE CHALLENGE"
   ]
  },
  {
   "cell_type": "markdown",
   "id": "e8b933d8-fad3-4cd8-aa70-3b362a42396b",
   "metadata": {},
   "source": [
    "### CHALLENGE QUESTION #1: We know there is a way to get the length of a list using `len(list)`. But what if that function didn't exist? Can you implement a for loop that counts all elements in a list? "
   ]
  },
  {
   "cell_type": "code",
   "execution_count": null,
   "id": "846f9a37-c207-494c-a181-b09350b76e7e",
   "metadata": {},
   "outputs": [],
   "source": [
    "count = 0\n",
    "for ..."
   ]
  },
  {
   "cell_type": "markdown",
   "id": "30f05b38-2419-4489-b0f2-01f43330ed2f",
   "metadata": {},
   "source": [
    "### CHALLENGE QUESTION #2: Convert this tuple into a list (no -- you cannot just call `list(tup)` though that does work)!"
   ]
  },
  {
   "cell_type": "code",
   "execution_count": 56,
   "id": "42575dc1-ee10-4675-9f2e-fe87dfcca187",
   "metadata": {},
   "outputs": [],
   "source": [
    "tup = ('brownie', 'cookie', 'cake')\n",
    "..."
   ]
  }
 ],
 "metadata": {
  "kernelspec": {
   "display_name": "Python 3 (ipykernel)",
   "language": "python",
   "name": "python3"
  },
  "language_info": {
   "codemirror_mode": {
    "name": "ipython",
    "version": 3
   },
   "file_extension": ".py",
   "mimetype": "text/x-python",
   "name": "python",
   "nbconvert_exporter": "python",
   "pygments_lexer": "ipython3",
   "version": "3.11.7"
  }
 },
 "nbformat": 4,
 "nbformat_minor": 5
}
