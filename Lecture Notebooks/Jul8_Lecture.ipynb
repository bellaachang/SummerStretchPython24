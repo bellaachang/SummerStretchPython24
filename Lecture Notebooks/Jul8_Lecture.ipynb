{
 "cells": [
  {
   "cell_type": "markdown",
   "id": "48f3e9c7-d7ec-4bb2-81a5-ac03bed418a7",
   "metadata": {},
   "source": [
    "# Intro to Functions"
   ]
  },
  {
   "cell_type": "markdown",
   "id": "813efec4-682d-4d0a-98df-fafb326f18a4",
   "metadata": {},
   "source": [
    "## Why Functions? "
   ]
  },
  {
   "cell_type": "code",
   "execution_count": 6,
   "id": "a972d0e0-c304-4eb7-a45c-fd59d85ccdff",
   "metadata": {},
   "outputs": [],
   "source": [
    "import math\n"
   ]
  },
  {
   "cell_type": "code",
   "execution_count": 34,
   "id": "aaf24bae-9149-489a-968c-9422dcfa3f10",
   "metadata": {},
   "outputs": [],
   "source": [
    "def power(e = 2,f = 2):\n",
    "    '''\n",
    "    this gives the power of e to f\n",
    "    default of f is 2. No f, it gives square of e.\n",
    "    '''\n",
    "    while e <4:\n",
    "        e = e + 1 \n",
    "        if f < 3:\n",
    "            f += 1\n",
    "            #f = f + 1\n",
    "            # f -= 1\n",
    "        else:\n",
    "            continue\n",
    "    return e ** f"
   ]
  },
  {
   "cell_type": "code",
   "execution_count": 35,
   "id": "eeafbffe-512f-42b9-b153-0ac7ba68933a",
   "metadata": {},
   "outputs": [],
   "source": [
    "b  =  power()"
   ]
  },
  {
   "cell_type": "code",
   "execution_count": 36,
   "id": "1809ac7c-719a-4cca-86e2-9e910f60bd0f",
   "metadata": {},
   "outputs": [
    {
     "data": {
      "text/plain": [
       "125"
      ]
     },
     "execution_count": 36,
     "metadata": {},
     "output_type": "execute_result"
    }
   ],
   "source": [
    "b"
   ]
  },
  {
   "cell_type": "code",
   "execution_count": 16,
   "id": "5fb82aa7-c662-4cae-bf5b-2daa8d330f33",
   "metadata": {},
   "outputs": [],
   "source": [
    "# 1. Functions keep work manageable, reusable and organized. \n",
    "# 2. Functions help break down hard problems. \n",
    "def sums(a,b):\n",
    "    c = a + b\n",
    "    return c"
   ]
  },
  {
   "cell_type": "code",
   "execution_count": 17,
   "id": "b7217e53-313d-4585-a048-c018223cde13",
   "metadata": {},
   "outputs": [
    {
     "data": {
      "text/plain": [
       "3"
      ]
     },
     "execution_count": 17,
     "metadata": {},
     "output_type": "execute_result"
    }
   ],
   "source": [
    "sums(1,2)"
   ]
  },
  {
   "cell_type": "markdown",
   "id": "6a966ef7-b7a4-48e1-ab7b-611bd032c4c4",
   "metadata": {},
   "source": [
    "#### Default parameters"
   ]
  },
  {
   "cell_type": "code",
   "execution_count": 21,
   "id": "db850384-b3ec-48b2-aa7c-da5418bf4da5",
   "metadata": {},
   "outputs": [],
   "source": [
    "def sums2(a,b,c=1):\n",
    "    d = a + b + c\n",
    "    return d"
   ]
  },
  {
   "cell_type": "code",
   "execution_count": 22,
   "id": "948e3010-d425-475c-8088-49103b2dbda3",
   "metadata": {},
   "outputs": [
    {
     "data": {
      "text/plain": [
       "4"
      ]
     },
     "execution_count": 22,
     "metadata": {},
     "output_type": "execute_result"
    }
   ],
   "source": [
    "sums2(1,2)"
   ]
  },
  {
   "cell_type": "code",
   "execution_count": 23,
   "id": "76d74311-2c6d-4347-9944-96208d40657c",
   "metadata": {},
   "outputs": [
    {
     "data": {
      "text/plain": [
       "6"
      ]
     },
     "execution_count": 23,
     "metadata": {},
     "output_type": "execute_result"
    }
   ],
   "source": [
    "sums2(1,2,3)"
   ]
  },
  {
   "cell_type": "code",
   "execution_count": 24,
   "id": "d709009e-98a3-46ff-83b3-6b0443cdebf9",
   "metadata": {},
   "outputs": [],
   "source": [
    "value = sums2(1,2,3)"
   ]
  },
  {
   "cell_type": "code",
   "execution_count": 25,
   "id": "94a72c20-a4bf-40b4-9973-372546f8d880",
   "metadata": {},
   "outputs": [
    {
     "data": {
      "text/plain": [
       "6"
      ]
     },
     "execution_count": 25,
     "metadata": {},
     "output_type": "execute_result"
    }
   ],
   "source": [
    "value"
   ]
  },
  {
   "cell_type": "markdown",
   "id": "711be06e-0182-402d-9432-d494b1800760",
   "metadata": {},
   "source": [
    "#### Defining variables: Local or global?"
   ]
  },
  {
   "cell_type": "code",
   "execution_count": 28,
   "id": "24ebcdad-43b0-4c40-826b-3ae04d968667",
   "metadata": {},
   "outputs": [],
   "source": [
    "def sums3(a,b,c=1):\n",
    "    bb = 2\n",
    "    d = a + b + c + aa + bb\n",
    "    return d"
   ]
  },
  {
   "cell_type": "code",
   "execution_count": 29,
   "id": "c05f4f95-5142-4160-a812-9fefc672d35b",
   "metadata": {},
   "outputs": [
    {
     "data": {
      "text/plain": [
       "18"
      ]
     },
     "execution_count": 29,
     "metadata": {},
     "output_type": "execute_result"
    }
   ],
   "source": [
    "aa = 10\n",
    "sums3(1,2,3)"
   ]
  },
  {
   "cell_type": "markdown",
   "id": "089d90d3-efda-4279-bfc8-f435150c3480",
   "metadata": {},
   "source": [
    "## Using functions!"
   ]
  },
  {
   "cell_type": "markdown",
   "id": "4560ceb8-8a1d-4a26-ab5b-950215965a24",
   "metadata": {},
   "source": [
    "### P1. Temperature Converter\n",
    "\n",
    "##### Write a function called convert_to_celsius that converts a temperature from Fahrenheit to Celsius and returns the result.\n",
    "##### C = 5/9 * (F - 32)"
   ]
  },
  {
   "cell_type": "code",
   "execution_count": 37,
   "id": "6cf3b0d0-38c3-40a8-ae4b-df2f8d12794d",
   "metadata": {},
   "outputs": [],
   "source": [
    "# F = C *9/5 + 32"
   ]
  },
  {
   "cell_type": "markdown",
   "id": "a1e5a9a9-237c-4eaa-84d9-28bc6d303b4a",
   "metadata": {},
   "source": [
    "#### Ask the user to put in current temperature as Celcius or the Fahrenheit.\n",
    "#### Return temperature with the unit."
   ]
  },
  {
   "cell_type": "code",
   "execution_count": 42,
   "id": "54405866-dd26-4cbd-891f-275a2e924dc7",
   "metadata": {},
   "outputs": [],
   "source": [
    "def convert_to_celsius(unit, temperature):\n",
    "    if unit == 'F':\n",
    "        temperature_new = 5/9 * (temperature - 32)\n",
    "        unit_new = 'C'\n",
    "    elif unit == 'C':\n",
    "        temperature_new = temperature* 9 /5 + 32\n",
    "        unit_new = 'F'\n",
    "    return print('Current temperature is', temperature_new, unit_new)"
   ]
  },
  {
   "cell_type": "code",
   "execution_count": 43,
   "id": "e19d2864-4525-4292-9ea4-29dfb88cb1aa",
   "metadata": {},
   "outputs": [
    {
     "name": "stdout",
     "output_type": "stream",
     "text": [
      "Current temperature is 37.77777777777778 C\n"
     ]
    }
   ],
   "source": [
    "convert_to_celsius('F', 100)"
   ]
  },
  {
   "cell_type": "markdown",
   "id": "1013ab5e-f183-4121-ace3-aae1d5cfe5e3",
   "metadata": {},
   "source": [
    "### P2. Sum of a List\n",
    "\n",
    "##### Write a function sum_list that takes a list of numbers as an argument and returns the sum of all elements in the list. Do not use the built-in sum() function."
   ]
  },
  {
   "cell_type": "code",
   "execution_count": 45,
   "id": "4b9f93f7-a205-4b67-845c-4d35ce772fbb",
   "metadata": {},
   "outputs": [
    {
     "name": "stdout",
     "output_type": "stream",
     "text": [
      "3\n",
      "5\n",
      "7\n",
      "20\n",
      "5\n",
      "9\n"
     ]
    }
   ],
   "source": [
    "for a in list:\n",
    "    print(a)"
   ]
  },
  {
   "cell_type": "code",
   "execution_count": 48,
   "id": "7887884a-3b09-44b4-98eb-09f6a880997c",
   "metadata": {},
   "outputs": [],
   "source": [
    "list = [3, 5, 7, 20, 5, 9] \n",
    "def sum_list(list):\n",
    "    ### Your codes here\n",
    "    sum = 0\n",
    "    for a in list:\n",
    "        sum += a\n",
    "    return sum"
   ]
  },
  {
   "cell_type": "code",
   "execution_count": 49,
   "id": "4d66fff4-d863-442a-bb3b-dbc1a97f710a",
   "metadata": {},
   "outputs": [
    {
     "name": "stdout",
     "output_type": "stream",
     "text": [
      "49\n"
     ]
    }
   ],
   "source": [
    "print(sum_list(list))"
   ]
  },
  {
   "cell_type": "code",
   "execution_count": null,
   "id": "901cddc5-c32b-4285-89c0-38ce0b699a39",
   "metadata": {},
   "outputs": [],
   "source": []
  },
  {
   "cell_type": "markdown",
   "id": "acc54efd-584e-4931-90a2-0be2169cbbbc",
   "metadata": {},
   "source": [
    "### Drawing with Turtle"
   ]
  },
  {
   "cell_type": "code",
   "execution_count": 50,
   "id": "67a79dd5-73dc-4b72-a621-e34ad5eed294",
   "metadata": {},
   "outputs": [],
   "source": [
    "import turtle"
   ]
  },
  {
   "cell_type": "code",
   "execution_count": 51,
   "id": "e0f85f13-7c2b-4cc6-99f9-181bca9cd66d",
   "metadata": {},
   "outputs": [],
   "source": [
    "t = turtle.turtles()"
   ]
  },
  {
   "cell_type": "code",
   "execution_count": 58,
   "id": "aeb83251-aa22-413d-99c0-e759ea55ba56",
   "metadata": {},
   "outputs": [],
   "source": [
    "turtle.reset()"
   ]
  },
  {
   "cell_type": "code",
   "execution_count": 52,
   "id": "22e63c20-af65-4c9f-b20e-79a08f266cea",
   "metadata": {},
   "outputs": [],
   "source": [
    "turtle.speed(0.1)"
   ]
  },
  {
   "cell_type": "code",
   "execution_count": 56,
   "id": "e6f8becf-4350-4782-8dcb-50efebeacfdf",
   "metadata": {},
   "outputs": [],
   "source": [
    "turtle.forward(60)"
   ]
  },
  {
   "cell_type": "code",
   "execution_count": 55,
   "id": "20bfa7a9-b1b7-4393-80a3-823b02fddf36",
   "metadata": {},
   "outputs": [],
   "source": [
    "turtle.left(90)"
   ]
  },
  {
   "cell_type": "code",
   "execution_count": 63,
   "id": "25a7c29a-f359-4575-897b-9255caa88824",
   "metadata": {},
   "outputs": [],
   "source": [
    "turtle.reset()\n",
    "for nlines in range(0,4):\n",
    "    turtle.forward(60)\n",
    "    turtle.left(90)"
   ]
  },
  {
   "cell_type": "code",
   "execution_count": 69,
   "id": "c77fb49f-d83a-435d-a549-d16c9d7fcbee",
   "metadata": {},
   "outputs": [],
   "source": [
    "turtle.reset()\n",
    "length = 20\n",
    "turtle.speed(0.1)\n",
    "for nsquares in range(0,100):\n",
    "    draw_squares(length)\n",
    "    #turtle.forward(60)\n",
    "    length += 5"
   ]
  },
  {
   "cell_type": "code",
   "execution_count": 65,
   "id": "c3acb316-9e4e-4ac8-ace5-04be2befde13",
   "metadata": {},
   "outputs": [],
   "source": [
    "def draw_squares(length):\n",
    "    for nlines in range(0,4):\n",
    "        turtle.forward(length)\n",
    "        turtle.left(90)"
   ]
  },
  {
   "cell_type": "code",
   "execution_count": null,
   "id": "45fcd3cb-2d46-40e8-a6c9-a711ccfe55cf",
   "metadata": {},
   "outputs": [],
   "source": []
  },
  {
   "cell_type": "code",
   "execution_count": 62,
   "id": "7b3bee50-3e54-4c43-97d4-dd76767fbb93",
   "metadata": {},
   "outputs": [],
   "source": [
    "turtle.reset()\n",
    "for nlines in range(0,6):\n",
    "    turtle.forward(60)\n",
    "    turtle.left(60)\n",
    "for nlines in range(0,6):\n",
    "    turtle.forward(80)\n",
    "    turtle.right(60)"
   ]
  },
  {
   "cell_type": "markdown",
   "id": "f5f13c7b-a210-43a6-b5f0-8c4725b24059",
   "metadata": {},
   "source": [
    "### P3: Draw 5 squares in parallel."
   ]
  },
  {
   "cell_type": "code",
   "execution_count": 3,
   "id": "abe84489-6900-4d17-a2d8-1e0ad3882607",
   "metadata": {},
   "outputs": [],
   "source": [
    "def draw_hexgon(length):\n",
    "    for n_drawing in range(0,6):\n",
    "        turtle.forward(length)\n",
    "        turtle.left(60)"
   ]
  },
  {
   "cell_type": "code",
   "execution_count": 4,
   "id": "c47847f7-004d-4c66-a423-355021d7bce3",
   "metadata": {},
   "outputs": [],
   "source": [
    "turtle.reset()\n",
    "for lengths in range(20,100,8):\n",
    "    draw_hexgon(lengths)"
   ]
  },
  {
   "cell_type": "code",
   "execution_count": 5,
   "id": "e55f6b7c-f468-40fe-a29e-7a450080fccc",
   "metadata": {},
   "outputs": [],
   "source": [
    "turtle.reset()"
   ]
  },
  {
   "cell_type": "markdown",
   "id": "8198682d-de13-4594-b63c-d7df82639e4a",
   "metadata": {},
   "source": [
    "### P4: Draw squares with length of 100.\n",
    "\n",
    "### P5: Draw 5 squares in parallel."
   ]
  },
  {
   "cell_type": "code",
   "execution_count": 6,
   "id": "e2a95a53-63df-4568-861b-4a669b808d36",
   "metadata": {},
   "outputs": [],
   "source": [
    "def down(length):\n",
    "    turtle.right(90)\n",
    "    turtle.forward(length)\n",
    "    turtle.left(90)"
   ]
  },
  {
   "cell_type": "code",
   "execution_count": 7,
   "id": "e196da0b-b397-4c55-aa26-4a515fd3ddba",
   "metadata": {},
   "outputs": [],
   "source": [
    "def up(length):\n",
    "    turtle.left(90)\n",
    "    turtle.forward(length)\n",
    "    turtle.right(90)"
   ]
  },
  {
   "cell_type": "code",
   "execution_count": 8,
   "id": "3489684d-5662-46f6-aa27-036517ee6d30",
   "metadata": {},
   "outputs": [],
   "source": [
    "def draw_square(length):\n",
    "    for n_drawing in range(0,4):\n",
    "        turtle.forward(length)\n",
    "        turtle.left(90)"
   ]
  },
  {
   "cell_type": "code",
   "execution_count": 9,
   "id": "3c40a26c-5e4d-40d9-bcaf-a9bea67c3e36",
   "metadata": {},
   "outputs": [],
   "source": [
    "list = []\n",
    "for len in range(20,100,8):\n",
    "    list.append(len)"
   ]
  },
  {
   "cell_type": "code",
   "execution_count": 10,
   "id": "9ba991ce-3aea-4874-9e6c-e3a806cda765",
   "metadata": {},
   "outputs": [
    {
     "ename": "KeyboardInterrupt",
     "evalue": "",
     "output_type": "error",
     "traceback": [
      "\u001b[1;31m---------------------------------------------------------------------------\u001b[0m",
      "\u001b[1;31mKeyboardInterrupt\u001b[0m                         Traceback (most recent call last)",
      "Cell \u001b[1;32mIn[10], line 8\u001b[0m\n\u001b[0;32m      6\u001b[0m \u001b[38;5;28;01mif\u001b[39;00m i \u001b[38;5;241m!=\u001b[39m \u001b[38;5;241m1\u001b[39m:\n\u001b[0;32m      7\u001b[0m     turtle\u001b[38;5;241m.\u001b[39mpenup()\n\u001b[1;32m----> 8\u001b[0m     turtle\u001b[38;5;241m.\u001b[39mbackward(lengths\u001b[38;5;241m/\u001b[39m\u001b[38;5;241m2\u001b[39m)\n\u001b[0;32m      9\u001b[0m     down((lengths\u001b[38;5;241m/\u001b[39m\u001b[38;5;241m2\u001b[39m))\n\u001b[0;32m     10\u001b[0m     turtle\u001b[38;5;241m.\u001b[39mpendown()\n",
      "File \u001b[1;32m<string>:8\u001b[0m, in \u001b[0;36mbackward\u001b[1;34m(distance)\u001b[0m\n",
      "File \u001b[1;32m~\\anaconda3\\Lib\\turtle.py:1658\u001b[0m, in \u001b[0;36mTNavigator.back\u001b[1;34m(self, distance)\u001b[0m\n\u001b[0;32m   1640\u001b[0m \u001b[38;5;28;01mdef\u001b[39;00m \u001b[38;5;21mback\u001b[39m(\u001b[38;5;28mself\u001b[39m, distance):\n\u001b[0;32m   1641\u001b[0m \u001b[38;5;250m    \u001b[39m\u001b[38;5;124;03m\"\"\"Move the turtle backward by distance.\u001b[39;00m\n\u001b[0;32m   1642\u001b[0m \n\u001b[0;32m   1643\u001b[0m \u001b[38;5;124;03m    Aliases: back | backward | bk\u001b[39;00m\n\u001b[1;32m   (...)\u001b[0m\n\u001b[0;32m   1656\u001b[0m \u001b[38;5;124;03m    (-30.00, 0.00)\u001b[39;00m\n\u001b[0;32m   1657\u001b[0m \u001b[38;5;124;03m    \"\"\"\u001b[39;00m\n\u001b[1;32m-> 1658\u001b[0m     \u001b[38;5;28mself\u001b[39m\u001b[38;5;241m.\u001b[39m_go(\u001b[38;5;241m-\u001b[39mdistance)\n",
      "File \u001b[1;32m~\\anaconda3\\Lib\\turtle.py:1606\u001b[0m, in \u001b[0;36mTNavigator._go\u001b[1;34m(self, distance)\u001b[0m\n\u001b[0;32m   1604\u001b[0m \u001b[38;5;250m\u001b[39m\u001b[38;5;124;03m\"\"\"move turtle forward by specified distance\"\"\"\u001b[39;00m\n\u001b[0;32m   1605\u001b[0m ende \u001b[38;5;241m=\u001b[39m \u001b[38;5;28mself\u001b[39m\u001b[38;5;241m.\u001b[39m_position \u001b[38;5;241m+\u001b[39m \u001b[38;5;28mself\u001b[39m\u001b[38;5;241m.\u001b[39m_orient \u001b[38;5;241m*\u001b[39m distance\n\u001b[1;32m-> 1606\u001b[0m \u001b[38;5;28mself\u001b[39m\u001b[38;5;241m.\u001b[39m_goto(ende)\n",
      "File \u001b[1;32m~\\anaconda3\\Lib\\turtle.py:3212\u001b[0m, in \u001b[0;36mRawTurtle._goto\u001b[1;34m(self, end)\u001b[0m\n\u001b[0;32m   3209\u001b[0m \u001b[38;5;28;01mif\u001b[39;00m \u001b[38;5;28mlen\u001b[39m(\u001b[38;5;28mself\u001b[39m\u001b[38;5;241m.\u001b[39mcurrentLine) \u001b[38;5;241m>\u001b[39m \u001b[38;5;241m42\u001b[39m: \u001b[38;5;66;03m# 42! answer to the ultimate question\u001b[39;00m\n\u001b[0;32m   3210\u001b[0m                                \u001b[38;5;66;03m# of life, the universe and everything\u001b[39;00m\n\u001b[0;32m   3211\u001b[0m     \u001b[38;5;28mself\u001b[39m\u001b[38;5;241m.\u001b[39m_newLine()\n\u001b[1;32m-> 3212\u001b[0m \u001b[38;5;28mself\u001b[39m\u001b[38;5;241m.\u001b[39m_update()\n",
      "File \u001b[1;32m~\\anaconda3\\Lib\\turtle.py:2663\u001b[0m, in \u001b[0;36mRawTurtle._update\u001b[1;34m(self)\u001b[0m\n\u001b[0;32m   2661\u001b[0m     \u001b[38;5;28mself\u001b[39m\u001b[38;5;241m.\u001b[39m_update_data()\n\u001b[0;32m   2662\u001b[0m     \u001b[38;5;28mself\u001b[39m\u001b[38;5;241m.\u001b[39m_drawturtle()\n\u001b[1;32m-> 2663\u001b[0m     screen\u001b[38;5;241m.\u001b[39m_update()                  \u001b[38;5;66;03m# TurtleScreenBase\u001b[39;00m\n\u001b[0;32m   2664\u001b[0m     screen\u001b[38;5;241m.\u001b[39m_delay(screen\u001b[38;5;241m.\u001b[39m_delayvalue) \u001b[38;5;66;03m# TurtleScreenBase\u001b[39;00m\n\u001b[0;32m   2665\u001b[0m \u001b[38;5;28;01melse\u001b[39;00m:\n",
      "File \u001b[1;32m~\\anaconda3\\Lib\\turtle.py:562\u001b[0m, in \u001b[0;36mTurtleScreenBase._update\u001b[1;34m(self)\u001b[0m\n\u001b[0;32m    559\u001b[0m \u001b[38;5;28;01mdef\u001b[39;00m \u001b[38;5;21m_update\u001b[39m(\u001b[38;5;28mself\u001b[39m):\n\u001b[0;32m    560\u001b[0m \u001b[38;5;250m    \u001b[39m\u001b[38;5;124;03m\"\"\"Redraw graphics items on canvas\u001b[39;00m\n\u001b[0;32m    561\u001b[0m \u001b[38;5;124;03m    \"\"\"\u001b[39;00m\n\u001b[1;32m--> 562\u001b[0m     \u001b[38;5;28mself\u001b[39m\u001b[38;5;241m.\u001b[39mcv\u001b[38;5;241m.\u001b[39mupdate()\n",
      "File \u001b[1;32m~\\anaconda3\\Lib\\tkinter\\__init__.py:1370\u001b[0m, in \u001b[0;36mMisc.update\u001b[1;34m(self)\u001b[0m\n\u001b[0;32m   1368\u001b[0m \u001b[38;5;28;01mdef\u001b[39;00m \u001b[38;5;21mupdate\u001b[39m(\u001b[38;5;28mself\u001b[39m):\n\u001b[0;32m   1369\u001b[0m \u001b[38;5;250m    \u001b[39m\u001b[38;5;124;03m\"\"\"Enter event loop until all pending events have been processed by Tcl.\"\"\"\u001b[39;00m\n\u001b[1;32m-> 1370\u001b[0m     \u001b[38;5;28mself\u001b[39m\u001b[38;5;241m.\u001b[39mtk\u001b[38;5;241m.\u001b[39mcall(\u001b[38;5;124m'\u001b[39m\u001b[38;5;124mupdate\u001b[39m\u001b[38;5;124m'\u001b[39m)\n",
      "\u001b[1;31mKeyboardInterrupt\u001b[0m: "
     ]
    }
   ],
   "source": [
    "turtle.reset()\n",
    "oldlen = 0\n",
    "i = 1\n",
    "turtle.speed(0.1)\n",
    "for lengths in range(20,500,4):\n",
    "    if i != 1:\n",
    "        turtle.penup()\n",
    "        turtle.backward(lengths/2)\n",
    "        down((lengths/2))\n",
    "        turtle.pendown()\n",
    "    draw_square(lengths)\n",
    "    turtle.penup()\n",
    "    turtle.forward(lengths/2)\n",
    "    up(lengths/2)\n",
    "    turtle.pendown()\n",
    "    i += 1"
   ]
  },
  {
   "cell_type": "code",
   "execution_count": null,
   "id": "4346afde-18a1-4f25-b690-0ff292b58421",
   "metadata": {},
   "outputs": [],
   "source": []
  }
 ],
 "metadata": {
  "kernelspec": {
   "display_name": "Python 3 (ipykernel)",
   "language": "python",
   "name": "python3"
  },
  "language_info": {
   "codemirror_mode": {
    "name": "ipython",
    "version": 3
   },
   "file_extension": ".py",
   "mimetype": "text/x-python",
   "name": "python",
   "nbconvert_exporter": "python",
   "pygments_lexer": "ipython3",
   "version": "3.11.7"
  }
 },
 "nbformat": 4,
 "nbformat_minor": 5
}
