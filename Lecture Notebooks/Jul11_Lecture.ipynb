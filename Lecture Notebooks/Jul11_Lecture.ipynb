{
 "cells": [
  {
   "cell_type": "markdown",
   "id": "9532bd7a-91ea-4f26-a227-0f4cd55d4376",
   "metadata": {},
   "source": [
    "# Set and Dictionary"
   ]
  },
  {
   "cell_type": "markdown",
   "id": "82567f50-e359-4102-9274-eb753d81d89a",
   "metadata": {},
   "source": [
    "## Set"
   ]
  },
  {
   "cell_type": "code",
   "execution_count": null,
   "id": "5bae9bfb-7b0e-4e22-bb36-6b45c8f699a5",
   "metadata": {},
   "outputs": [],
   "source": []
  },
  {
   "cell_type": "code",
   "execution_count": null,
   "id": "a787432e-3a1f-47a5-9e03-b001c730ee8e",
   "metadata": {},
   "outputs": [],
   "source": [
    "set1 = {'a','b','c'}"
   ]
  },
  {
   "cell_type": "code",
   "execution_count": null,
   "id": "924bd997-1f01-40b2-961b-80ffa46ff48f",
   "metadata": {},
   "outputs": [],
   "source": [
    "set1"
   ]
  },
  {
   "cell_type": "code",
   "execution_count": null,
   "id": "85464ead-3718-4eaf-b26f-77689828f1bc",
   "metadata": {},
   "outputs": [],
   "source": [
    "list1 = [1,2,3,4,5,6,6,7,2,3,4,5]"
   ]
  },
  {
   "cell_type": "code",
   "execution_count": null,
   "id": "a18b4c29-2db1-4c75-8e6d-8ae45a22f92d",
   "metadata": {},
   "outputs": [],
   "source": [
    "set2 = set(list1)"
   ]
  },
  {
   "cell_type": "code",
   "execution_count": null,
   "id": "3b14a051-c0ac-4392-9063-bfaf7ac49e7d",
   "metadata": {},
   "outputs": [],
   "source": [
    "set2"
   ]
  },
  {
   "cell_type": "code",
   "execution_count": null,
   "id": "5ecc0097-f264-48b4-b235-96d46855899e",
   "metadata": {},
   "outputs": [],
   "source": [
    "set2.add(2)\n",
    "set2"
   ]
  },
  {
   "cell_type": "code",
   "execution_count": null,
   "id": "7ced5753-1398-4338-986a-fc0ca9ab930c",
   "metadata": {},
   "outputs": [],
   "source": [
    "set2.add(9)\n",
    "set2"
   ]
  },
  {
   "cell_type": "code",
   "execution_count": null,
   "id": "0e7d1377-7daf-4646-8443-46a6d194c25f",
   "metadata": {},
   "outputs": [],
   "source": [
    "set2.remove(9)\n",
    "set2"
   ]
  },
  {
   "cell_type": "code",
   "execution_count": null,
   "id": "28e7c43a-03ed-4ae8-9d99-d01a3fce8b07",
   "metadata": {},
   "outputs": [],
   "source": [
    "set2.remove(9)\n",
    "set2"
   ]
  },
  {
   "cell_type": "markdown",
   "id": "d8385d8f-821a-4f9c-8fa5-ac057653e91c",
   "metadata": {},
   "source": [
    "#### union, intersection and difference"
   ]
  },
  {
   "cell_type": "code",
   "execution_count": null,
   "id": "27c01e24-7f18-4c08-8752-d8207d9aabde",
   "metadata": {},
   "outputs": [],
   "source": [
    "a = {1, 2, 3, 4}\n",
    "b = {3, 4, 5, 6}\n",
    "print(a | b)  # Union\n",
    "print(a & b)  # Intersection\n",
    "print(a - b)  # Difference"
   ]
  },
  {
   "cell_type": "markdown",
   "id": "4dc7efec-a298-4389-a43f-7942d6639c4a",
   "metadata": {},
   "source": [
    "#### Practice 1: Common Elements in Two Sets\n",
    "\n",
    "##### Create a function that takes two sets as input and returns a set containing all elements that are common to both sets (intersection)."
   ]
  },
  {
   "cell_type": "code",
   "execution_count": 1,
   "id": "3e69e6a4-d1af-4eac-94f0-e40811a9fa29",
   "metadata": {},
   "outputs": [],
   "source": [
    "set1 = {1, 2, 3}\n",
    "set2 = {2, 3, 4}"
   ]
  },
  {
   "cell_type": "markdown",
   "id": "28a8cde0-59bb-499e-bea9-c4cec847675b",
   "metadata": {},
   "source": [
    "#### Practice 2: Set Symmetric Difference\n",
    "\n",
    "##### Write a function that identifies elements that are in either of the two sets, but not in both (symmetric difference)."
   ]
  },
  {
   "cell_type": "raw",
   "id": "dac304e5-5b83-4203-b588-4b28e21dc2b5",
   "metadata": {},
   "source": [
    "set1 = {1, 2, 3}\n",
    "set2 = {3, 4, 5}\n",
    "Expected Output: {1, 2, 4, 5}"
   ]
  },
  {
   "cell_type": "markdown",
   "id": "b90c1439-683d-4358-ae09-71e2e4b99513",
   "metadata": {},
   "source": [
    "#### Practice 3: Disjoint Sets\n",
    "\n",
    "##### Problem: Write a function that determines if two sets have no elements in common."
   ]
  },
  {
   "cell_type": "markdown",
   "id": "d33b0fc2-911e-4a49-931e-f41b4b9ba5c5",
   "metadata": {},
   "source": [
    "set1 = {1, 2, 3}\n",
    "set2 = {4, 5, 6}\n",
    "\n",
    "Expected Output: True"
   ]
  },
  {
   "cell_type": "markdown",
   "id": "eac58555-eb7c-4a8e-99c9-34ec75916d9a",
   "metadata": {},
   "source": [
    "## Dictionary"
   ]
  },
  {
   "cell_type": "markdown",
   "id": "87011f32-e07b-49f9-9ae9-39ecc97d38d0",
   "metadata": {},
   "source": [
    "### Dictionary is a key-value pair"
   ]
  },
  {
   "cell_type": "code",
   "execution_count": 2,
   "id": "23c5b3d8-e7a9-4ee8-8fe2-fafa0919d939",
   "metadata": {},
   "outputs": [],
   "source": [
    "person = {'name': 'Xuetao', 'age': 28}"
   ]
  },
  {
   "cell_type": "code",
   "execution_count": 4,
   "id": "8ed4dda8-cb38-4974-80b3-56366982b2ee",
   "metadata": {},
   "outputs": [
    {
     "data": {
      "text/plain": [
       "('Xuetao', 28)"
      ]
     },
     "execution_count": 4,
     "metadata": {},
     "output_type": "execute_result"
    }
   ],
   "source": [
    "person['name'], person['age']"
   ]
  },
  {
   "cell_type": "code",
   "execution_count": 5,
   "id": "91ab19fa-5b08-43e3-9965-c876e319d583",
   "metadata": {},
   "outputs": [],
   "source": [
    "person = {'name': 'Xuetao', 'age': 28, 'name':'Christine'}"
   ]
  },
  {
   "cell_type": "code",
   "execution_count": 6,
   "id": "67a7daf2-0354-492f-b8fd-3be9a412899b",
   "metadata": {},
   "outputs": [
    {
     "data": {
      "text/plain": [
       "'Christine'"
      ]
     },
     "execution_count": 6,
     "metadata": {},
     "output_type": "execute_result"
    }
   ],
   "source": [
    "person['name']"
   ]
  },
  {
   "cell_type": "markdown",
   "id": "e5a019eb-b4fe-4a68-bdd6-8041d23f8997",
   "metadata": {},
   "source": [
    "#### Adding and removing"
   ]
  },
  {
   "cell_type": "code",
   "execution_count": 7,
   "id": "f866ee70-371e-4d58-80d3-65aea9eca249",
   "metadata": {},
   "outputs": [],
   "source": [
    "person = {'name': 'Xuetao', 'age': 28}"
   ]
  },
  {
   "cell_type": "code",
   "execution_count": 8,
   "id": "60f4cd81-f1ac-48da-8ad5-042d888e4e4f",
   "metadata": {},
   "outputs": [],
   "source": [
    "person['job'] = 'teacher'"
   ]
  },
  {
   "cell_type": "code",
   "execution_count": 9,
   "id": "dd352cd2-b186-4fb8-936e-fa519bd725dd",
   "metadata": {},
   "outputs": [
    {
     "data": {
      "text/plain": [
       "{'name': 'Xuetao', 'age': 28, 'job': 'teacher'}"
      ]
     },
     "execution_count": 9,
     "metadata": {},
     "output_type": "execute_result"
    }
   ],
   "source": [
    "person"
   ]
  },
  {
   "cell_type": "code",
   "execution_count": 10,
   "id": "aeb2d236-c36a-4124-ae06-78685681e41b",
   "metadata": {},
   "outputs": [
    {
     "data": {
      "text/plain": [
       "'Xuetao'"
      ]
     },
     "execution_count": 10,
     "metadata": {},
     "output_type": "execute_result"
    }
   ],
   "source": [
    "person.pop('name')"
   ]
  },
  {
   "cell_type": "code",
   "execution_count": 11,
   "id": "af0c45ad-02e5-46b9-a153-a29bc5a7ae30",
   "metadata": {},
   "outputs": [
    {
     "data": {
      "text/plain": [
       "{'age': 28, 'job': 'teacher'}"
      ]
     },
     "execution_count": 11,
     "metadata": {},
     "output_type": "execute_result"
    }
   ],
   "source": [
    "person"
   ]
  },
  {
   "cell_type": "code",
   "execution_count": 12,
   "id": "6aa3d830-e6cd-44d0-9ecd-319500619e6a",
   "metadata": {},
   "outputs": [],
   "source": [
    "del person['age']"
   ]
  },
  {
   "cell_type": "code",
   "execution_count": 13,
   "id": "7928867f-9fcb-4e60-9d00-6ce7abe31384",
   "metadata": {},
   "outputs": [
    {
     "data": {
      "text/plain": [
       "{'job': 'teacher'}"
      ]
     },
     "execution_count": 13,
     "metadata": {},
     "output_type": "execute_result"
    }
   ],
   "source": [
    "person"
   ]
  },
  {
   "cell_type": "markdown",
   "id": "4b96b01d-98a3-4bc6-bf83-64e0479644fc",
   "metadata": {},
   "source": [
    "#### searching and finding with dictionary"
   ]
  },
  {
   "cell_type": "code",
   "execution_count": 14,
   "id": "1c9952a5-f296-424e-bc53-b2c10fd1eba4",
   "metadata": {},
   "outputs": [],
   "source": [
    "person = {'name': 'Xuetao', 'age': 28}"
   ]
  },
  {
   "cell_type": "code",
   "execution_count": 15,
   "id": "f2798245-3fb8-4a80-ad0b-f35a77c65987",
   "metadata": {},
   "outputs": [
    {
     "name": "stdout",
     "output_type": "stream",
     "text": [
      "name\n",
      "age\n"
     ]
    }
   ],
   "source": [
    "for key in person.keys():\n",
    "    print(key)"
   ]
  },
  {
   "cell_type": "code",
   "execution_count": 16,
   "id": "5e8b42e6-d45f-4fc6-9c02-475b3e3b964d",
   "metadata": {},
   "outputs": [
    {
     "name": "stdout",
     "output_type": "stream",
     "text": [
      "Xuetao\n",
      "28\n"
     ]
    }
   ],
   "source": [
    "# Iterating over values\n",
    "for value in person.values():\n",
    "    print(value)"
   ]
  },
  {
   "cell_type": "code",
   "execution_count": 17,
   "id": "3934e32b-087a-46e6-a73f-7bfc1b2a2b78",
   "metadata": {},
   "outputs": [
    {
     "name": "stdout",
     "output_type": "stream",
     "text": [
      "name Xuetao\n",
      "age 28\n"
     ]
    }
   ],
   "source": [
    "# Iterating over items\n",
    "for key, value in person.items():\n",
    "    print(key, value)"
   ]
  },
  {
   "cell_type": "code",
   "execution_count": 21,
   "id": "c2a4550d-d4f6-425c-849d-c8b224109700",
   "metadata": {},
   "outputs": [
    {
     "data": {
      "text/plain": [
       "28"
      ]
     },
     "execution_count": 21,
     "metadata": {},
     "output_type": "execute_result"
    }
   ],
   "source": [
    "person.get('age')"
   ]
  },
  {
   "cell_type": "markdown",
   "id": "ee8b1ec9-fdae-45ba-8508-4ce7899ea500",
   "metadata": {},
   "source": [
    "### Nested Dictionary"
   ]
  },
  {
   "cell_type": "code",
   "execution_count": null,
   "id": "a1d1289f-7db8-474e-b466-3a1771366c50",
   "metadata": {},
   "outputs": [],
   "source": [
    "Nested Dictionaries:\n",
    "\n",
    "Dictionaries can contain other dictionaries, which is useful for more complex data structures.\n"
   ]
  },
  {
   "cell_type": "code",
   "execution_count": 23,
   "id": "cf53e23f-e8e8-4fb9-94ab-376701cd8035",
   "metadata": {},
   "outputs": [],
   "source": [
    "people = {'Xuetao': {'age': 25, 'profession': 'Engineer'}, 'Bob': {'age': 30, 'profession': 'Doctor'}}"
   ]
  },
  {
   "cell_type": "code",
   "execution_count": 26,
   "id": "a653c43c-ca19-4968-a1e0-dacba50c55bf",
   "metadata": {},
   "outputs": [
    {
     "data": {
      "text/plain": [
       "25"
      ]
     },
     "execution_count": 26,
     "metadata": {},
     "output_type": "execute_result"
    }
   ],
   "source": [
    "people['Xuetao']['age']"
   ]
  },
  {
   "cell_type": "code",
   "execution_count": 27,
   "id": "c3c41b16-bcaa-4192-9534-e08743492813",
   "metadata": {},
   "outputs": [
    {
     "data": {
      "text/plain": [
       "{'age': 25, 'profession': 'Engineer'}"
      ]
     },
     "execution_count": 27,
     "metadata": {},
     "output_type": "execute_result"
    }
   ],
   "source": [
    "people['Xuetao']"
   ]
  },
  {
   "cell_type": "code",
   "execution_count": 33,
   "id": "76f58f4a-b47e-4913-859e-c46c8f302b62",
   "metadata": {},
   "outputs": [
    {
     "data": {
      "text/plain": [
       "True"
      ]
     },
     "execution_count": 33,
     "metadata": {},
     "output_type": "execute_result"
    }
   ],
   "source": [
    "'Xuetao' in people"
   ]
  },
  {
   "cell_type": "markdown",
   "id": "53a91349-bc42-47f0-9904-a4c941468744",
   "metadata": {},
   "source": [
    "### Practice1: Creating and Accessing a Dictionary\n",
    "Create a dictionary that contains the names and ages of five people. Write a function get_age that takes the dictionary and a name as arguments and returns the age of that person. If the name is not in the dictionary, return \"Name not found\"."
   ]
  },
  {
   "cell_type": "code",
   "execution_count": 29,
   "id": "37926231-02a0-4f1c-9522-b50a356d9351",
   "metadata": {},
   "outputs": [],
   "source": [
    "#example: \n",
    "dic1 = {'Alice': 25, 'Bob': 30, 'Charlie': 35, 'David': 40, 'Eve': 45}"
   ]
  },
  {
   "cell_type": "code",
   "execution_count": 32,
   "id": "b2101e10-398e-42fa-9e69-721c46fd0a86",
   "metadata": {},
   "outputs": [],
   "source": [
    "def get_age():\n",
    "    '''\n",
    "    '''\n",
    "    return"
   ]
  },
  {
   "cell_type": "markdown",
   "id": "2d4264e9-7fad-43f4-979a-679c40e516e5",
   "metadata": {},
   "source": [
    "### Practice2: Iterating Over a Dictionary\n",
    "\n",
    "#### Problem: Write a function print_items that takes a dictionary and prints each key-value pair in the format \"Key: Value\".\n",
    "Sample Input: {'a': 1, 'b': 2, 'c': 3}\n",
    "Expected Output:\n",
    "\n",
    "a: 1\n",
    "\n",
    "b: 2\n",
    "\n",
    "c: 3"
   ]
  },
  {
   "cell_type": "code",
   "execution_count": null,
   "id": "1ecb2cef-7084-4cca-8da5-bec05ced73d0",
   "metadata": {},
   "outputs": [],
   "source": []
  },
  {
   "cell_type": "markdown",
   "id": "2cf65e0f-d1f4-4741-b439-c9c18a7f2121",
   "metadata": {},
   "source": [
    "### Practice 3: Merging Dictionaries\n",
    "\n",
    "#### Problem: Write a function merge_dictionaries that takes two dictionaries and merges them into one. If a key is present in both dictionaries, the value from the second dictionary should overwrite the value from the first.\n",
    "\n",
    "Sample Input: {'a': 1, 'b': 2}, {'b': 3, 'c': 4}\n",
    "\n",
    "Expected Output: {'a': 1, 'b': 3, 'c': 4}"
   ]
  },
  {
   "cell_type": "code",
   "execution_count": null,
   "id": "66345884-7efe-46fc-9875-f4c9e0c37418",
   "metadata": {},
   "outputs": [],
   "source": []
  }
 ],
 "metadata": {
  "kernelspec": {
   "display_name": "Python 3 (ipykernel)",
   "language": "python",
   "name": "python3"
  },
  "language_info": {
   "codemirror_mode": {
    "name": "ipython",
    "version": 3
   },
   "file_extension": ".py",
   "mimetype": "text/x-python",
   "name": "python",
   "nbconvert_exporter": "python",
   "pygments_lexer": "ipython3",
   "version": "3.11.7"
  }
 },
 "nbformat": 4,
 "nbformat_minor": 5
}
