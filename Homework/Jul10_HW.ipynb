{
 "cells": [
  {
   "cell_type": "markdown",
   "id": "ef33fe95-a924-4f65-9e89-5be62faf0c12",
   "metadata": {},
   "source": [
    "# UW Summer Stretch -- Introduction to Programming in Python "
   ]
  },
  {
   "cell_type": "markdown",
   "id": "29bc44f7-9386-4071-bba4-7fc352aa7e66",
   "metadata": {},
   "source": [
    "## HW 6: Data Structures I"
   ]
  },
  {
   "cell_type": "markdown",
   "id": "bccab0e1-bb5f-4696-b54a-9947dc8bf599",
   "metadata": {},
   "source": [
    "The conduction of grading is reflected in the following table. "
   ]
  },
  {
   "cell_type": "markdown",
   "id": "f80b0a5b-bce0-470a-9d05-d613dba36293",
   "metadata": {},
   "source": [
    "| Question | Points | \n",
    "|:--------:|:--------:|\n",
    "|  1a   |  3   |\n",
    "|  1b   |  3   |\n",
    "|  1c   |  4   |\n",
    "|  1d   |  2   |\n",
    "|  2a   |  2   |\n",
    "|  2b   |  2   |\n",
    "|  2c   |  2   |\n",
    "|  3a   |  1   |\n",
    "|  3b   |  1   | \n",
    "|  3c   |  1   | \n",
    "|  3d   |  1   | \n",
    "|  4a   |  3   | \n",
    "|  4b   |  4   | \n",
    "|  4c   |  4   | \n",
    "|  EC: 4d   |  5   | \n",
    "|  **Total**   |  **33 (+5)**   |"
   ]
  },
  {
   "cell_type": "markdown",
   "id": "3649cab2-c239-4f06-8f09-38b2ab58b338",
   "metadata": {},
   "source": [
    "### Question 1: Grobot List"
   ]
  },
  {
   "cell_type": "markdown",
   "id": "2dca2654-fffc-4afa-9887-458d6f0c3cf4",
   "metadata": {},
   "source": [
    "After your day at CS camp, you need to go the grocery store. You wonder: \"what if I can implement my grocery list using Python lists and tuples?\" Great idea!"
   ]
  },
  {
   "cell_type": "markdown",
   "id": "0b313e84-e891-4694-b594-502c2ced2cb1",
   "metadata": {},
   "source": [
    "Create a list `grocery_list` that contains all the items you need to buy. Format it as follows: each item you need to buy will be 1 tuple in the list, with its name as a string as the first item in the tuple, and the quantity as an int value as the second item. For example: if you're buying two apples and three bananas, your grocery list will look like this: `grocery_list = [('apple', 2), ('banana', 3)]`."
   ]
  },
  {
   "cell_type": "markdown",
   "id": "39246ec1-16e4-4976-b89d-b4d468e02ce2",
   "metadata": {},
   "source": [
    "**1a) Implement the following grocery list.**"
   ]
  },
  {
   "cell_type": "markdown",
   "id": "e67e270e-0ffc-4429-99e0-b65fce0f46f4",
   "metadata": {},
   "source": [
    "- 5 avocados\n",
    "- 4 oranges\n",
    "- 2 onions\n",
    "- 1 chicken\n",
    "- 2 lettuces\n",
    "- 10 yogurts"
   ]
  },
  {
   "cell_type": "code",
   "execution_count": null,
   "id": "78de56b9-3e42-451d-bbf0-2e5711100b67",
   "metadata": {},
   "outputs": [],
   "source": [
    "grocery_list = ...\n",
    "grocery_list"
   ]
  },
  {
   "cell_type": "markdown",
   "id": "afaf19b5-591e-43bf-bc85-f0b962cf535e",
   "metadata": {},
   "source": [
    "**1b) For some food items, they come in boxes or certain kind of packages. In that case, add a third tuple element for these exceptions. For example: if you need to buy a box of tissues, you would format the tuple to be `('tissue', 1, 'box')`. Add the following elements to your grocery list from 1a) in this format.**"
   ]
  },
  {
   "cell_type": "markdown",
   "id": "e297de97-b4b0-445f-a1f4-d46efae0c64d",
   "metadata": {},
   "source": [
    "- 2 packs of tofu\n",
    "- 3 boxes of Cheezits\n",
    "- 2 bottles of orange juice\n",
    "- 1 carton of milk\n",
    "- 4 containers of jam\n",
    "- 1 dozen eggs"
   ]
  },
  {
   "cell_type": "code",
   "execution_count": null,
   "id": "aa0658b6-9e76-40c6-bd69-bae382aa34f7",
   "metadata": {},
   "outputs": [],
   "source": [
    "... "
   ]
  },
  {
   "cell_type": "markdown",
   "id": "7b9f1b66-1a86-41aa-81dc-25fb4d70e2f5",
   "metadata": {},
   "source": [
    "**1c) Oh no! You made a mistake and actually need 2 cartons of milk rather than 1. Alter the list so that you can remedy this mistake. Order doesn't matter.**"
   ]
  },
  {
   "cell_type": "code",
   "execution_count": null,
   "id": "9986d476-b627-4bc5-815d-380b90987037",
   "metadata": {},
   "outputs": [],
   "source": [
    "... "
   ]
  },
  {
   "cell_type": "markdown",
   "id": "030749e4-3f9e-4cb2-b8bb-9c4a27fcbbc8",
   "metadata": {},
   "source": [
    "**1d) Without manually counting, write a piece of code that now outputs how many TYPES of items are in your list.**"
   ]
  },
  {
   "cell_type": "code",
   "execution_count": null,
   "id": "14d21513-93d1-4f5f-a5ac-0da96c083ab2",
   "metadata": {},
   "outputs": [],
   "source": [
    "..."
   ]
  },
  {
   "cell_type": "markdown",
   "id": "4c668911-a1fd-404b-a018-410af2d58f8b",
   "metadata": {},
   "source": [
    "**1e) Are you able to change the number of onions in the list without removing the item from the list and putting in a new tuple? Explain why or why not. (Hint: your approach to 1c) should help here!)**"
   ]
  },
  {
   "cell_type": "markdown",
   "id": "8c18ee1d-ca1b-454d-8a10-428017b0fa88",
   "metadata": {},
   "source": [
    "*Double click the answer cell, then replace this with your answer.*"
   ]
  },
  {
   "cell_type": "markdown",
   "id": "428d058b-8a56-4e4d-94d5-e69aaadf0b24",
   "metadata": {},
   "source": [
    "### Question 2: Tuple Tricks"
   ]
  },
  {
   "cell_type": "markdown",
   "id": "24bafea0-0230-4134-b2ae-e779513c84b8",
   "metadata": {},
   "source": [
    "Although tuples are immutable, there are a few ways to add to a tuple (that don't involve built-in functions like lists)!"
   ]
  },
  {
   "cell_type": "markdown",
   "id": "f8942a73-2bc6-4dd0-b724-b7475666ac61",
   "metadata": {},
   "source": [
    "Work through the following to see these tricks."
   ]
  },
  {
   "cell_type": "markdown",
   "id": "e10cf3cc-de56-4b10-96b4-136380efc49f",
   "metadata": {},
   "source": [
    "**2a) You have a tuple `x`: (1, 2, 3). Try adding another tuple to `x` to see what happens.**"
   ]
  },
  {
   "cell_type": "code",
   "execution_count": null,
   "id": "50380329-d4b4-4dbb-bae1-188115108193",
   "metadata": {},
   "outputs": [],
   "source": [
    "x = (1, 2, 3)\n",
    "..."
   ]
  },
  {
   "cell_type": "markdown",
   "id": "02cb5695-c728-4e15-ab68-b88bcfc9b999",
   "metadata": {},
   "source": [
    "**Did you alter `x`? Explain why or why not.**"
   ]
  },
  {
   "cell_type": "markdown",
   "id": "34552f26-17ee-446d-9899-9b30121d71d6",
   "metadata": {},
   "source": [
    "*Double click the answer cell, then replace this with your answer.*"
   ]
  },
  {
   "cell_type": "markdown",
   "id": "75674a88-d90d-4ca3-8087-99422afc7a4a",
   "metadata": {},
   "source": [
    "**2b) What if you execute the following code?**"
   ]
  },
  {
   "cell_type": "code",
   "execution_count": null,
   "id": "a98b70d9-eb12-495a-9e58-2c3627d77532",
   "metadata": {},
   "outputs": [],
   "source": [
    "x = x + (4, 5) #Just run this cell; no need to alter anything.\n",
    "x"
   ]
  },
  {
   "cell_type": "markdown",
   "id": "ca22ef08-e907-4b59-9df5-0b246802dad5",
   "metadata": {},
   "source": [
    "**Now, is `x` altered? Explain why or why not.**"
   ]
  },
  {
   "cell_type": "markdown",
   "id": "c4cba91f-b76d-4739-88cb-ea03c33548f3",
   "metadata": {},
   "source": [
    "*Double click the answer cell, then replace this with your answer.*"
   ]
  },
  {
   "cell_type": "markdown",
   "id": "5d1e6e55-d29d-4944-8a85-f59fd66e2fac",
   "metadata": {},
   "source": [
    "**2c) So... tuples are immutable but also mutable. Read through this article: https://inventwithpython.com/blog/2018/02/05/python-tuples-are-immutable-except-when-theyre-mutable/. Write down something you learned from it or any questions you have after reading.**"
   ]
  },
  {
   "cell_type": "markdown",
   "id": "77cce560-9d5d-4ff7-a382-e2db5cda67d7",
   "metadata": {},
   "source": [
    "*Double click the answer cell, then replace this with your answer.*"
   ]
  },
  {
   "cell_type": "markdown",
   "id": "af7b847c-9e8f-454d-bed5-bba52b6499cf",
   "metadata": {},
   "source": [
    "### Question 3: Slice & Dice"
   ]
  },
  {
   "cell_type": "markdown",
   "id": "7f382d5a-f61d-4b2f-931d-f38c958f027a",
   "metadata": {},
   "source": [
    "**3a) Let's make a salad! Make a list of 5 elements: spinach, lettuce, cucumber, tomato, and dressing (denote each as strings).**"
   ]
  },
  {
   "cell_type": "code",
   "execution_count": null,
   "id": "075f1c36-66b3-46c1-bbeb-b980a3ff7a39",
   "metadata": {},
   "outputs": [],
   "source": [
    "salad = ...\n",
    "salad"
   ]
  },
  {
   "cell_type": "markdown",
   "id": "b8b7ec76-b1bf-49ef-8151-bd19dfa222f2",
   "metadata": {},
   "source": [
    "**3b) Index into your list such that I get back just the 'spinach' and 'lettuce' elements.**"
   ]
  },
  {
   "cell_type": "code",
   "execution_count": null,
   "id": "42d36167-aaeb-45f8-8dbb-9e634ac667f7",
   "metadata": {},
   "outputs": [],
   "source": [
    "..."
   ]
  },
  {
   "cell_type": "markdown",
   "id": "4bc07a68-45dd-4ab9-ae5f-8c688578102c",
   "metadata": {},
   "source": [
    "**3c) Let's say I want to add in more elements in the form of another list: `['peas', 'carrots']`. How can I add that to my current list (NOT nested)?**"
   ]
  },
  {
   "cell_type": "markdown",
   "id": "e66fe4bb-61bb-4ade-a897-6e9e1d59c851",
   "metadata": {},
   "source": [
    "Note: It's good practice to make copies of lists whenever we want to alter it but save the original list. Do so using the `list[:]` functionality."
   ]
  },
  {
   "cell_type": "markdown",
   "id": "011e7932-8d08-45db-8bd6-ad973caa2e4f",
   "metadata": {},
   "source": [
    "not_nested_salad = ...\n",
    "not_nested_salad"
   ]
  },
  {
   "cell_type": "markdown",
   "id": "c37d10bb-b901-4109-a6bb-ab985bf07ce8",
   "metadata": {},
   "source": [
    "**3d) If I want to preserve the new list from 3c) as a list, how can I add that to `salad` (now, end result should be nested)? (Same practice of making a copy should apply.**"
   ]
  },
  {
   "cell_type": "code",
   "execution_count": null,
   "id": "36c23b97-608f-44f6-aaa1-20d737c7f2e3",
   "metadata": {},
   "outputs": [],
   "source": [
    "nested_salad = ...\n",
    "nested_salad"
   ]
  },
  {
   "cell_type": "markdown",
   "id": "adc49797-32da-41db-9fab-33f9212db582",
   "metadata": {},
   "source": [
    "### Question 4: Don't Manipulate Me!!"
   ]
  },
  {
   "cell_type": "markdown",
   "id": "6da1ed49-93f0-4e5b-807a-ef10e521c564",
   "metadata": {},
   "source": [
    "**4a) Write a function that takes in a list and returns the mean, median, and mode as a tuple WITHOUT using built in Python functions. If there is no mode, return None. Additionally, write 2 more tests to test your function.**"
   ]
  },
  {
   "cell_type": "code",
   "execution_count": null,
   "id": "69af0169-3761-479a-9e60-31cf3b5827c5",
   "metadata": {},
   "outputs": [],
   "source": [
    "def mmm(lst): \n",
    "    ...\n",
    "    return ..."
   ]
  },
  {
   "cell_type": "code",
   "execution_count": null,
   "id": "d457456e-a7fd-4960-9cf1-26fd9a5c794e",
   "metadata": {},
   "outputs": [],
   "source": [
    "#TESTS\n",
    "mmm([2, 2, 2, 2, 2]) == (2, 2)\n",
    "mmm([1, 2, 3]) == (2, 2)\n",
    "mmm([8, 16, 24, 48, 100, 100, 100]) == (396/7, 48)\n",
    "... # Write 2 more tests"
   ]
  },
  {
   "cell_type": "markdown",
   "id": "3502a88e-6ca1-4b38-8779-b7bb3dea49e4",
   "metadata": {},
   "source": [
    "**4b) Without using a built-in Python function (i.e. min()), write a function to find the minimum element of a list.** "
   ]
  },
  {
   "cell_type": "code",
   "execution_count": null,
   "id": "a127559c-91e0-46d4-8ff8-7dff87ad0d09",
   "metadata": {},
   "outputs": [],
   "source": [
    "def min_el(lst):\n",
    "    ...\n",
    "    return ..."
   ]
  },
  {
   "cell_type": "code",
   "execution_count": null,
   "id": "94c2ca0d-cdd4-4295-9412-abced0af711d",
   "metadata": {},
   "outputs": [],
   "source": [
    "# TESTS\n",
    "min_el([1, 2, 80, 200]) == 1\n",
    "min_el([0, 0, 0, 0, 0, 0]) == 0\n",
    "min_el([53, 20148, 304, 120, -3]) == -3 \n",
    "min_el([1, -5, -30, 3, 79, 78]) == -30"
   ]
  },
  {
   "cell_type": "markdown",
   "id": "063e5d1d-e564-4d62-a1ea-1d37af134736",
   "metadata": {},
   "source": [
    "**4c) Same as 4b, but for the max element.**"
   ]
  },
  {
   "cell_type": "code",
   "execution_count": null,
   "id": "ca6a44ae-cc0b-4895-9b76-701145d5d3af",
   "metadata": {},
   "outputs": [],
   "source": [
    "def max_el(lst):\n",
    "    ...\n",
    "    return ..."
   ]
  },
  {
   "cell_type": "code",
   "execution_count": null,
   "id": "7865765b-6541-4caf-afc3-1c1670dc1c51",
   "metadata": {},
   "outputs": [],
   "source": [
    "# TESTS\n",
    "max_el([1, 2, 80, 200]) == 200\n",
    "max_el([0, 0, 0, 0, 0, 0]) == 0\n",
    "max_el([53, 20148, 304, 120, -3]) == 20148\n",
    "max_el([1, -5, -30, 3, 79, 78]) == 79"
   ]
  },
  {
   "cell_type": "markdown",
   "id": "35ccd26b-670f-49d9-a21c-e9ea1c48b7e3",
   "metadata": {},
   "source": [
    "**4d) [EXTRA CREDIT] Write a function that reverses a Python list WITHOUT using the slicing functionality ([:-1]).**"
   ]
  },
  {
   "cell_type": "code",
   "execution_count": null,
   "id": "e663aba2-efd2-4775-bd8f-f5d4b97fd3b6",
   "metadata": {},
   "outputs": [],
   "source": [
    "def reversal(lst):\n",
    "    ...\n",
    "    return ..."
   ]
  },
  {
   "cell_type": "code",
   "execution_count": null,
   "id": "a09eab12-5807-45e9-ae30-fcc342563790",
   "metadata": {},
   "outputs": [],
   "source": [
    "reversal([1, 2, 3]) == [3, 2, 1]\n",
    "reversal([8, 8, 8, 8, 8, 8]) == [8, 8, 8, 8, 8, 8]\n",
    "reversal([30, 28, 100, 42, 63, 99, 103, 85, 28]) == [28, 85, 103, 99, 63, 42, 100, 28, 30]"
   ]
  },
  {
   "cell_type": "markdown",
   "id": "a2ea950a-ac4f-47fe-8192-ddd992b59e5b",
   "metadata": {},
   "source": [
    "## Congratulations! You finished HW 6!"
   ]
  }
 ],
 "metadata": {
  "kernelspec": {
   "display_name": "Python 3 (ipykernel)",
   "language": "python",
   "name": "python3"
  },
  "language_info": {
   "codemirror_mode": {
    "name": "ipython",
    "version": 3
   },
   "file_extension": ".py",
   "mimetype": "text/x-python",
   "name": "python",
   "nbconvert_exporter": "python",
   "pygments_lexer": "ipython3",
   "version": "3.11.7"
  }
 },
 "nbformat": 4,
 "nbformat_minor": 5
}
