{
 "cells": [
  {
   "cell_type": "markdown",
   "id": "e9b82a35-69b6-4fd5-af59-ecf90dfaacd6",
   "metadata": {},
   "source": [
    "# UW Summer Stretch -- Introduction to Programming in Python "
   ]
  },
  {
   "cell_type": "markdown",
   "id": "6c100cea-d226-4c00-af88-eca42fff0a71",
   "metadata": {},
   "source": [
    "## HW 10: Error Handling & Exceptions"
   ]
  },
  {
   "cell_type": "markdown",
   "id": "97228bed-da49-4d72-9e56-3191f7c8a8bb",
   "metadata": {},
   "source": [
    "The conduction of grading is reflected in the following table. "
   ]
  },
  {
   "cell_type": "markdown",
   "id": "75f812e4-f3ac-4c69-9f1f-6eb08bb00090",
   "metadata": {},
   "source": [
    "| Question | Points | \n",
    "|:--------:|:--------:|\n",
    "|  1a   |  4   |\n",
    "|  1b   |  4   |\n",
    "|  1c   |  4   |\n",
    "|  1d   |  4   |\n",
    "|  2a   |  3   |\n",
    "|  2b   |  4   |\n",
    "|  3a   |  1   |\n",
    "|  3b   |  1   | \n",
    "|  3c   |  2   | \n",
    "|  4a   |  2   | \n",
    "|  **Total**   |  **29**   |"
   ]
  },
  {
   "cell_type": "markdown",
   "id": "3077217a-d263-4502-99da-853dec8c84a6",
   "metadata": {},
   "source": [
    "### Question 1: Debugging Dilemmas"
   ]
  },
  {
   "cell_type": "markdown",
   "id": "ea1a0a1c-3ef3-45da-aa91-1c13c93d86e5",
   "metadata": {},
   "source": [
    "Your first task for this homework is to look at a series of code snippets and identify: <br>\n",
    "1) The error (list the name) <br>\n",
    "2) Why it's erroring (1 sentence max) <br>\n",
    "3) How to fix the error (1 sentence max) <br>\n",
    "\n",
    "After fixing the code, write down all 3 observations in the denoted cell for full credit."
   ]
  },
  {
   "cell_type": "markdown",
   "id": "de84e38d-3f72-431d-97ce-1edddc9cd4bd",
   "metadata": {},
   "source": [
    "**1a) Fix the error and write down all 3 observations in the cell below.**"
   ]
  },
  {
   "cell_type": "code",
   "execution_count": null,
   "id": "fe2f19ea-3d4a-4a5a-ab39-dba7e6c11c04",
   "metadata": {},
   "outputs": [],
   "source": [
    "# CODE TO FIX \n",
    "rick_morty = {'rick': 70, \n",
    "              'morty': 14\n",
    "              'summer': 17,\n",
    "              'jerry': 35}\n",
    "\n",
    "print(f\"Summer from Rick & Morty is {rick_morty['summer']} years old.\")"
   ]
  },
  {
   "cell_type": "markdown",
   "id": "bbc67af5-40f7-4915-87c1-de7a6086f198",
   "metadata": {},
   "source": [
    "*Double click the answer cell, then replace this with your answer.*"
   ]
  },
  {
   "cell_type": "markdown",
   "id": "cb73e48e-5014-4ce0-9cf7-933d7a35eda7",
   "metadata": {},
   "source": [
    "**1b) Fix the error and write down all 3 observations in the cell below.**"
   ]
  },
  {
   "cell_type": "code",
   "execution_count": 51,
   "id": "4d01c9fe-2f99-4b56-9fc5-408578dcb852",
   "metadata": {},
   "outputs": [
    {
     "name": "stdout",
     "output_type": "stream",
     "text": [
      "a\n"
     ]
    },
    {
     "ename": "TypeError",
     "evalue": "unsupported operand type(s) for /: 'str' and 'int'",
     "output_type": "error",
     "traceback": [
      "\u001b[0;31m---------------------------------------------------------------------------\u001b[0m",
      "\u001b[0;31mTypeError\u001b[0m                                 Traceback (most recent call last)",
      "Cell \u001b[0;32mIn[51], line 5\u001b[0m\n\u001b[1;32m      3\u001b[0m \u001b[38;5;28;01mfor\u001b[39;00m i \u001b[38;5;129;01min\u001b[39;00m dct\u001b[38;5;241m.\u001b[39mkeys():\n\u001b[1;32m      4\u001b[0m     \u001b[38;5;28mprint\u001b[39m(i)\n\u001b[0;32m----> 5\u001b[0m     i \u001b[38;5;241m=\u001b[39m i \u001b[38;5;241m/\u001b[39m \u001b[38;5;241m5\u001b[39m\n",
      "\u001b[0;31mTypeError\u001b[0m: unsupported operand type(s) for /: 'str' and 'int'"
     ]
    }
   ],
   "source": [
    "# CODE TO FIX\n",
    "dct = {'a': 20, 'b': 15, 'c': 35}\n",
    "for i in dct.keys():\n",
    "    i = i / 5"
   ]
  },
  {
   "cell_type": "markdown",
   "id": "747fb811-e5e1-4b1a-afd1-05087031dc41",
   "metadata": {},
   "source": [
    "*Double click the answer cell, then replace this with your answer.*"
   ]
  },
  {
   "cell_type": "markdown",
   "id": "44fb73ec-cf0a-44af-a291-101d73988617",
   "metadata": {},
   "source": [
    "**1c) Fix the error and write down all 3 observations in the cell below.**"
   ]
  },
  {
   "cell_type": "code",
   "execution_count": 71,
   "id": "86bc7a9b-506f-41d5-a522-3d5ce3583e84",
   "metadata": {},
   "outputs": [
    {
     "name": "stdout",
     "output_type": "stream",
     "text": [
      "2\n",
      "10\n",
      "24\n",
      "16\n",
      "90\n",
      "36\n",
      "16\n"
     ]
    },
    {
     "ename": "IndexError",
     "evalue": "list index out of range",
     "output_type": "error",
     "traceback": [
      "\u001b[0;31m---------------------------------------------------------------------------\u001b[0m",
      "\u001b[0;31mIndexError\u001b[0m                                Traceback (most recent call last)",
      "Cell \u001b[0;32mIn[71], line 4\u001b[0m\n\u001b[1;32m      2\u001b[0m lst \u001b[38;5;241m=\u001b[39m [\u001b[38;5;241m1\u001b[39m, \u001b[38;5;241m10\u001b[39m, \u001b[38;5;241m24\u001b[39m, \u001b[38;5;241m15\u001b[39m, \u001b[38;5;241m89\u001b[39m, \u001b[38;5;241m36\u001b[39m, \u001b[38;5;241m16\u001b[39m]\n\u001b[1;32m      3\u001b[0m \u001b[38;5;28;01mfor\u001b[39;00m i \u001b[38;5;129;01min\u001b[39;00m \u001b[38;5;28mrange\u001b[39m(\u001b[38;5;241m8\u001b[39m):\n\u001b[0;32m----> 4\u001b[0m     j \u001b[38;5;241m=\u001b[39m lst[i] \u001b[38;5;241m+\u001b[39m (lst[i] \u001b[38;5;241m%\u001b[39m \u001b[38;5;241m2\u001b[39m)\n\u001b[1;32m      5\u001b[0m     \u001b[38;5;28mprint\u001b[39m(j)\n",
      "\u001b[0;31mIndexError\u001b[0m: list index out of range"
     ]
    }
   ],
   "source": [
    "# CODE TO FIX\n",
    "lst = [1, 10, 24, 15, 89, 36, 16]\n",
    "for i in range(8):\n",
    "    j = lst[i] + (lst[i] % 2)\n",
    "    print(j)"
   ]
  },
  {
   "cell_type": "markdown",
   "id": "981388d5-f4a0-44af-98ff-5cbecfb1f3c5",
   "metadata": {},
   "source": [
    "*Double click the answer cell, then replace this with your answer.*"
   ]
  },
  {
   "cell_type": "markdown",
   "id": "f95acc41-1ae9-4714-80ad-691a33628203",
   "metadata": {},
   "source": [
    "**1d) Fix the error and write down all 3 observations in the cell below.**"
   ]
  },
  {
   "cell_type": "markdown",
   "id": "bfc5ae6b-2048-40d8-8b77-635b2940be15",
   "metadata": {},
   "source": [
    "Hint: fix the error on the basis of trying to check if an item is even or not. "
   ]
  },
  {
   "cell_type": "code",
   "execution_count": 93,
   "id": "df5d62cc-ec26-43ea-a62c-6ed5adf885b5",
   "metadata": {},
   "outputs": [
    {
     "name": "stdout",
     "output_type": "stream",
     "text": [
      "False\n",
      "False\n"
     ]
    },
    {
     "ename": "ZeroDivisionError",
     "evalue": "integer modulo by zero",
     "output_type": "error",
     "traceback": [
      "\u001b[0;31m---------------------------------------------------------------------------\u001b[0m",
      "\u001b[0;31mZeroDivisionError\u001b[0m                         Traceback (most recent call last)",
      "Cell \u001b[0;32mIn[93], line 4\u001b[0m\n\u001b[1;32m      2\u001b[0m x \u001b[38;5;241m=\u001b[39m [\u001b[38;5;241m2\u001b[39m, \u001b[38;5;241m3\u001b[39m, \u001b[38;5;241m0\u001b[39m, \u001b[38;5;241m8\u001b[39m, \u001b[38;5;241m20\u001b[39m, \u001b[38;5;241m15\u001b[39m, \u001b[38;5;241m26\u001b[39m]\n\u001b[1;32m      3\u001b[0m \u001b[38;5;28;01mfor\u001b[39;00m item \u001b[38;5;129;01min\u001b[39;00m x:\n\u001b[0;32m----> 4\u001b[0m     \u001b[38;5;28;01mif\u001b[39;00m (\u001b[38;5;241m2\u001b[39m \u001b[38;5;241m%\u001b[39m item) \u001b[38;5;241m==\u001b[39m \u001b[38;5;241m1\u001b[39m:\n\u001b[1;32m      5\u001b[0m         \u001b[38;5;28mprint\u001b[39m(\u001b[38;5;124m'\u001b[39m\u001b[38;5;124mTrue\u001b[39m\u001b[38;5;124m'\u001b[39m)\n\u001b[1;32m      6\u001b[0m     \u001b[38;5;28;01melse\u001b[39;00m:\n",
      "\u001b[0;31mZeroDivisionError\u001b[0m: integer modulo by zero"
     ]
    }
   ],
   "source": [
    "# CODE TO FIX\n",
    "x = [2, 3, 0, 8, 20, 15, 26]\n",
    "for item in x:\n",
    "    if (2 % item) == 0:\n",
    "        print('True')\n",
    "    else:\n",
    "        print('False')"
   ]
  },
  {
   "cell_type": "markdown",
   "id": "66f27f28-5b5a-419a-a9a1-e08cf094afbb",
   "metadata": {},
   "source": [
    "*Double click the answer cell, then replace this with your answer.*"
   ]
  },
  {
   "cell_type": "markdown",
   "id": "b49491bb-65d9-4ea2-bb81-d6a058d95eae",
   "metadata": {},
   "source": [
    "### Question 2: Handling the Exceptions..."
   ]
  },
  {
   "cell_type": "markdown",
   "id": "fe47e7b1-5585-410a-8667-7ca8ab5d1a55",
   "metadata": {},
   "source": [
    "As programmers, we will often have to anticipate faulty inputs ahead of time and how that could lead to an error in our code. In the following questions, write try/except statements that can give feedback to the user that will help with avoiding exceptions."
   ]
  },
  {
   "cell_type": "markdown",
   "id": "529ad2c2-5396-4e89-801f-8a0271935530",
   "metadata": {},
   "source": [
    "**2a) In HW 8, you wrote a function `best_score_feedback` that took in 3 variables: `student_name`, `math_score`, `eng_score`, and `science_score`. Re-write the function `best_score_feedback` using try/except statements to ensure that each variable is the desired type of float.**"
   ]
  },
  {
   "cell_type": "markdown",
   "id": "97c046b4-2034-4de8-b69a-548b7f8895be",
   "metadata": {},
   "source": [
    "Hint: the [assert](https://www.w3schools.com/python/ref_keyword_assert.asp) keyword should be helpful here. <br>\n",
    "Hint 2: look into the AssertionError."
   ]
  },
  {
   "cell_type": "code",
   "execution_count": null,
   "id": "0bdf3df1-c491-4488-81bf-8d9feeb588c0",
   "metadata": {},
   "outputs": [],
   "source": [
    "def best_score_feedback(student_name, math_score, eng_score, science_score):\n",
    "    try:\n",
    "        ...\n",
    "    except ...:\n",
    "        ..."
   ]
  },
  {
   "cell_type": "markdown",
   "id": "2ebc08a0-78d9-4709-bb27-b0857c444c8e",
   "metadata": {},
   "source": [
    "**2b) Write a function that divides 2 numbers and accounts for the DivideByZero exception by returning nothing instead.**"
   ]
  },
  {
   "cell_type": "code",
   "execution_count": null,
   "id": "be9e6436-44f3-43ed-b131-b8be302aebc1",
   "metadata": {},
   "outputs": [],
   "source": [
    "def divide(x, y):\n",
    "    try:\n",
    "        ...\n",
    "    except ...:\n",
    "        ..."
   ]
  },
  {
   "cell_type": "markdown",
   "id": "089bcada-6ce6-488b-ac3f-e538f3653615",
   "metadata": {},
   "source": [
    "### Question 3: What's the Exception?"
   ]
  },
  {
   "cell_type": "markdown",
   "id": "01939800-af0f-4cbf-8017-f6a2d0bcea95",
   "metadata": {},
   "source": [
    "**3a) What would the following code do?**"
   ]
  },
  {
   "cell_type": "markdown",
   "id": "cd51f3df-a114-4359-9ca3-256b99293740",
   "metadata": {},
   "source": [
    "`pass` in Python is essentially the same as doing nothing -- it will simply resume to the next piece of code if there is one, or stop execution."
   ]
  },
  {
   "cell_type": "code",
   "execution_count": null,
   "id": "0135de38-74e7-48f2-b689-bdd52e369174",
   "metadata": {},
   "outputs": [],
   "source": [
    "try: \n",
    "    #some code\n",
    "except:\n",
    "    pass"
   ]
  },
  {
   "cell_type": "markdown",
   "id": "8919135b-1ec0-4b01-8ccf-a38468dc63aa",
   "metadata": {},
   "source": [
    "a. Ignores any errors and returns whatever was in the try statement <br>\n",
    "b. Errors <br>\n",
    "c. Returns nothing <br>\n",
    "d. None of the above"
   ]
  },
  {
   "cell_type": "markdown",
   "id": "e9029763-6595-42c2-b905-680cfcf9fc85",
   "metadata": {},
   "source": [
    "*Double click the answer cell, then replace this with your answer.*"
   ]
  },
  {
   "cell_type": "markdown",
   "id": "0d66b699-d547-476e-b9eb-4ea53db7544e",
   "metadata": {},
   "source": [
    "**3b) True/False: syntax errors are logical errors.**"
   ]
  },
  {
   "cell_type": "markdown",
   "id": "636df50a-0d52-48ca-91e7-3a68af036802",
   "metadata": {},
   "source": [
    "*Double click the answer cell, then replace this with your answer.*"
   ]
  },
  {
   "cell_type": "markdown",
   "id": "8ad10b3b-1433-4681-ac7e-d0073e4d9d74",
   "metadata": {},
   "source": [
    "**3c) In your own words, describe why exceptions are important when coding. Thinking ahead to your final project, when might it be helpful to implement try/except cases? (3 sentences max)**"
   ]
  },
  {
   "cell_type": "markdown",
   "id": "7996621d-0a2d-44e5-bcce-b4fd21d87900",
   "metadata": {},
   "source": [
    "*Double click the answer cell, then replace this with your answer.*"
   ]
  },
  {
   "cell_type": "markdown",
   "id": "40894a47-c18f-4e8f-b893-9d208b75577b",
   "metadata": {},
   "source": [
    "### Question 4: Guest Speaker Reflection"
   ]
  },
  {
   "cell_type": "markdown",
   "id": "c4ea1844-3837-4927-83b9-ab77ca9d01e9",
   "metadata": {},
   "source": [
    "In class today we heard from Professor Natasha Jaques. Fill out the feedback form [here](https://docs.google.com/forms/d/e/1FAIpQLSesHmepH2u3OAiWei3M94sMkGSY2FT6kVMNAAFetWt2eko6wA/viewform?usp=sf_link). When you're done, list the secret code as a string in the cell below."
   ]
  },
  {
   "cell_type": "code",
   "execution_count": 23,
   "id": "f162f696-e6f5-4f1b-9926-ca6a544bf2cf",
   "metadata": {},
   "outputs": [
    {
     "data": {
      "text/plain": [
       "Ellipsis"
      ]
     },
     "execution_count": 23,
     "metadata": {},
     "output_type": "execute_result"
    }
   ],
   "source": [
    "secretcode = ...\n",
    "secretcode"
   ]
  },
  {
   "cell_type": "markdown",
   "id": "d923839b-543d-4120-95c6-b0ff97f17e34",
   "metadata": {},
   "source": [
    "## Congratulations! You finished HW 10!"
   ]
  }
 ],
 "metadata": {
  "kernelspec": {
   "display_name": "Python 3 (ipykernel)",
   "language": "python",
   "name": "python3"
  },
  "language_info": {
   "codemirror_mode": {
    "name": "ipython",
    "version": 3
   },
   "file_extension": ".py",
   "mimetype": "text/x-python",
   "name": "python",
   "nbconvert_exporter": "python",
   "pygments_lexer": "ipython3",
   "version": "3.11.7"
  }
 },
 "nbformat": 4,
 "nbformat_minor": 5
}
