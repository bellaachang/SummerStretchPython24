{
 "cells": [
  {
   "cell_type": "markdown",
   "id": "6415a562-ce80-4c2a-93e8-62798df891a4",
   "metadata": {},
   "source": [
    "# UW Summer Stretch -- Introduction to Programming in Python "
   ]
  },
  {
   "cell_type": "markdown",
   "id": "df4f1660-96de-4fe1-87b0-b488fa4925ec",
   "metadata": {},
   "source": [
    "## HW 3: If-else, While loop, and for loop"
   ]
  },
  {
   "cell_type": "markdown",
   "id": "4ef3db46-5766-4e2e-b9ea-e0ec55cbb125",
   "metadata": {},
   "source": [
    "### Problem 1: If-Else Basics\n",
    "##### Task: Write a program that asks the user for an integer. If the number is even, print \"Even\". If the number is odd, print \"Odd\"."
   ]
  },
  {
   "cell_type": "code",
   "execution_count": 3,
   "id": "414be676-89cb-4069-974f-586b10321034",
   "metadata": {},
   "outputs": [],
   "source": [
    "def check_even_odd(number):\n",
    "    ### write your program here\n",
    "    return "
   ]
  },
  {
   "cell_type": "code",
   "execution_count": null,
   "id": "17d9094a-9ac8-4cca-a11f-32459cfdbab4",
   "metadata": {},
   "outputs": [],
   "source": [
    "# Example usage\n",
    "num = int(input(\"Enter an integer: \"))\n",
    "check_even_odd(num)"
   ]
  },
  {
   "cell_type": "code",
   "execution_count": 11,
   "id": "d24b787a-1afb-4a1f-ba2f-800ca76f51ec",
   "metadata": {},
   "outputs": [],
   "source": [
    "# Example output: \n",
    "#Enter an integer:  1\n",
    "#Odd"
   ]
  },
  {
   "cell_type": "markdown",
   "id": "f418b1c5-ac0a-41ad-8722-8a0dc3fec6b0",
   "metadata": {},
   "source": [
    "### Problem 2: If-Else with Multiple Conditions\n",
    "##### Task: Write a program that takes a temperature value from the user. If the temperature is below 0, print \"Freezing weather\". If it is between 0 and 10, print \"Very Cold weather\". If it is between 11 and 20, print \"Cold weather\". If it is between 21 and 30, print \"Normal in Temp\". If it is between 31 and 40, print \"Its Hot\". If it is above 40, print \"Its Very Hot\"."
   ]
  },
  {
   "cell_type": "code",
   "execution_count": 5,
   "id": "0ba8c234-2cc2-418a-ab40-fcc4217b4ce0",
   "metadata": {},
   "outputs": [],
   "source": [
    "def check_temperature(temp):\n",
    "    ### Your code here\n",
    "    return"
   ]
  },
  {
   "cell_type": "code",
   "execution_count": null,
   "id": "a9a906e1-010d-4d73-b1a0-641d6c99d8aa",
   "metadata": {},
   "outputs": [],
   "source": [
    "# Example usage\n",
    "temperature = float(input(\"Enter the temperature: \"))\n",
    "check_temperature(temperature)"
   ]
  },
  {
   "cell_type": "code",
   "execution_count": null,
   "id": "6757a319-f703-491f-b39d-5a75ccd18beb",
   "metadata": {},
   "outputs": [],
   "source": []
  },
  {
   "cell_type": "code",
   "execution_count": 12,
   "id": "6bad174d-40e2-4965-8257-928751a90a38",
   "metadata": {},
   "outputs": [],
   "source": [
    "# Example output:\n",
    "#Enter the temperature:  1\n",
    "#Very Cold weather"
   ]
  },
  {
   "cell_type": "markdown",
   "id": "34c43707-a465-4264-96c3-843aa8789938",
   "metadata": {},
   "source": [
    "### Problem 3: Simple While Loop"
   ]
  },
  {
   "cell_type": "markdown",
   "id": "95e33a1b-1105-4fba-bf54-ce254eb8c005",
   "metadata": {},
   "source": [
    "##### Task: Write a program that continually asks the user to input a word until the user types \"stop\". Each time a word is entered, the program should print \"You entered: [word]\"."
   ]
  },
  {
   "cell_type": "code",
   "execution_count": 8,
   "id": "7e23504f-3ce2-4da2-aabb-dedddc9dd1aa",
   "metadata": {},
   "outputs": [],
   "source": [
    "def prompt_until_stop():\n",
    "    ### Your code here\n",
    "    return \n"
   ]
  },
  {
   "cell_type": "code",
   "execution_count": 9,
   "id": "acdd7b54-e098-42da-8e10-14079ba56944",
   "metadata": {},
   "outputs": [],
   "source": [
    "# Call the function\n",
    "prompt_until_stop()"
   ]
  },
  {
   "cell_type": "markdown",
   "id": "001dd8c6-47f4-4b72-aac8-e209f66116ff",
   "metadata": {},
   "source": [
    "#### Problem 4: For Loop with Range\n",
    "##### Task: Write a program using a for loop that asks the user for a number and prints the multiplication table for that number from 1 to 10."
   ]
  },
  {
   "cell_type": "code",
   "execution_count": 7,
   "id": "ead1e0c6-da71-46a9-86e8-013b1398b54d",
   "metadata": {},
   "outputs": [],
   "source": [
    "def print_multiplication_table(number):\n",
    "    ### Your code here\n",
    "    return\n"
   ]
  },
  {
   "cell_type": "code",
   "execution_count": null,
   "id": "92fa2db9-6490-4903-9dd0-5a01b7e51557",
   "metadata": {},
   "outputs": [],
   "source": [
    "num = int(input(\"Enter a number: \"))\n",
    "print_multiplication_table(num)"
   ]
  },
  {
   "cell_type": "code",
   "execution_count": null,
   "id": "11da5dcb-6b24-4a40-a24f-e04e7d9ba20d",
   "metadata": {},
   "outputs": [],
   "source": []
  },
  {
   "cell_type": "markdown",
   "id": "4da2e123-8752-4cf5-bb21-e8ed4be03a97",
   "metadata": {},
   "source": [
    "#### Problem 5: Combined While and If-Else"
   ]
  },
  {
   "cell_type": "code",
   "execution_count": null,
   "id": "c0e32e7e-6442-4099-b9cd-5c6e2ae2f0aa",
   "metadata": {},
   "outputs": [],
   "source": [
    "import random\n",
    "\n",
    "def number_guessing_game():\n",
    "    ### Your code here\n",
    "    return\n"
   ]
  },
  {
   "cell_type": "code",
   "execution_count": null,
   "id": "c46deeaa-b4e3-40da-be9a-c62ee24b71eb",
   "metadata": {},
   "outputs": [],
   "source": [
    "# Start the game\n",
    "number_guessing_game()"
   ]
  },
  {
   "cell_type": "code",
   "execution_count": 14,
   "id": "0c5c6ce3-1f79-4742-be44-71b8e0f63b24",
   "metadata": {},
   "outputs": [],
   "source": [
    "# Example output:\n",
    "# Guess a number between 1 and 100:  5\n",
    "# Too low\n",
    "# Guess a number between 1 and 100:  50\n",
    "# Too low\n",
    "# Guess a number between 1 and 100:  80\n",
    "# Too high\n",
    "# Guess a number between 1 and 100:  67\n",
    "# Too high\n",
    "# Guess a number between 1 and 100:  5\n",
    "# Too low\n",
    "# Guess a number between 1 and 100:  55\n",
    "# Too low\n",
    "# Guess a number between 1 and 100:  59\n",
    "# Too low\n",
    "# Guess a number between 1 and 100:  62\n",
    "# Too low\n",
    "# Guess a number between 1 and 100:  65\n",
    "# Too high\n",
    "# Guess a number between 1 and 100:  64\n",
    "# Too high\n",
    "# Guess a number between 1 and 100:  63\n",
    "# Exactly right!"
   ]
  },
  {
   "cell_type": "markdown",
   "id": "8e8f252b-460a-4a9f-b5a1-04679d9a08ac",
   "metadata": {},
   "source": [
    "## Congratulations! You finished HW 3!"
   ]
  }
 ],
 "metadata": {
  "kernelspec": {
   "display_name": "Python 3 (ipykernel)",
   "language": "python",
   "name": "python3"
  },
  "language_info": {
   "codemirror_mode": {
    "name": "ipython",
    "version": 3
   },
   "file_extension": ".py",
   "mimetype": "text/x-python",
   "name": "python",
   "nbconvert_exporter": "python",
   "pygments_lexer": "ipython3",
   "version": "3.11.7"
  }
 },
 "nbformat": 4,
 "nbformat_minor": 5
}
