{
 "cells": [
  {
   "cell_type": "markdown",
   "id": "6049595d-1caa-4668-9dd8-e02c920b2f82",
   "metadata": {},
   "source": [
    "# Jul_11 HW\n",
    "### Each problem worth 20%. Q1.1 and Q1.2 worth 10% each.\n",
    "### Bonus worth up to 20%.\n",
    "##### You can develop the dictionary part into a final project, with understanding in depth of the data and the story."
   ]
  },
  {
   "cell_type": "markdown",
   "id": "59cfbf94-3570-4f64-9daa-cd5d92506aea",
   "metadata": {},
   "source": [
    "### Sets"
   ]
  },
  {
   "cell_type": "markdown",
   "id": "61b9e113-31bc-406e-9c8e-c6ce70d753ac",
   "metadata": {},
   "source": [
    "### 1. Email List Management\n",
    "\n",
    "#### Problem: You are managing a mailing list for a company. There are two sets of emails: one set contains emails from the company's newsletter subscribers, and the other set contains emails from the company's customers. Write a function manage_emails that takes these two sets as input and performs the following:\n",
    "#### Returns a set of emails that are in both lists (subscribed customers).\n",
    "#### Returns a set of emails that are only in the subscriber list but not in the customer list.\n",
    "#### Returns a set of all unique emails from both lists."
   ]
  },
  {
   "cell_type": "code",
   "execution_count": null,
   "id": "800a8c6c-4b34-43fa-9887-afffc96caf7f",
   "metadata": {},
   "outputs": [],
   "source": [
    "# input\n",
    "subscribers = {\"alice@example.com\", \"bob@example.com\", \"charlie@example.com\"}\n",
    "customers = {\"bob@example.com\", \"dave@example.com\"}"
   ]
  },
  {
   "cell_type": "code",
   "execution_count": null,
   "id": "c13d212d-56f2-4065-9b3a-c65c42061724",
   "metadata": {},
   "outputs": [],
   "source": [
    "def manage_emails(subscribers,customers):\n",
    "\n",
    "    return subscribed_customers,unique_subscribers,all_emails"
   ]
  },
  {
   "cell_type": "markdown",
   "id": "5167ccfe-358d-42de-8e4a-a90c201e27b5",
   "metadata": {},
   "source": [
    "subscribed_customers,unique_subscribers,all_emails =  manage_emails(subscribers,customers)\n",
    "print(subscribed_customers)\n",
    "print(unique_subscribers)\n",
    "print(all_emails)"
   ]
  },
  {
   "cell_type": "code",
   "execution_count": null,
   "id": "d1849ef5-25e7-4939-9a8b-3dbd8de7ee2e",
   "metadata": {},
   "outputs": [],
   "source": [
    "# Example Output\n",
    "subscribed_customers = {\"bob@example.com\"}\n",
    "unique_subscribers = {\"alice@example.com\", \"charlie@example.com\"}\n",
    "all_emails = {\"alice@example.com\", \"bob@example.com\", \"charlie@example.com\", \"dave@example.com\"}"
   ]
  },
  {
   "cell_type": "markdown",
   "id": "65bba1ea-a1cb-48ff-8f15-abb5bedb3183",
   "metadata": {},
   "source": [
    "### 2. Course Enrollment\n",
    "\n",
    "##### Problem: You are given two sets of student IDs: one for students enrolled in a Python course and another for students enrolled in a Data Science course. Write a function course_enrollment that takes these two sets as input and performs the following:\n",
    "##### Returns a set of student IDs who are enrolled in both courses (taking both Python and Data Science).\n",
    "##### Returns a set of student IDs who are enrolled in only one of the courses.\n",
    "##### Returns a set of student IDs who are enrolled in at least one of the courses."
   ]
  },
  {
   "cell_type": "code",
   "execution_count": null,
   "id": "fff655a1-2148-4895-aef6-492fbd0d466b",
   "metadata": {},
   "outputs": [],
   "source": [
    "# input \n",
    "python_students = {101, 102, 103, 104}\n",
    "data_science_students = {103, 104, 105, 106}"
   ]
  },
  {
   "cell_type": "code",
   "execution_count": null,
   "id": "c6a47d0d-7e81-444e-8236-d3c9bb6ef67a",
   "metadata": {},
   "outputs": [],
   "source": []
  },
  {
   "cell_type": "code",
   "execution_count": null,
   "id": "18fe6f68-a9e2-4b98-a751-e9eea59d8519",
   "metadata": {},
   "outputs": [],
   "source": []
  },
  {
   "cell_type": "code",
   "execution_count": null,
   "id": "a66999c2-2b03-44d6-8cb9-84f57c8462bc",
   "metadata": {},
   "outputs": [],
   "source": [
    "# example output\n",
    "both_courses = {103, 104}\n",
    "one_course = {101, 102, 105, 106}\n",
    "at_least_one_course = {101, 102, 103, 104, 105, 106}"
   ]
  },
  {
   "cell_type": "markdown",
   "id": "2cc4c99f-5bc0-4097-ab44-69021d54e1be",
   "metadata": {},
   "source": [
    "# Dictionary"
   ]
  },
  {
   "cell_type": "markdown",
   "id": "108fcfb3-0dba-4356-954d-075282e2f7bb",
   "metadata": {},
   "source": [
    "##### titanic is a dataset that provides information about the passengers on the Titanic, including whether they survived, their age, class, etc."
   ]
  },
  {
   "cell_type": "code",
   "execution_count": null,
   "id": "b9fe08ab-f37b-49c4-85e6-fb21a2c3b2d2",
   "metadata": {},
   "outputs": [],
   "source": [
    "import seaborn as sns\n",
    "import pandas as pd\n",
    "\n",
    "titanic = sns.load_dataset('titanic')"
   ]
  },
  {
   "cell_type": "markdown",
   "id": "2f65104a-5b12-4318-9d26-d325a133e634",
   "metadata": {},
   "source": [
    "##### Q1.1 print out all keys in titanic dataset. "
   ]
  },
  {
   "cell_type": "code",
   "execution_count": null,
   "id": "117de75a-ad4b-400b-8b9e-ce314707bc23",
   "metadata": {},
   "outputs": [],
   "source": []
  },
  {
   "cell_type": "markdown",
   "id": "b1a50b8b-d871-49f8-b39c-2640c0f1cbe2",
   "metadata": {},
   "source": [
    "##### Q1.2 how many people survived from titanic?"
   ]
  },
  {
   "cell_type": "code",
   "execution_count": null,
   "id": "d4fcb9a1-3a42-4c15-b956-f33496d5538d",
   "metadata": {},
   "outputs": [],
   "source": []
  },
  {
   "cell_type": "code",
   "execution_count": null,
   "id": "f07dc1b6-61a5-4ce2-95fc-41a75950258c",
   "metadata": {},
   "outputs": [],
   "source": [
    "#example output:\n",
    "# use print to show:\n",
    "# 3000 survived out of 8000"
   ]
  },
  {
   "cell_type": "markdown",
   "id": "d47eb25b-6ce2-4603-9973-d19ac67a1ef9",
   "metadata": {},
   "source": [
    "##### Q2 what is the average age of surviving people?"
   ]
  },
  {
   "cell_type": "code",
   "execution_count": null,
   "id": "73682be9-0a92-42f9-ba28-981c781b270b",
   "metadata": {},
   "outputs": [],
   "source": [
    "# hint: filter out the ones that have survive mark as 1"
   ]
  },
  {
   "cell_type": "code",
   "execution_count": null,
   "id": "5d8aff10-ef3b-4f07-b4eb-b136f246e18a",
   "metadata": {},
   "outputs": [],
   "source": [
    "def average_age_by_survival(titanic):\n",
    "    return avg_age\n",
    "\n",
    "# Example usage\n",
    "print(average_age_by_survival(titanic))"
   ]
  },
  {
   "cell_type": "markdown",
   "id": "5004f114-2036-43a9-9168-f242ddf30a05",
   "metadata": {},
   "source": [
    "##### Q3 what is the survival rate by sex?"
   ]
  },
  {
   "cell_type": "code",
   "execution_count": null,
   "id": "da615e9b-b60c-4c00-bd46-0015248c3196",
   "metadata": {},
   "outputs": [],
   "source": [
    "# hint: start with the survivals, and check their sex. Count separately first\n",
    "# then calculate the rate out of total."
   ]
  },
  {
   "cell_type": "code",
   "execution_count": null,
   "id": "8078e937-dd05-4d33-bbde-42c2b61ae6b8",
   "metadata": {},
   "outputs": [],
   "source": [
    "def survival_rate_by_sex(titanic):\n",
    "    return survival_rate_male, survival_rate_female\n",
    "\n",
    "# Example usage\n",
    "titanic = sns.load_dataset('titanic')\n",
    "print(survival_rate_by_sex(titanic))"
   ]
  },
  {
   "cell_type": "markdown",
   "id": "e1859f31-4c64-429c-83f5-8be00be6e619",
   "metadata": {},
   "source": [
    "#### Bonus: Explore the dataset, process the numeric information in the dataset, and tell us the story behind one or two of the numbers.\n",
    "##### 1. Grading of this depends on whether your process is correct and how TAs feel about your stories. \n",
    "##### 2. Conclusion much be correct in order to have the story evaluated. \n",
    "##### 3. So you need to process the number right, and write a cool story (don't exceed 200 words)."
   ]
  },
  {
   "cell_type": "code",
   "execution_count": null,
   "id": "21cac2bf-8df0-48b3-9b86-42df9d5267ef",
   "metadata": {},
   "outputs": [],
   "source": []
  }
 ],
 "metadata": {
  "kernelspec": {
   "display_name": "Python 3 (ipykernel)",
   "language": "python",
   "name": "python3"
  },
  "language_info": {
   "codemirror_mode": {
    "name": "ipython",
    "version": 3
   },
   "file_extension": ".py",
   "mimetype": "text/x-python",
   "name": "python",
   "nbconvert_exporter": "python",
   "pygments_lexer": "ipython3",
   "version": "3.11.7"
  }
 },
 "nbformat": 4,
 "nbformat_minor": 5
}
