{
 "cells": [
  {
   "cell_type": "markdown",
   "id": "f921768c-7922-4ca4-a763-23d84944c320",
   "metadata": {},
   "source": [
    "# UW Summer Stretch -- Introduction to Programming in Python "
   ]
  },
  {
   "cell_type": "markdown",
   "id": "ca4e26bb-8dfa-4585-82c9-e1d7775e2985",
   "metadata": {},
   "source": [
    "## HW 8: String Manipulation & Text Processing"
   ]
  },
  {
   "cell_type": "markdown",
   "id": "d171ddde-584e-43bd-ba77-e0513455855f",
   "metadata": {},
   "source": [
    "The conduction of grading is reflected in the following table. "
   ]
  },
  {
   "cell_type": "markdown",
   "id": "27ed172e-d02d-4933-b2c6-0433f3324479",
   "metadata": {},
   "source": [
    "| Question | Points | \n",
    "|:--------:|:--------:|\n",
    "|  1a   |  2   |\n",
    "|  1b   |  2   |\n",
    "|  1c   |  3   |\n",
    "|  1d   |  5   |\n",
    "|  2a   |  4   |\n",
    "|  2b   |  3   |\n",
    "|  2c   |  5   |\n",
    "|  3a   |  1   |\n",
    "|  3b   |  1   | \n",
    "|  3c   |  1   | \n",
    "|  **Total**   |  **27**   |"
   ]
  },
  {
   "cell_type": "markdown",
   "id": "8da31ae0-5b32-4211-8dd0-e698700d3109",
   "metadata": {},
   "source": [
    "### Question 1: Card Chaos"
   ]
  },
  {
   "cell_type": "markdown",
   "id": "8645c366-81a9-4bb0-a261-53b9f2d02137",
   "metadata": {},
   "source": [
    "You're working at a card company and your manager asks you to make a few functions to help make text analysis easier for the dozens of cards you have to go through. "
   ]
  },
  {
   "cell_type": "markdown",
   "id": "38e4910a-d0c2-4114-a76a-32ff8cc1c262",
   "metadata": {},
   "source": [
    "**1a) Write a function that takes in a string and returns the count of characters in the string.**"
   ]
  },
  {
   "cell_type": "code",
   "execution_count": null,
   "id": "41816540-26b1-42c2-b68c-4bdcfad1a377",
   "metadata": {},
   "outputs": [],
   "source": [
    "def string_count(str):\n",
    "    ..."
   ]
  },
  {
   "cell_type": "code",
   "execution_count": null,
   "id": "5c4288f6-64c3-48d3-a107-94bed5468298",
   "metadata": {},
   "outputs": [],
   "source": [
    "# Can test here! Feel free to add more tests.\n",
    "string_count('Happy Birthday!')"
   ]
  },
  {
   "cell_type": "markdown",
   "id": "8334c2cb-e42d-4be8-8f37-03b36834e671",
   "metadata": {},
   "source": [
    "**1b) Write a function that takes in a string and returns the count of characters, NOT including whitespace.**"
   ]
  },
  {
   "cell_type": "code",
   "execution_count": null,
   "id": "fb0aa207-ccdf-43a8-a227-87f178e68c9f",
   "metadata": {},
   "outputs": [],
   "source": [
    "def no_ws_stringcount(str):\n",
    "    ..."
   ]
  },
  {
   "cell_type": "code",
   "execution_count": null,
   "id": "3fd60873-6e3a-41ed-9c3d-736b57e3d140",
   "metadata": {},
   "outputs": [],
   "source": [
    "# Can test here! Feel free to add more tests.\n",
    "no_ws_stringcount('Happy Birthday!')"
   ]
  },
  {
   "cell_type": "markdown",
   "id": "0a870b0e-f93e-49ad-bbba-74854205447c",
   "metadata": {},
   "source": [
    "**1c) Write a function that returns the longest word in the string; assumes that the string is a sentence.**"
   ]
  },
  {
   "cell_type": "markdown",
   "id": "658e9d0b-f067-4798-89e1-1c47e9e8c511",
   "metadata": {},
   "source": [
    "Hint: the Python function [max](https://www.w3schools.com/python/ref_func_max.asp) might be useful here, using a keyword!"
   ]
  },
  {
   "cell_type": "code",
   "execution_count": null,
   "id": "ce40e774-f223-4199-b607-f8e659c5125f",
   "metadata": {},
   "outputs": [],
   "source": [
    "def longest_word(str):\n",
    "    ..."
   ]
  },
  {
   "cell_type": "code",
   "execution_count": null,
   "id": "b783b231-9f1a-41ab-9b58-d85c75f5726e",
   "metadata": {},
   "outputs": [],
   "source": [
    "# Can test here! Feel free to add more tests.\n",
    "longest_word('Congratulations on your retirement!')"
   ]
  },
  {
   "cell_type": "markdown",
   "id": "16394242-31bc-4764-8d08-206337410a20",
   "metadata": {},
   "source": [
    "**1d) Write a function that capitalizes the first letter of each word in the string.**"
   ]
  },
  {
   "cell_type": "markdown",
   "id": "cc486aac-ebfd-4238-99c3-6de0f077a677",
   "metadata": {},
   "source": [
    "Hint: think about how you can use concatenation, splitting, the built-in [.capitalize](https://www.w3schools.com/python/ref_string_capitalize.asp) and the built-in [.join](https://www.geeksforgeeks.org/python-string-join-method/) functions here!"
   ]
  },
  {
   "cell_type": "code",
   "execution_count": null,
   "id": "d92391d2-2832-4e9d-a8c1-1f52cb4e8d8d",
   "metadata": {},
   "outputs": [],
   "source": [
    "def capitalize(str):\n",
    "    ..."
   ]
  },
  {
   "cell_type": "code",
   "execution_count": null,
   "id": "3fa971d4-1a8b-4314-94f3-1179377c2230",
   "metadata": {},
   "outputs": [],
   "source": [
    "# Can test here! Feel free to add more tests.\n",
    "capitalize('Happy graduation to our #1 granddaughter!')"
   ]
  },
  {
   "cell_type": "markdown",
   "id": "1ca9bbf0-bfa7-43c3-afe5-23ff7e929d3e",
   "metadata": {},
   "source": [
    "### Question 2: A, B, C, D, F-Strings"
   ]
  },
  {
   "cell_type": "markdown",
   "id": "5ffe8855-1370-4a98-a6d8-5a196efb5100",
   "metadata": {},
   "source": [
    "Your teacher Mr Clean needs to grade exams for over 200 students, composed of Math, English and Science sections. He wonders if there's a way that he can give automatic feedback to students using a Python program. Luckily, you come to his rescue by remembering that there is a solution: f-strings!"
   ]
  },
  {
   "cell_type": "markdown",
   "id": "2dfefb48-cd7e-4441-82b8-c9d2bd4eb91d",
   "metadata": {},
   "source": [
    "**2a) Write a function that prints out a student's best scoring section using the following format: <br>\n",
    "\"(Student name)'s best score was for (blank).\" <br> where (student name) is the name of the student, (blank) is the subject (i.e. Math, English, Science) that the student scored the best in. Assume all scores are on the same scale.**"
   ]
  },
  {
   "cell_type": "markdown",
   "id": "fa376e8a-264d-4cda-bcb0-99e2eccda35a",
   "metadata": {},
   "source": [
    "Hint: think about conditional statements (if/else)."
   ]
  },
  {
   "cell_type": "code",
   "execution_count": null,
   "id": "3cff0daa-1c26-4164-b1cb-3e3ffbda1b24",
   "metadata": {},
   "outputs": [],
   "source": [
    "def best_score_feedback(student_name, math_score, eng_score, science_score):\n",
    "    ...\n",
    "    print(...)"
   ]
  },
  {
   "cell_type": "code",
   "execution_count": null,
   "id": "1485477f-b673-4643-a919-94ccb9bfeeab",
   "metadata": {},
   "outputs": [],
   "source": [
    "# Tests \n",
    "best_score_feedback('Kennedy', 91.0, 85.0, 70.0)\n",
    "best_score_feedback('Jamal', 51.3, 86.5, 64.6)\n",
    "best_score_feedback('Aditi', 21.4, 41.3, 38.0)"
   ]
  },
  {
   "cell_type": "markdown",
   "id": "dd7b6d59-ec39-467d-9e44-a6763165fbec",
   "metadata": {},
   "source": [
    "**2b) Write a function that averages the student's score overall and prints it using the following format: <br> \"(Student name)'s average score was (blank).\" <br> where (student name) is the name of the student and (blank) is their average score across subjects.**"
   ]
  },
  {
   "cell_type": "code",
   "execution_count": null,
   "id": "ae5b0b2f-f4cd-43d1-b6f9-8750fd45ea5f",
   "metadata": {},
   "outputs": [],
   "source": [
    "def average_score(student_name, math_score, eng_score, science_score):\n",
    "    ...\n",
    "    print(...)"
   ]
  },
  {
   "cell_type": "code",
   "execution_count": null,
   "id": "26cd6df3-906e-4c60-87af-45e265d92828",
   "metadata": {},
   "outputs": [],
   "source": [
    "# Tests \n",
    "average_score('Kennedy', 91.0, 85.0, 70.0)\n",
    "average_score('Jamal', 51.3, 86.5, 64.6)\n",
    "average_score('Aditi', 21.4, 41.3, 38.0)"
   ]
  },
  {
   "cell_type": "markdown",
   "id": "5c4cf6a6-639d-4429-9b85-35b3eeec2d50",
   "metadata": {},
   "source": [
    "**2c) Now Mr Clean wants to tell students the exact score and subject they scored the worst in, as well as how much lower they scored in that subject compared to the others. Print that feedback using the following format: <br> \"(Student name)'s worst-scoring subject was (worst-scoring subject), with a score of (worst-scoring score). Compared to (subject 2), they did worse by (difference between worst-scoring subject and subject 2). Compared to (subject 3), they did worse by (difference between worst-scoring subject and subject 3).\"**"
   ]
  },
  {
   "cell_type": "code",
   "execution_count": null,
   "id": "e2e1711d-aa9c-4cb5-8ae3-b1b425ea1143",
   "metadata": {},
   "outputs": [],
   "source": [
    "def exact_feedback(student_name, math_score, eng_score, science_score):\n",
    "    ...\n",
    "    print(...)"
   ]
  },
  {
   "cell_type": "code",
   "execution_count": null,
   "id": "69a57544-fd60-450d-bfbd-1d4af0783cd4",
   "metadata": {},
   "outputs": [],
   "source": [
    "# Tests \n",
    "exact_feedback('Kennedy', 91.0, 85.0, 70.0)\n",
    "exact_feedback('Jamal', 51.3, 86.5, 64.6)\n",
    "exact_feedback('Aditi', 21.4, 41.3, 38.0)"
   ]
  },
  {
   "cell_type": "markdown",
   "id": "fcdcda08-b162-4f15-a580-71ce3ba1e021",
   "metadata": {},
   "source": [
    "### Question 3: Potpourri"
   ]
  },
  {
   "cell_type": "markdown",
   "id": "1d7b932b-a402-4325-8911-e74cb357d130",
   "metadata": {},
   "source": [
    "No need for explanation -- simply write True/False, or answer selection (A, B, C, D)."
   ]
  },
  {
   "cell_type": "markdown",
   "id": "30420079-a486-4b6d-8cbf-3cfcc32710ac",
   "metadata": {},
   "source": [
    "**3a) How can I access the last character of string `s`?**"
   ]
  },
  {
   "cell_type": "markdown",
   "id": "d51f7ee6-f06c-4325-af33-9444a66ff6ec",
   "metadata": {},
   "source": [
    "a. `s[len(s)]` <br>\n",
    "b. `s[len(s) - 1]` <br>\n",
    "c. `s[-1]` <br>\n",
    "d. a and c <br>\n",
    "e. None"
   ]
  },
  {
   "cell_type": "markdown",
   "id": "23751376-a59f-40c9-b302-1c9b042b2616",
   "metadata": {},
   "source": [
    "*Double click the answer cell, then replace this with your answer.*"
   ]
  },
  {
   "cell_type": "markdown",
   "id": "e1ebd49d-7f8d-46d6-814e-a276d34f7cd4",
   "metadata": {},
   "source": [
    "**3b) True or False: the strings 'Hello' and \"Hello\" are identical.**"
   ]
  },
  {
   "cell_type": "markdown",
   "id": "d0a05f4d-b57e-419e-8681-f2a09bcec29e",
   "metadata": {},
   "source": [
    "*Double click the answer cell, then replace this with your answer.*"
   ]
  },
  {
   "cell_type": "markdown",
   "id": "e898cfa5-a166-47cf-91dc-da9002e49a07",
   "metadata": {},
   "source": [
    "**3c) What does `len(' hi')` return?**"
   ]
  },
  {
   "cell_type": "markdown",
   "id": "e5894116-c347-4c48-ac4b-26a6d45f82b3",
   "metadata": {},
   "source": [
    "a. 2 <br>\n",
    "b. 3 <br>\n",
    "c. None"
   ]
  },
  {
   "cell_type": "markdown",
   "id": "c1ccf13d-216f-41cc-a62a-1cc2a5767d2e",
   "metadata": {},
   "source": [
    "*Double click the answer cell, then replace this with your answer.*"
   ]
  },
  {
   "cell_type": "markdown",
   "id": "dc884dbe-8b74-42d0-8fca-b14f02923bce",
   "metadata": {},
   "source": [
    "### Question 4: print(\"Reformat my String\")"
   ]
  },
  {
   "cell_type": "markdown",
   "id": "7234a387-1a71-463f-ab6c-bcf7902751d0",
   "metadata": {},
   "source": [
    "**4a) Write a function `reformat_name` that takes in a full name as a string. Assume the format is 'firstname lastname'. The function then outputs the concatenated name in the format 'LASTNAME firstname'. Ex: `reformat_name('John', 'Doe')` should equal DOE John.**"
   ]
  },
  {
   "cell_type": "markdown",
   "id": "bdba51c2-c5ba-47e8-9cee-be54d61dcce2",
   "metadata": {},
   "source": [
    "Hint: look at the [str.split()](https://www.w3schools.com/python/ref_string_split.asp) function, as well as the [str.upper()](https://www.geeksforgeeks.org/python-string-upper/) and [str.lower()](https://www.geeksforgeeks.org/python-string-lower/) functions."
   ]
  },
  {
   "cell_type": "code",
   "execution_count": null,
   "id": "70681fd3-b2af-40f5-980b-e3c8bf122350",
   "metadata": {},
   "outputs": [],
   "source": [
    "def reformat_name(fullname):\n",
    "    ...\n",
    "    return ..."
   ]
  },
  {
   "cell_type": "markdown",
   "id": "768ffc6f-e2d2-489e-987d-34c8b70b074d",
   "metadata": {},
   "source": [
    "**4b) Write a function `stride_two` that reads a sentence as a single input string. Print the sentence in reverse order, but only every second word.**"
   ]
  },
  {
   "cell_type": "markdown",
   "id": "7103e7a9-5863-4440-93df-1859c62f8677",
   "metadata": {},
   "source": [
    "Example: `stride_two(\"Python is awesome and fun to learn\") = \"learn fun and is\"`"
   ]
  },
  {
   "cell_type": "code",
   "execution_count": null,
   "id": "cfbbd5bf-0413-41a7-bc25-c3b169d18e58",
   "metadata": {},
   "outputs": [],
   "source": [
    "def stride_two(sentence):\n",
    "    ...\n",
    "    return ..."
   ]
  },
  {
   "cell_type": "markdown",
   "id": "53e17aea-7655-42a9-8ab8-3ecbb913f2cc",
   "metadata": {},
   "source": [
    "## Congratulations! You finished HW 6!"
   ]
  }
 ],
 "metadata": {
  "kernelspec": {
   "display_name": "Python 3 (ipykernel)",
   "language": "python",
   "name": "python3"
  },
  "language_info": {
   "codemirror_mode": {
    "name": "ipython",
    "version": 3
   },
   "file_extension": ".py",
   "mimetype": "text/x-python",
   "name": "python",
   "nbconvert_exporter": "python",
   "pygments_lexer": "ipython3",
   "version": "3.11.7"
  }
 },
 "nbformat": 4,
 "nbformat_minor": 5
}
