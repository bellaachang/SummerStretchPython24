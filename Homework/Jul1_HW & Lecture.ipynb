{
 "cells": [
  {
   "cell_type": "markdown",
   "id": "8ead30fb-d053-4637-a825-e2e89108ae3b",
   "metadata": {},
   "source": [
    "## Basic Operations"
   ]
  },
  {
   "cell_type": "code",
   "execution_count": 17,
   "id": "65e1d373-9159-4a86-be36-e1801ff60ac2",
   "metadata": {},
   "outputs": [],
   "source": [
    "import math\n",
    "from math import pi as pi\n",
    "from math import sqrt as sqrt\n",
    "from math import sin,cos as sin,cos"
   ]
  },
  {
   "cell_type": "markdown",
   "id": "11b631dc-9e57-4598-a422-f5eaf8255596",
   "metadata": {},
   "source": [
    "#### +, -, *, /"
   ]
  },
  {
   "cell_type": "code",
   "execution_count": 1,
   "id": "ac3c1cf9-7f6b-4925-96e0-1673fb78d419",
   "metadata": {},
   "outputs": [
    {
     "data": {
      "text/plain": [
       "2"
      ]
     },
     "execution_count": 1,
     "metadata": {},
     "output_type": "execute_result"
    }
   ],
   "source": [
    "1 + 1 "
   ]
  },
  {
   "cell_type": "code",
   "execution_count": 5,
   "id": "c1044ede-62fb-4c26-9bb1-d8fdd5c093d5",
   "metadata": {},
   "outputs": [
    {
     "data": {
      "text/plain": [
       "9.568075117370892"
      ]
     },
     "execution_count": 5,
     "metadata": {},
     "output_type": "execute_result"
    }
   ],
   "source": [
    "2038 / 213"
   ]
  },
  {
   "cell_type": "code",
   "execution_count": 6,
   "id": "5a4cefd0-6b6f-48fe-96c4-dc52319eede1",
   "metadata": {},
   "outputs": [],
   "source": [
    "numbera = 80"
   ]
  },
  {
   "cell_type": "code",
   "execution_count": 7,
   "id": "15b0e7a2-2756-4759-b25a-35d944638877",
   "metadata": {},
   "outputs": [
    {
     "data": {
      "text/plain": [
       "80"
      ]
     },
     "execution_count": 7,
     "metadata": {},
     "output_type": "execute_result"
    }
   ],
   "source": [
    "numbera"
   ]
  },
  {
   "cell_type": "markdown",
   "id": "e9ac590d-de9b-4c18-892e-72314e4fcf67",
   "metadata": {},
   "source": [
    "#### int, float, bool, str"
   ]
  },
  {
   "cell_type": "code",
   "execution_count": 8,
   "id": "593d93b3-f4c1-4000-9928-70b37fc218c4",
   "metadata": {},
   "outputs": [
    {
     "data": {
      "text/plain": [
       "80"
      ]
     },
     "execution_count": 8,
     "metadata": {},
     "output_type": "execute_result"
    }
   ],
   "source": [
    "int(numbera)"
   ]
  },
  {
   "cell_type": "code",
   "execution_count": 9,
   "id": "af7024d6-f832-47c4-aec6-c6d81caa9b31",
   "metadata": {},
   "outputs": [
    {
     "data": {
      "text/plain": [
       "80.0"
      ]
     },
     "execution_count": 9,
     "metadata": {},
     "output_type": "execute_result"
    }
   ],
   "source": [
    "float(numbera)"
   ]
  },
  {
   "cell_type": "code",
   "execution_count": 10,
   "id": "bb24f8f6-14c7-4900-ba7f-ff3bf599d7c6",
   "metadata": {},
   "outputs": [
    {
     "data": {
      "text/plain": [
       "(True, False)"
      ]
     },
     "execution_count": 10,
     "metadata": {},
     "output_type": "execute_result"
    }
   ],
   "source": [
    "bool(1), bool(0)"
   ]
  },
  {
   "cell_type": "code",
   "execution_count": 11,
   "id": "cb9cb5ab-c0da-4f49-bbeb-cada9be67ba6",
   "metadata": {},
   "outputs": [
    {
     "data": {
      "text/plain": [
       "(1, 0)"
      ]
     },
     "execution_count": 11,
     "metadata": {},
     "output_type": "execute_result"
    }
   ],
   "source": [
    "int(True), int(False)"
   ]
  },
  {
   "cell_type": "markdown",
   "id": "e90d2c6c-bbb3-43e1-a373-a2d74935eba9",
   "metadata": {},
   "source": [
    "#### ==, !=, >, <"
   ]
  },
  {
   "cell_type": "code",
   "execution_count": 12,
   "id": "f7323698-67ec-458e-af35-d18e4417dab6",
   "metadata": {},
   "outputs": [
    {
     "data": {
      "text/plain": [
       "(True, True, False, False)"
      ]
     },
     "execution_count": 12,
     "metadata": {},
     "output_type": "execute_result"
    }
   ],
   "source": [
    "1 == True, 1 == 1, 1 != 1, 1 == 0"
   ]
  },
  {
   "cell_type": "code",
   "execution_count": 13,
   "id": "b16a6ea1-606d-485a-b0e1-248aa3eda6b9",
   "metadata": {},
   "outputs": [
    {
     "data": {
      "text/plain": [
       "False"
      ]
     },
     "execution_count": 13,
     "metadata": {},
     "output_type": "execute_result"
    }
   ],
   "source": [
    "1 == False"
   ]
  },
  {
   "cell_type": "markdown",
   "id": "d8b85082-85da-4857-a5b6-dc7118d2de8f",
   "metadata": {},
   "source": [
    "#### Extra Operations: **, %, //, sqrt, sin and cos"
   ]
  },
  {
   "cell_type": "code",
   "execution_count": 14,
   "id": "7bf6ce7d-3eee-458c-b600-be92fa91b1b5",
   "metadata": {},
   "outputs": [
    {
     "data": {
      "text/plain": [
       "(2, 1.0, 2, 81, 1, 5)"
      ]
     },
     "execution_count": 14,
     "metadata": {},
     "output_type": "execute_result"
    }
   ],
   "source": [
    "1 + 1, 1/1 , 1 * 2, 3 ** 4, 11 % 2, 11 // 2"
   ]
  },
  {
   "cell_type": "code",
   "execution_count": 13,
   "id": "a9fe3540-b049-48c6-ae45-a4fa6848d79a",
   "metadata": {},
   "outputs": [
    {
     "data": {
      "text/plain": [
       "10.0"
      ]
     },
     "execution_count": 13,
     "metadata": {},
     "output_type": "execute_result"
    }
   ],
   "source": [
    "sqrt(100)"
   ]
  },
  {
   "cell_type": "code",
   "execution_count": 18,
   "id": "0ec06b34-972e-4a5b-bbfe-cca501d89b6d",
   "metadata": {},
   "outputs": [
    {
     "data": {
      "text/plain": [
       "-1.0"
      ]
     },
     "execution_count": 18,
     "metadata": {},
     "output_type": "execute_result"
    }
   ],
   "source": [
    "sin(pi)"
   ]
  },
  {
   "cell_type": "code",
   "execution_count": null,
   "id": "48e55cdd-7bb2-4837-af02-d0a699a6d13b",
   "metadata": {},
   "outputs": [],
   "source": []
  },
  {
   "cell_type": "markdown",
   "id": "6cbbf25a-50b3-43a5-8d6d-d6714d81c2a1",
   "metadata": {},
   "source": [
    "### Questions:"
   ]
  },
  {
   "cell_type": "markdown",
   "id": "3029b2c4-4608-4ac8-8bb1-670e156bf61b",
   "metadata": {},
   "source": [
    "#### 1. Calculate: \n",
    "$$\n",
    "\\sqrt{\\left(\\frac{8 \\times 30}{20}\\right) \\% 23}\n",
    "$$"
   ]
  },
  {
   "cell_type": "code",
   "execution_count": null,
   "id": "02b7c65b-79e2-4e0c-a48e-8ced2d2ae7fd",
   "metadata": {},
   "outputs": [],
   "source": []
  },
  {
   "cell_type": "markdown",
   "id": "22d4e651-ad4f-4562-bb61-7bbe23841313",
   "metadata": {},
   "source": [
    "\n",
    "$$\n",
    "3^2 + 4^2\n",
    "$$"
   ]
  },
  {
   "cell_type": "code",
   "execution_count": null,
   "id": "fbb7777a-4828-468b-a6ac-a15403f76106",
   "metadata": {},
   "outputs": [],
   "source": []
  },
  {
   "cell_type": "markdown",
   "id": "84331bb2-e160-42ca-a4c4-e3510d9c9eea",
   "metadata": {},
   "source": [
    "$$\n",
    "5x - 7 < 3 \\quad \\text{for} \\quad x < 2\n",
    "$$"
   ]
  },
  {
   "cell_type": "code",
   "execution_count": null,
   "id": "220ac6b4-0500-4289-8b4e-567216df31cd",
   "metadata": {},
   "outputs": [],
   "source": []
  },
  {
   "cell_type": "markdown",
   "id": "a486fbb0-dfae-4678-8e21-5d7c8bfa1f6e",
   "metadata": {},
   "source": [
    "$$\n",
    "\\frac{2 + \\frac{3}{4}}{1 - \\frac{5}{6}} = ?\n",
    "$$"
   ]
  },
  {
   "cell_type": "code",
   "execution_count": null,
   "id": "7c733436-4088-4ba1-ba5c-f22dfa994e48",
   "metadata": {},
   "outputs": [],
   "source": []
  },
  {
   "cell_type": "markdown",
   "id": "09018972-e3c0-4e0e-8f81-d0bac6deff95",
   "metadata": {},
   "source": [
    "$$\n",
    "\\sin^2(\\theta) + \\cos^2(\\theta) = ?\n",
    "$$"
   ]
  },
  {
   "cell_type": "code",
   "execution_count": null,
   "id": "e673eeca-2b39-4682-9121-12c550e4b22c",
   "metadata": {},
   "outputs": [],
   "source": []
  },
  {
   "cell_type": "markdown",
   "id": "37179457-bef3-45dd-8d14-7521f28de273",
   "metadata": {},
   "source": [
    "$$\n",
    "\\log_2(x) + \\log_2(x-3) = 4\n",
    "$$"
   ]
  },
  {
   "cell_type": "code",
   "execution_count": null,
   "id": "21b99981-5c89-48f3-a37f-eee2c3daac14",
   "metadata": {},
   "outputs": [],
   "source": []
  }
 ],
 "metadata": {
  "kernelspec": {
   "display_name": "Python 3 (ipykernel)",
   "language": "python",
   "name": "python3"
  },
  "language_info": {
   "codemirror_mode": {
    "name": "ipython",
    "version": 3
   },
   "file_extension": ".py",
   "mimetype": "text/x-python",
   "name": "python",
   "nbconvert_exporter": "python",
   "pygments_lexer": "ipython3",
   "version": "3.11.7"
  }
 },
 "nbformat": 4,
 "nbformat_minor": 5
}
