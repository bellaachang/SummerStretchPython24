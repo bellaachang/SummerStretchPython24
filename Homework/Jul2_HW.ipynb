{
 "cells": [
  {
   "cell_type": "markdown",
   "id": "6415a562-ce80-4c2a-93e8-62798df891a4",
   "metadata": {},
   "source": [
    "# UW Summer Stretch -- Introduction to Programming in Python "
   ]
  },
  {
   "cell_type": "markdown",
   "id": "df4f1660-96de-4fe1-87b0-b488fa4925ec",
   "metadata": {},
   "source": [
    "## HW 2: Variables, Data Types, and Basic Operations"
   ]
  },
  {
   "cell_type": "markdown",
   "id": "a0e2883a-9375-4f0d-9230-215089a0e1c3",
   "metadata": {},
   "source": [
    "The conduction of grading is reflected in the following table. "
   ]
  },
  {
   "cell_type": "markdown",
   "id": "b99cfd12-5a05-48c6-a170-e7f1064d0a26",
   "metadata": {},
   "source": [
    "| Question | Points | \n",
    "|:--------:|:--------:|\n",
    "|  1a   |  1   | \n",
    "|  1b   |  1   | \n",
    "|  2a   |  2   | \n",
    "|  2b   |  1   | \n",
    "|  3a   |  2   | \n",
    "|  3b   |  2   | \n",
    "|  3c   |  3   | \n",
    "|  4a   |  2   |\n",
    "|  4b   |  2   |\n",
    "|  **Total**   |  **16**   |"
   ]
  },
  {
   "cell_type": "markdown",
   "id": "4ef3db46-5766-4e2e-b9ea-e0ec55cbb125",
   "metadata": {},
   "source": [
    "### Question 1: Strings and Slices"
   ]
  },
  {
   "cell_type": "markdown",
   "id": "7677e019-306a-4ed8-902b-74e2e1ce09b8",
   "metadata": {},
   "source": [
    "Strings can be manipulated by **indexing** into them. This is indicated by a bracket with an integer i. "
   ]
  },
  {
   "cell_type": "markdown",
   "id": "c52a381c-8f71-49e8-8592-a6e15296f158",
   "metadata": {},
   "source": [
    "For example, if a string 'apple' is assigned to the variable `a`, then grabbing the second character of `a` can be done by indexing into `a` with i = 1. This is because Python uses 0-indexing, meaning the first character is in the 0th place, the second character is in the 1st place, etc. Thus, grabbing the character 'p' from 'apple' can be conducted by coding `a[1]`."
   ]
  },
  {
   "cell_type": "markdown",
   "id": "b9631b77-4a76-4463-97c8-c817d26947ba",
   "metadata": {},
   "source": [
    "**1a) Write code that outputs 'u' using string indexing.**"
   ]
  },
  {
   "cell_type": "code",
   "execution_count": 35,
   "id": "414be676-89cb-4069-974f-586b10321034",
   "metadata": {},
   "outputs": [
    {
     "data": {
      "text/plain": [
       "Ellipsis"
      ]
     },
     "execution_count": 35,
     "metadata": {},
     "output_type": "execute_result"
    }
   ],
   "source": [
    "bb = 'blueberry'\n",
    "... #REPLACE '...' WITH CODE "
   ]
  },
  {
   "cell_type": "markdown",
   "id": "281b7400-2485-417f-8f6e-5036dddf4c5d",
   "metadata": {},
   "source": [
    "You can also grab a substring of a string using the colon symbol. You can specify an ending character position (exclusive), a beginning character position, or both. See the below example."
   ]
  },
  {
   "cell_type": "code",
   "execution_count": 51,
   "id": "6282e292-a594-4de0-b7a8-9c2c44955ea1",
   "metadata": {},
   "outputs": [
    {
     "name": "stdout",
     "output_type": "stream",
     "text": [
      "berry\n",
      "berry\n",
      "straw\n"
     ]
    }
   ],
   "source": [
    "## Substring example\n",
    "string_ex = 'strawberry'\n",
    "substr_berry = string_ex[5:10]\n",
    "print(substr_berry)\n",
    "\n",
    "substr_berry2 = string_ex[5:]\n",
    "print(substr_berry2) #Notice it's the same output!\n",
    "\n",
    "substr_straw = string_ex[:5]\n",
    "print(substr_straw)"
   ]
  },
  {
   "cell_type": "markdown",
   "id": "bb36f830-84b3-4df2-8a19-39535411f570",
   "metadata": {},
   "source": [
    "**1b) Find 3 new words that belong in the defined variable. Assign them each to the names `substr1`, `substr2`, and `substr3`, respectively.**"
   ]
  },
  {
   "cell_type": "code",
   "execution_count": null,
   "id": "9459ddab-6347-4b4c-9bed-698f55a40f7b",
   "metadata": {},
   "outputs": [],
   "source": [
    "x = 'nonetheless'\n",
    "... \n",
    "...\n",
    "..."
   ]
  },
  {
   "cell_type": "markdown",
   "id": "fb69945e-793a-4f1b-8c8c-fa75f062a9de",
   "metadata": {},
   "source": [
    "### Question 2: Identi-variable"
   ]
  },
  {
   "cell_type": "markdown",
   "id": "e8ce5211-89b4-4709-8f31-28364964f717",
   "metadata": {},
   "source": [
    "**2a) Write an introduction for yourself in the next cell using the variables `name`, `age` and `grade`. Print the introduction after defining these variables.**"
   ]
  },
  {
   "cell_type": "markdown",
   "id": "1b888e60-9831-4d9e-94cf-94f53323881e",
   "metadata": {},
   "source": [
    "You can search online for a way to print with variables!"
   ]
  },
  {
   "cell_type": "code",
   "execution_count": 61,
   "id": "54f23f0b-fa07-4c41-834c-4ead58222566",
   "metadata": {},
   "outputs": [
    {
     "data": {
      "text/plain": [
       "Ellipsis"
      ]
     },
     "execution_count": 61,
     "metadata": {},
     "output_type": "execute_result"
    }
   ],
   "source": [
    "name = ...\n",
    "age = ...\n",
    "grade = ...\n",
    "..."
   ]
  },
  {
   "cell_type": "markdown",
   "id": "c7880f0a-5fb9-46f1-b2e3-2ece385e48da",
   "metadata": {},
   "source": [
    "**2b) What are the types of each variable in 2a? Select from the options below and assign each variable to a letter.** <br>"
   ]
  },
  {
   "cell_type": "markdown",
   "id": "05940098-4d3e-47d6-bf5e-798eeeb58be4",
   "metadata": {},
   "source": [
    "For example: grade_type = 'd'"
   ]
  },
  {
   "cell_type": "markdown",
   "id": "60fc3ab4-321e-476e-b59a-57fc66afcd16",
   "metadata": {},
   "source": [
    "(a) Float <br>\n",
    "(b) Int <br>\n",
    "(c) Str"
   ]
  },
  {
   "cell_type": "code",
   "execution_count": 67,
   "id": "25f01332-275e-402c-bb69-4fd86178a57a",
   "metadata": {},
   "outputs": [],
   "source": [
    "name_type = ...\n",
    "age_type = ...\n",
    "grade_type = ..."
   ]
  },
  {
   "cell_type": "markdown",
   "id": "34c43707-a465-4264-96c3-843aa8789938",
   "metadata": {},
   "source": [
    "### Question 3: Geometr-ython"
   ]
  },
  {
   "cell_type": "markdown",
   "id": "15d16359-89b7-4671-88fb-5af7cd9f5f3e",
   "metadata": {},
   "source": [
    "*Note: We will learn functions in a future class, so you only need to worry about the '...' portions for now.* "
   ]
  },
  {
   "cell_type": "markdown",
   "id": "0ba71b95-38a3-43b6-b201-4ad56ac29061",
   "metadata": {},
   "source": [
    "To give a brief intro for functions, they are composed of the following: a definition statement, input variables, a body, and a return statement which produces an output. <br>\n",
    "Here is an example:"
   ]
  },
  {
   "cell_type": "code",
   "execution_count": 5,
   "id": "7e23504f-3ce2-4da2-aabb-dedddc9dd1aa",
   "metadata": {},
   "outputs": [],
   "source": [
    "# EXAMPLE OF FUNCTION\n",
    "def addition(x, y):\n",
    "    sum = x + y\n",
    "    return sum"
   ]
  },
  {
   "cell_type": "markdown",
   "id": "0d2564c2-09a3-4d29-a3ac-fcf6377412f9",
   "metadata": {},
   "source": [
    "The **definition statement** defines the NAME of the function, so we can call it later. By running that cell alone, we will not get an output. If I run a cell afterwards calling it, then it will output a result! See the cell block below for an example. <br>\n",
    "The **input variables** here are `x` and `y`. Whenever you call a function, you can change the value of these input variables. In the cell block below, `x` = 2 and `y` = 3. <br>\n",
    "The **body** for the addition function is just the line `sum = x + y`. <br>\n",
    "The **return statement** is the line with the `return` keyword. This line is mandatory because it produces an output for the function. Try removing it and running the cell below to see what happens!"
   ]
  },
  {
   "cell_type": "code",
   "execution_count": 9,
   "id": "71768481-30c8-4fda-bce4-4839235f1671",
   "metadata": {},
   "outputs": [
    {
     "data": {
      "text/plain": [
       "5"
      ]
     },
     "execution_count": 9,
     "metadata": {},
     "output_type": "execute_result"
    }
   ],
   "source": [
    "addition(2, 3)"
   ]
  },
  {
   "cell_type": "code",
   "execution_count": 13,
   "id": "b28e491f-b2f1-4655-96ef-7b817c414f3f",
   "metadata": {},
   "outputs": [
    {
     "data": {
      "text/plain": [
       "21"
      ]
     },
     "execution_count": 13,
     "metadata": {},
     "output_type": "execute_result"
    }
   ],
   "source": [
    "addition(8, 13) # See how the function works for all cases of x and y?"
   ]
  },
  {
   "cell_type": "markdown",
   "id": "be4f0f12-be00-43d8-8eca-aba688011a68",
   "metadata": {},
   "source": [
    "**3a) Finish the function to write the area and perimeter formulas for a triangle.**"
   ]
  },
  {
   "cell_type": "code",
   "execution_count": 82,
   "id": "66d6b0e8-a92f-4a4e-a0e3-22883eac8579",
   "metadata": {},
   "outputs": [],
   "source": [
    "def triangle_area(base, height):\n",
    "    area = ....\n",
    "    return area "
   ]
  },
  {
   "cell_type": "code",
   "execution_count": null,
   "id": "530cc5a7-7646-46fc-a09b-d3246f7db872",
   "metadata": {},
   "outputs": [],
   "source": [
    "# Tests for checking (optional)\n",
    "triangle_area(5, 10) == 25\n",
    "triangle_area(2, 3) == 2\n",
    "triangle_area(25, 42) == 525"
   ]
  },
  {
   "cell_type": "markdown",
   "id": "2a1fd064-22e1-444c-98b2-180d9daca0b5",
   "metadata": {},
   "source": [
    "You can import pi using a Python library, which we've imported below. `math.pi` can then be referenced as a variable."
   ]
  },
  {
   "cell_type": "code",
   "execution_count": 85,
   "id": "3bd17c16-2d73-4d6d-ab44-2014bdcc04f0",
   "metadata": {},
   "outputs": [],
   "source": [
    "import math"
   ]
  },
  {
   "cell_type": "markdown",
   "id": "8ae20237-bdf9-448e-873a-04aa5082ac5a",
   "metadata": {},
   "source": [
    "**3b) Finish the function to write the area and circumference of a sphere. (Beware of the input!)**"
   ]
  },
  {
   "cell_type": "code",
   "execution_count": 111,
   "id": "e031497b-825b-41a8-8f59-8f95973754a5",
   "metadata": {},
   "outputs": [],
   "source": [
    "def sphere_formulas(diam):\n",
    "    volume = ...\n",
    "    circum = ...\n",
    "    return volume, circum"
   ]
  },
  {
   "cell_type": "code",
   "execution_count": null,
   "id": "73308071-394c-473c-ac5c-b01c556fcbfc",
   "metadata": {},
   "outputs": [],
   "source": [
    "# Tests for checking (optional)\n",
    "sphere_formulas(8) == (268.082573106329, 25.132741228718345)\n",
    "sphere_formulas(30) == (14137.166941154068, 94.24777960769379)"
   ]
  },
  {
   "cell_type": "markdown",
   "id": "1267a84b-9ec3-4281-959a-cef762e0d00c",
   "metadata": {},
   "source": [
    "**3c) Finish the function to write the curved surface area, total surface area, and volume of a right circular cone.**"
   ]
  },
  {
   "cell_type": "code",
   "execution_count": 101,
   "id": "65405d0b-f3cd-4d37-98d9-299e4d39474f",
   "metadata": {},
   "outputs": [],
   "source": [
    "def rcc_formulas(r, h, l):\n",
    "    'r is radius, h is height, l is slanted length'\n",
    "    curved_sa = ...\n",
    "    total_sa = ...\n",
    "    volume_sa = ...\n",
    "    return curved_sa, total_sa, volume_sa"
   ]
  },
  {
   "cell_type": "code",
   "execution_count": 124,
   "id": "a92e7853-a4c2-4acb-9846-228aed831719",
   "metadata": {},
   "outputs": [
    {
     "data": {
      "text/plain": [
       "False"
      ]
     },
     "execution_count": 124,
     "metadata": {},
     "output_type": "execute_result"
    }
   ],
   "source": [
    "# Tests for checking (optional)\n",
    "rcc_formulas(3, 4, 5) == (62.83185307179586, 130.72951471480383, 50.26548245743669)\n",
    "rcc_formulas(5, 6, 8) == (150.79644737231007, 282.7433388230814, 188.4955592153876)\n",
    "rcc_formulas(7, 10, 13) == (285.0, 503.3482438584487, 513.6190612027964)"
   ]
  },
  {
   "cell_type": "markdown",
   "id": "556732eb-4deb-4b38-8aac-3944efcb4591",
   "metadata": {},
   "source": [
    "### Question 4: The Floor's The Limit!"
   ]
  },
  {
   "cell_type": "markdown",
   "id": "df2f160a-684d-4374-b9ec-89fd62a09164",
   "metadata": {},
   "source": [
    "**4a) Write a mathematical statement WITHOUT using the floor function '//' that operates the same way as x // 2.**"
   ]
  },
  {
   "cell_type": "code",
   "execution_count": 127,
   "id": "fc6de65e-87ad-4acd-8601-72055ba07308",
   "metadata": {},
   "outputs": [
    {
     "name": "stdout",
     "output_type": "stream",
     "text": [
      "4.0\n"
     ]
    },
    {
     "data": {
      "text/plain": [
       "Ellipsis"
      ]
     },
     "execution_count": 127,
     "metadata": {},
     "output_type": "execute_result"
    }
   ],
   "source": [
    "x = 8 #Dummy variable\n",
    "\n",
    "print(x / 2) #This is what you should get\n",
    "... #WRITE CODE HERE"
   ]
  },
  {
   "cell_type": "markdown",
   "id": "5e7f5c4d-df3c-4d85-be71-50f05c19247e",
   "metadata": {},
   "source": [
    "**4b) Write a mathematical statement WITHOUT using the modulo function '%' that operates the same way as x % 2.**"
   ]
  },
  {
   "cell_type": "code",
   "execution_count": 134,
   "id": "443530bc-c086-4ca2-aad8-d2355fef6d11",
   "metadata": {},
   "outputs": [
    {
     "name": "stdout",
     "output_type": "stream",
     "text": [
      "1\n"
     ]
    },
    {
     "data": {
      "text/plain": [
       "Ellipsis"
      ]
     },
     "execution_count": 134,
     "metadata": {},
     "output_type": "execute_result"
    }
   ],
   "source": [
    "x = 9\n",
    "\n",
    "print(x % 2) #This is what you should get\n",
    "... #WRITE CODE HERE"
   ]
  },
  {
   "cell_type": "markdown",
   "id": "8e8f252b-460a-4a9f-b5a1-04679d9a08ac",
   "metadata": {},
   "source": [
    "## Congratulations! You finished HW 2!"
   ]
  }
 ],
 "metadata": {
  "kernelspec": {
   "display_name": "Python 3 (ipykernel)",
   "language": "python",
   "name": "python3"
  },
  "language_info": {
   "codemirror_mode": {
    "name": "ipython",
    "version": 3
   },
   "file_extension": ".py",
   "mimetype": "text/x-python",
   "name": "python",
   "nbconvert_exporter": "python",
   "pygments_lexer": "ipython3",
   "version": "3.11.7"
  }
 },
 "nbformat": 4,
 "nbformat_minor": 5
}
