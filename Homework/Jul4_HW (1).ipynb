{
 "cells": [
  {
   "cell_type": "markdown",
   "id": "1e43de68-224c-42ef-a3fc-21fd9621f5fe",
   "metadata": {},
   "source": [
    "# UW Summer Stretch -- Introduction to Programming in Python"
   ]
  },
  {
   "cell_type": "markdown",
   "id": "19653a37-2d5b-407d-977d-91ce6e5a18b1",
   "metadata": {},
   "source": [
    "# HW 4: Functions"
   ]
  },
  {
   "cell_type": "markdown",
   "id": "11fce84e-321a-4390-b0fd-be8e4ba085db",
   "metadata": {},
   "source": [
    "### P1. Sort and Filter\n",
    "\n",
    "##### Write a function filter_and_sort that takes a list of integers. It should first remove all negative numbers from the list and then return a sorted list in ascending order."
   ]
  },
  {
   "cell_type": "code",
   "execution_count": null,
   "id": "ec49468d-0b21-4ede-b06b-c8f12f57da43",
   "metadata": {},
   "outputs": [],
   "source": []
  },
  {
   "cell_type": "code",
   "execution_count": null,
   "id": "85327df4-af5a-4f7f-af26-f376ff0b66ff",
   "metadata": {},
   "outputs": [],
   "source": [
    "### Example output\n",
    "# input: list_a = [1, -1, 5, 2, -10]\n",
    "# output: filter_and_sort()\n",
    "# [1, 2, 5]"
   ]
  },
  {
   "cell_type": "markdown",
   "id": "3625b3ff-027a-4992-a1f8-08c2bf485312",
   "metadata": {},
   "source": [
    "### P2: Prime Number Checker\n",
    "\n",
    "##### Create a function is_prime that determines if a number is a prime number and returns True if it is, or False otherwise.\n",
    "##### Note: input up to 100.\n",
    "##### Note2: Think about what determines a number is a prime number."
   ]
  },
  {
   "cell_type": "markdown",
   "id": "a735b675-fac9-42bd-98bc-732ea11b450d",
   "metadata": {},
   "source": [
    "### P3: Length of Time\n",
    "\n",
    "##### Write a function convert_seconds that takes a number of seconds and converts it into days, hours, minutes, and seconds."
   ]
  },
  {
   "cell_type": "code",
   "execution_count": null,
   "id": "89190d82-a60f-4167-ad9c-f33bde9cdb42",
   "metadata": {},
   "outputs": [],
   "source": []
  },
  {
   "cell_type": "markdown",
   "id": "a98f1960-6e77-4063-8b33-7130c30ab9c5",
   "metadata": {},
   "source": [
    "## Bonus 1:\n",
    "##### P4: Use turtle to recreate graphene lattice pattern!\n",
    "##### https://researchgate.net/figure/Schematic-of-the-structure-of-a-graphene-sheet_fig2_45693112"
   ]
  },
  {
   "cell_type": "markdown",
   "id": "89976c31-cb97-4528-bb5a-6c5a0edf85dc",
   "metadata": {},
   "source": [
    "## Bonus 2:\n",
    "##### P5: Use turtle to recreate bernal graphene lattice pattern! Mark two sheets with different color.\n",
    "##### https://www.google.com/search?sca_esv=04aa412ff406bf20&rlz=1C1RXQR_enUS1102US1102&sxsrf=ADLYWII84FYNuBEb8tf2gZQu-rEb_JVqBg:1720455243227&q=bernal+bilayer+graphene&udm=2&fbs=AEQNm0Aa4sjWe7Rqy32pFwRj0UkWd8nbOJfsBGGB5IQQO6L3JzEq8sk6FPCPzvp42tv1tXoWzhWsXC_I4p4mJ4MbFnhHPHoiz_0NGI0EeL5c9x1RL0XX8LhA345K4vkELq2N6Huh9gBh_CodTo3hhf9WPKN97roEyseE_4y4bzwrBzI0ZboH7HptEpnl1vQf4-SZi8K-mu0Ef-InpARpBUhWbo8exQVkJg&sa=X&ved=2ahUKEwjZlP-c65eHAxUmk44IHe51AZkQtKgLegQIFBAB&biw=1440&bih=765&dpr=2#vhid=eG7OWIWKRT13gM&vssid=mosaic"
   ]
  },
  {
   "cell_type": "code",
   "execution_count": null,
   "id": "83c7758c-fd40-4731-905b-e644f629dad5",
   "metadata": {},
   "outputs": [],
   "source": []
  },
  {
   "cell_type": "code",
   "execution_count": null,
   "id": "288c00f7-4c9c-4d37-a40c-def7db372767",
   "metadata": {},
   "outputs": [],
   "source": []
  }
 ],
 "metadata": {
  "kernelspec": {
   "display_name": "Python 3 (ipykernel)",
   "language": "python",
   "name": "python3"
  },
  "language_info": {
   "codemirror_mode": {
    "name": "ipython",
    "version": 3
   },
   "file_extension": ".py",
   "mimetype": "text/x-python",
   "name": "python",
   "nbconvert_exporter": "python",
   "pygments_lexer": "ipython3",
   "version": "3.11.7"
  }
 },
 "nbformat": 4,
 "nbformat_minor": 5
}
