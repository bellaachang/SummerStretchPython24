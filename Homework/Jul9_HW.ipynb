{
 "cells": [
  {
   "cell_type": "markdown",
   "id": "f36a4697-a784-4684-9917-d4b2e8eeefba",
   "metadata": {},
   "source": [
    "# UW Summer Stretch -- Introduction to Programming in Python "
   ]
  },
  {
   "cell_type": "markdown",
   "id": "9e3d36ae-09ca-47e0-b786-00fa25498841",
   "metadata": {},
   "source": [
    "## HW 5: Recursion"
   ]
  },
  {
   "cell_type": "markdown",
   "id": "68cc585c-0d97-4080-af1f-bb6c7b10f8c4",
   "metadata": {},
   "source": [
    "The conduction of grading is reflected in the following table. "
   ]
  },
  {
   "cell_type": "markdown",
   "id": "caaacc82-78e1-4aac-83ec-0e67661ff04c",
   "metadata": {},
   "source": [
    "| Question | Points | \n",
    "|:--------:|:--------:|\n",
    "|  1a   |  3   |\n",
    "|  1b   |  3   |\n",
    "|  2a   |  3   |\n",
    "|  2b   |  4   |\n",
    "|  2c   |  1   |\n",
    "|  2d   |  1   |\n",
    "|  3a   |  3   |\n",
    "|  3b   |  5   | \n",
    "|  3c   |  3   | \n",
    "|  **Total**   |  **25**   |"
   ]
  },
  {
   "cell_type": "markdown",
   "id": "8642ea00-65b4-4e10-a2d4-68fb95f6d279",
   "metadata": {},
   "source": [
    "### Question 1: Iterative Interruption!"
   ]
  },
  {
   "cell_type": "markdown",
   "id": "fa94e4d9-a4ae-467a-a4a9-872cabffd5b7",
   "metadata": {},
   "source": [
    "You and your friend John are playing basketball, but your friend Fatima is baking cookies and asks if you can check on them every 5 minutes. So you don't have to fully stop the game, you decide to code a for loop that prints out every minute as a number, except for any minute divisible by 5. In these cases, your for loop should output the string 'STOP!'"
   ]
  },
  {
   "cell_type": "markdown",
   "id": "3b03369f-a0f5-4f9c-b124-4a560e2013a4",
   "metadata": {},
   "source": [
    "So, your output should look like: 1, 2, 3, 4, STOP!, 6, 7, 8, 9, STOP!, 11, 12...."
   ]
  },
  {
   "cell_type": "markdown",
   "id": "e6139e84-9f41-482f-8dfd-e3ac0e7e9dc0",
   "metadata": {},
   "source": [
    "**1a) Iteratively output this sequence up to 30.**"
   ]
  },
  {
   "cell_type": "markdown",
   "id": "b38e3273-a69c-452e-815c-7ce4990fe16f",
   "metadata": {},
   "source": [
    "Hint: when thinking of a condition for producing this behavior, think about the usefulness of the mod (%) operator."
   ]
  },
  {
   "cell_type": "code",
   "execution_count": 54,
   "id": "1f87814a-1314-4a47-bca1-ec84c4d5278d",
   "metadata": {},
   "outputs": [
    {
     "data": {
      "text/plain": [
       "Ellipsis"
      ]
     },
     "execution_count": 54,
     "metadata": {},
     "output_type": "execute_result"
    }
   ],
   "source": [
    "... #REPLACE '...' WITH CODE"
   ]
  },
  {
   "cell_type": "markdown",
   "id": "eafaf163-6dcc-443c-a99b-2571f1986385",
   "metadata": {},
   "source": [
    "**1b) Fatima decides that in addition to the 5 minute check, every 10 minutes, we should also print a warning 'WARNING!' to be extra careful. So, your new output should look like: 1, 2, 3, 4, STOP!, 6, 7, 8, 9, STOP!, WARNING!, 11, 12, 13... Iteratively output this sequence up to 30.**"
   ]
  },
  {
   "cell_type": "markdown",
   "id": "6576702f-4434-4f8e-bc21-7ec6bb652959",
   "metadata": {},
   "source": []
  },
  {
   "cell_type": "code",
   "execution_count": null,
   "id": "50313653-bbc0-49ca-b641-ecec5c702254",
   "metadata": {},
   "outputs": [],
   "source": [
    "... #REPLACE '...' WITH CODE"
   ]
  },
  {
   "cell_type": "markdown",
   "id": "55147e91-361f-4735-94b8-3f9b3fd81a91",
   "metadata": {},
   "source": [
    "### Question 2: Odd, Even, Odd, Even..."
   ]
  },
  {
   "cell_type": "markdown",
   "id": "7b8cab87-fa67-49ec-a2eb-ea666b3a2cb3",
   "metadata": {},
   "source": [
    "Your first task combines your new knowledge on conditionals with your new knowledge on iteration/recursion."
   ]
  },
  {
   "cell_type": "markdown",
   "id": "fae3e125-7776-42ba-b148-934e3c4a1371",
   "metadata": {},
   "source": [
    "From 0 to 100, count the number of occurrences of odd numbers and even numbers, respectively. For the purposes of this question, 0 counts as an even number."
   ]
  },
  {
   "cell_type": "markdown",
   "id": "724d0bf2-818b-4089-831b-32803accdaf6",
   "metadata": {},
   "source": [
    "**2a) Implement this iteratively (i.e. with for loops OR while loops) and assign the occurrences of odd and even numbers to variables `odd` and `even`.**"
   ]
  },
  {
   "cell_type": "code",
   "execution_count": null,
   "id": "f35c60df-fa23-47ff-9b30-5d9d21e7612b",
   "metadata": {},
   "outputs": [],
   "source": [
    "... #REPLACE '...' WITH CODE\n",
    "print(odd) # DO NOT CHANGE THESE LINES\n",
    "print(even)"
   ]
  },
  {
   "cell_type": "markdown",
   "id": "76944e09-a691-4078-b67f-fa87b1523416",
   "metadata": {},
   "source": [
    "**2b) Implement this recursively by filling out the functions `odd_count(int)` and `even_count(int)`. In the case of the problem description, `int` = 100.**"
   ]
  },
  {
   "cell_type": "markdown",
   "id": "9d3bbdcc-44e4-4877-9394-2bed9ada0517",
   "metadata": {},
   "source": [
    "Hint: unlike lecture, this time we will be using recursion BACKWARDS -- i.e. on the next cycle of recursion we will be going back from the inputted variable `int`."
   ]
  },
  {
   "cell_type": "code",
   "execution_count": 17,
   "id": "f7e0489e-021a-4cb3-8a0a-39a9383c9143",
   "metadata": {},
   "outputs": [],
   "source": [
    "def odd_count(int):\n",
    "    if ...: # Base case -- what case automatically returns 0?\n",
    "        ...\n",
    "    elif ...: # Base case 2 -- what other case do you have to account for before dealing with odd numbers? (HINT: also recursive!)\n",
    "        ...\n",
    "    else: # Recursive case -- what do we return in the case when it's odd? \n",
    "        ..."
   ]
  },
  {
   "cell_type": "code",
   "execution_count": null,
   "id": "9bce9f8f-2ef8-4735-b37d-602569db2065",
   "metadata": {},
   "outputs": [],
   "source": [
    "odd_count(100) # CHECK"
   ]
  },
  {
   "cell_type": "code",
   "execution_count": null,
   "id": "e8600292-4846-43b3-8234-7104bcf70b82",
   "metadata": {},
   "outputs": [],
   "source": [
    "def even_count(int):\n",
    "    if ...: # Base case -- careful! Remember the problem setup that 0 counts as even!\n",
    "        ...\n",
    "    elif ...: # Base case 2 -- what other case do you have to account for before dealing with even numbers? (HINT: also recursive!)\n",
    "        ... \n",
    "    else: # Recursive case -- what do we return in the case when it's odd? \n",
    "        ..."
   ]
  },
  {
   "cell_type": "code",
   "execution_count": null,
   "id": "31961bdb-ef7a-42c9-9c53-c3fc289090e5",
   "metadata": {},
   "outputs": [],
   "source": [
    "even_count(100) # CHECK"
   ]
  },
  {
   "cell_type": "markdown",
   "id": "6ea919d1-b24c-4a67-85af-12b224deada0",
   "metadata": {},
   "source": [
    "**2c) How many odd numbers are between 0 and 100?**"
   ]
  },
  {
   "cell_type": "code",
   "execution_count": 33,
   "id": "6460e03d-b1c4-4db3-a2a5-992b9ef4bdfb",
   "metadata": {},
   "outputs": [
    {
     "data": {
      "text/plain": [
       "Ellipsis"
      ]
     },
     "execution_count": 33,
     "metadata": {},
     "output_type": "execute_result"
    }
   ],
   "source": [
    "answer_1c = ... #REPLACE '...' WITH INTEGER ANSWER\n",
    "answer_1c"
   ]
  },
  {
   "cell_type": "markdown",
   "id": "1e550343-d35e-4f47-b844-868981bf55f8",
   "metadata": {},
   "source": [
    "**2d) How many even numbers are between 0 and 100?**"
   ]
  },
  {
   "cell_type": "code",
   "execution_count": null,
   "id": "894efaaa-5967-4f0b-8afa-5a414dd79165",
   "metadata": {},
   "outputs": [],
   "source": [
    "answer_1d = ... #REPLACE '...' WITH INTEGER ANSWER\n",
    "answer_1d"
   ]
  },
  {
   "cell_type": "markdown",
   "id": "d216e453-4d87-4540-82ab-feab713609ba",
   "metadata": {},
   "source": [
    "### Question 3: Fibonacci Tree"
   ]
  },
  {
   "cell_type": "markdown",
   "id": "42e9bc9a-2177-41f2-861d-a0bc006bc3fd",
   "metadata": {},
   "source": [
    "You will now be implementing the Fibonacci sequence both iteratively and recursively. If you are not familiar with the Fibonacci sequence, refer to this website: https://www.mathsisfun.com/numbers/fibonacci-sequence.html."
   ]
  },
  {
   "cell_type": "markdown",
   "id": "4132d671-d268-4840-819d-d1bcdcdf0e36",
   "metadata": {},
   "source": [
    "The general idea is that each number in the sequence is the sum of the previous 2 numbers. The first 2 numbers in the sequence are 0 and 1, by default."
   ]
  },
  {
   "cell_type": "markdown",
   "id": "ab4ed455-932d-4e61-bfef-c34c73577724",
   "metadata": {},
   "source": [
    "**3a) First, find the 20th Fibonacci number using an iterative approach.**"
   ]
  },
  {
   "cell_type": "code",
   "execution_count": null,
   "id": "b6156d0d-4758-4d49-8ef1-2b2df502af48",
   "metadata": {},
   "outputs": [],
   "source": [
    "for i in range(...):\n",
    "    ..."
   ]
  },
  {
   "cell_type": "markdown",
   "id": "fb2ab1a5-24a1-43e7-b852-5d51e8a34fab",
   "metadata": {},
   "source": [
    "**3b) Now, create a function `fib(n)` that takes in an integer `n` and outputs the n-th Fibonacci number.**"
   ]
  },
  {
   "cell_type": "code",
   "execution_count": null,
   "id": "e50f8790-b6d0-4911-afd6-955eac67c757",
   "metadata": {},
   "outputs": [],
   "source": [
    "def fib(n):\n",
    "    if ...: #Base case 1\n",
    "        ...\n",
    "    elif ...: #Base case 2\n",
    "        ...\n",
    "    else:\n",
    "        ...\n",
    "    return ..."
   ]
  },
  {
   "cell_type": "code",
   "execution_count": null,
   "id": "81f4fb8f-1cb4-4925-9487-748d70fcbe19",
   "metadata": {},
   "outputs": [],
   "source": [
    "fib(20) # CHECK"
   ]
  },
  {
   "cell_type": "markdown",
   "id": "de0688d1-4936-4249-a45a-6efc8b1b9400",
   "metadata": {},
   "source": [
    "**3c) Describe in 2 sentences or less why the Fibonacci sequence requires two base cases.**"
   ]
  },
  {
   "cell_type": "markdown",
   "id": "839f9bd3-6b64-4108-b0ae-0814c9b1674b",
   "metadata": {},
   "source": [
    "*Double click the answer cell, then replace this with your answer.*"
   ]
  },
  {
   "cell_type": "markdown",
   "id": "37797c91-df02-47ba-8978-d25eecfde24d",
   "metadata": {},
   "source": [
    "## Congratulations! You finished HW 5!"
   ]
  }
 ],
 "metadata": {
  "kernelspec": {
   "display_name": "Python 3 (ipykernel)",
   "language": "python",
   "name": "python3"
  },
  "language_info": {
   "codemirror_mode": {
    "name": "ipython",
    "version": 3
   },
   "file_extension": ".py",
   "mimetype": "text/x-python",
   "name": "python",
   "nbconvert_exporter": "python",
   "pygments_lexer": "ipython3",
   "version": "3.11.7"
  }
 },
 "nbformat": 4,
 "nbformat_minor": 5
}
