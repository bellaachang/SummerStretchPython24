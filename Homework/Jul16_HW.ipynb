{
 "cells": [
  {
   "cell_type": "code",
   "execution_count": 3,
   "id": "d9925ef2-1a03-4a55-a7af-73a91c1e6486",
   "metadata": {},
   "outputs": [],
   "source": [
    "import seaborn as sns\n",
    "import pandas as pd\n",
    "import math"
   ]
  },
  {
   "cell_type": "markdown",
   "id": "cddc7e01-64c6-4e89-91d3-e0021e295ed7",
   "metadata": {},
   "source": [
    "### P1"
   ]
  },
  {
   "cell_type": "markdown",
   "id": "70bce2c8-598c-43a5-b195-2a26c4e39afb",
   "metadata": {},
   "source": [
    "##### 1.1 Download this dataset to local, and read and load it as a dictionary. \n",
    "##### https://github.com/mwaskom/seaborn-data/blob/master/car_crashes.csv"
   ]
  },
  {
   "cell_type": "code",
   "execution_count": null,
   "id": "bcf1c652-a14e-4771-8d2f-8bccfad1ea63",
   "metadata": {},
   "outputs": [],
   "source": []
  },
  {
   "cell_type": "code",
   "execution_count": null,
   "id": "bce8dfe5-1cea-40a0-834e-c342137a1768",
   "metadata": {},
   "outputs": [],
   "source": [
    "# after loading the data, run:\n",
    "carcrashes"
   ]
  },
  {
   "cell_type": "markdown",
   "id": "8d70c726-d58f-446f-b161-4de831e16cf4",
   "metadata": {},
   "source": [
    "##### 1.2 Sort out all the user that has an alcohol level greater than 7. Save those into a new dictionary, then save to local file, and name it as Drunk_driver.csv"
   ]
  },
  {
   "cell_type": "code",
   "execution_count": null,
   "id": "bdb1fbdd-230e-4ee7-a192-b7fa93d89f66",
   "metadata": {},
   "outputs": [],
   "source": [
    "# If done correctly this should print out the infor for drunk drivers.\n",
    "with open('Drunk_driver.csv', 'r') as file:\n",
    "    content = file.read()\n",
    "    print(content)"
   ]
  },
  {
   "cell_type": "markdown",
   "id": "64157fd6-ec13-4bf1-94c7-f6823df90028",
   "metadata": {},
   "source": [
    "##### 1.3 Among the drunk drivers, check how many of them had not-distraction level lower than 10.\n",
    "##### Save another file, name it as Drunk_distracted_driver.csv"
   ]
  },
  {
   "cell_type": "code",
   "execution_count": null,
   "id": "aba4ed87-4953-4691-bdf6-29aace4e258f",
   "metadata": {},
   "outputs": [],
   "source": [
    "# If done correctly this should print out the infor for drunk drivers.\n",
    "with open('Drunk_distracted_driver.csv', 'r') as file:\n",
    "    content = file.read()\n",
    "    print(content)"
   ]
  },
  {
   "cell_type": "markdown",
   "id": "d21e340e-8bcf-41b0-958f-97ca8d978b91",
   "metadata": {},
   "source": [
    "### P2\n",
    "##### 2.1 Download this dataset to local, and read and load it as a dictionary.  \n",
    "##### https://github.com/mwaskom/seaborn-data/blob/master/healthexp.csv"
   ]
  },
  {
   "cell_type": "code",
   "execution_count": 5,
   "id": "0e0a9ac6-c3aa-4156-a877-88a7e0b3cd6e",
   "metadata": {},
   "outputs": [],
   "source": [
    "import pandas as pd"
   ]
  },
  {
   "cell_type": "markdown",
   "id": "63c1a8a0-0e62-483e-a479-5b8c38ee3ac7",
   "metadata": {},
   "source": [
    "##### There are alot of information that you can get from a dataset. Here are some examples."
   ]
  },
  {
   "cell_type": "code",
   "execution_count": 6,
   "id": "fdf7ba54-2398-46d0-8720-0b5b38041f91",
   "metadata": {},
   "outputs": [
    {
     "data": {
      "text/html": [
       "<div>\n",
       "<style scoped>\n",
       "    .dataframe tbody tr th:only-of-type {\n",
       "        vertical-align: middle;\n",
       "    }\n",
       "\n",
       "    .dataframe tbody tr th {\n",
       "        vertical-align: top;\n",
       "    }\n",
       "\n",
       "    .dataframe thead th {\n",
       "        text-align: right;\n",
       "    }\n",
       "</style>\n",
       "<table border=\"1\" class=\"dataframe\">\n",
       "  <thead>\n",
       "    <tr style=\"text-align: right;\">\n",
       "      <th></th>\n",
       "      <th>Year</th>\n",
       "      <th>Spending_USD</th>\n",
       "      <th>Life_Expectancy</th>\n",
       "    </tr>\n",
       "  </thead>\n",
       "  <tbody>\n",
       "    <tr>\n",
       "      <th>count</th>\n",
       "      <td>274.000000</td>\n",
       "      <td>274.000000</td>\n",
       "      <td>274.000000</td>\n",
       "    </tr>\n",
       "    <tr>\n",
       "      <th>mean</th>\n",
       "      <td>1996.992701</td>\n",
       "      <td>2789.338905</td>\n",
       "      <td>77.909489</td>\n",
       "    </tr>\n",
       "    <tr>\n",
       "      <th>std</th>\n",
       "      <td>14.180933</td>\n",
       "      <td>2194.939785</td>\n",
       "      <td>3.276263</td>\n",
       "    </tr>\n",
       "    <tr>\n",
       "      <th>min</th>\n",
       "      <td>1970.000000</td>\n",
       "      <td>123.993000</td>\n",
       "      <td>70.600000</td>\n",
       "    </tr>\n",
       "    <tr>\n",
       "      <th>25%</th>\n",
       "      <td>1985.250000</td>\n",
       "      <td>1038.357000</td>\n",
       "      <td>75.525000</td>\n",
       "    </tr>\n",
       "    <tr>\n",
       "      <th>50%</th>\n",
       "      <td>1998.000000</td>\n",
       "      <td>2295.578000</td>\n",
       "      <td>78.100000</td>\n",
       "    </tr>\n",
       "    <tr>\n",
       "      <th>75%</th>\n",
       "      <td>2009.000000</td>\n",
       "      <td>4055.610000</td>\n",
       "      <td>80.575000</td>\n",
       "    </tr>\n",
       "    <tr>\n",
       "      <th>max</th>\n",
       "      <td>2020.000000</td>\n",
       "      <td>11859.179000</td>\n",
       "      <td>84.700000</td>\n",
       "    </tr>\n",
       "  </tbody>\n",
       "</table>\n",
       "</div>"
      ],
      "text/plain": [
       "              Year  Spending_USD  Life_Expectancy\n",
       "count   274.000000    274.000000       274.000000\n",
       "mean   1996.992701   2789.338905        77.909489\n",
       "std      14.180933   2194.939785         3.276263\n",
       "min    1970.000000    123.993000        70.600000\n",
       "25%    1985.250000   1038.357000        75.525000\n",
       "50%    1998.000000   2295.578000        78.100000\n",
       "75%    2009.000000   4055.610000        80.575000\n",
       "max    2020.000000  11859.179000        84.700000"
      ]
     },
     "execution_count": 6,
     "metadata": {},
     "output_type": "execute_result"
    }
   ],
   "source": [
    "#\n",
    "df = dataset\n",
    "df.describe()"
   ]
  },
  {
   "cell_type": "code",
   "execution_count": 8,
   "id": "abe6dc57-eef9-4a68-8633-34f4a03e385b",
   "metadata": {},
   "outputs": [
    {
     "data": {
      "text/html": [
       "<div>\n",
       "<style scoped>\n",
       "    .dataframe tbody tr th:only-of-type {\n",
       "        vertical-align: middle;\n",
       "    }\n",
       "\n",
       "    .dataframe tbody tr th {\n",
       "        vertical-align: top;\n",
       "    }\n",
       "\n",
       "    .dataframe thead th {\n",
       "        text-align: right;\n",
       "    }\n",
       "</style>\n",
       "<table border=\"1\" class=\"dataframe\">\n",
       "  <thead>\n",
       "    <tr style=\"text-align: right;\">\n",
       "      <th></th>\n",
       "      <th>Year</th>\n",
       "      <th>Country</th>\n",
       "      <th>Spending_USD</th>\n",
       "      <th>Life_Expectancy</th>\n",
       "    </tr>\n",
       "  </thead>\n",
       "  <tbody>\n",
       "    <tr>\n",
       "      <th>0</th>\n",
       "      <td>1970</td>\n",
       "      <td>Germany</td>\n",
       "      <td>252.311</td>\n",
       "      <td>70.6</td>\n",
       "    </tr>\n",
       "    <tr>\n",
       "      <th>1</th>\n",
       "      <td>1970</td>\n",
       "      <td>France</td>\n",
       "      <td>192.143</td>\n",
       "      <td>72.2</td>\n",
       "    </tr>\n",
       "    <tr>\n",
       "      <th>2</th>\n",
       "      <td>1970</td>\n",
       "      <td>Great Britain</td>\n",
       "      <td>123.993</td>\n",
       "      <td>71.9</td>\n",
       "    </tr>\n",
       "    <tr>\n",
       "      <th>3</th>\n",
       "      <td>1970</td>\n",
       "      <td>Japan</td>\n",
       "      <td>150.437</td>\n",
       "      <td>72.0</td>\n",
       "    </tr>\n",
       "    <tr>\n",
       "      <th>4</th>\n",
       "      <td>1970</td>\n",
       "      <td>USA</td>\n",
       "      <td>326.961</td>\n",
       "      <td>70.9</td>\n",
       "    </tr>\n",
       "  </tbody>\n",
       "</table>\n",
       "</div>"
      ],
      "text/plain": [
       "   Year        Country  Spending_USD  Life_Expectancy\n",
       "0  1970        Germany       252.311             70.6\n",
       "1  1970         France       192.143             72.2\n",
       "2  1970  Great Britain       123.993             71.9\n",
       "3  1970          Japan       150.437             72.0\n",
       "4  1970            USA       326.961             70.9"
      ]
     },
     "execution_count": 8,
     "metadata": {},
     "output_type": "execute_result"
    }
   ],
   "source": [
    "df.head()"
   ]
  },
  {
   "cell_type": "markdown",
   "id": "0b6bf4fd-c59a-450a-840c-e8f5b0f3cef4",
   "metadata": {},
   "source": [
    "##### 2.2 Summarize the data and write a local file to save the summary\n",
    "##### the summary should have:\n",
    "##### The average Spending_USD and life_expectancy for Germany\n",
    "##### The average Spending_USD and life_expectancy for USA\n",
    "##### The average sSpending_USD and life_expectancy for Japan"
   ]
  },
  {
   "cell_type": "code",
   "execution_count": null,
   "id": "3b93faf4-36bf-43cb-9b95-693a81921374",
   "metadata": {},
   "outputs": [],
   "source": []
  },
  {
   "cell_type": "markdown",
   "id": "0aaceef9-39ad-4280-a113-a426d4be619e",
   "metadata": {},
   "source": [
    "##### Bonus1. Find out the mean for each country\n",
    "##### Bonus2. Plot the means for each country out on a 2D plot. Example of how to plot: \n",
    "##### https://seaborn.pydata.org/tutorial/relational.html\n",
    "##### Bonus3. "
   ]
  }
 ],
 "metadata": {
  "kernelspec": {
   "display_name": "Python 3 (ipykernel)",
   "language": "python",
   "name": "python3"
  },
  "language_info": {
   "codemirror_mode": {
    "name": "ipython",
    "version": 3
   },
   "file_extension": ".py",
   "mimetype": "text/x-python",
   "name": "python",
   "nbconvert_exporter": "python",
   "pygments_lexer": "ipython3",
   "version": "3.11.7"
  }
 },
 "nbformat": 4,
 "nbformat_minor": 5
}
